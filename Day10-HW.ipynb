{
 "cells": [
  {
   "cell_type": "markdown",
   "id": "5fdfb18e-ca5f-4f5f-89be-41becc33d768",
   "metadata": {},
   "source": [
    "## Introduction to Data Science\n",
    "\n",
    "#### University of Redlands - DATA 101\n",
    "#### Prof: Joanna Bieri [joanna_bieri@redlands.edu](mailto:joanna_bieri@redlands.edu)\n",
    "#### [Class Website: data101.joannabieri.com](https://joannabieri.com/data101.html)\n",
    "\n",
    "---------------------------------------\n",
    "# Homework Day 10\n",
    "---------------------------------------\n",
    "\n",
    "GOALS:\n",
    "\n",
    "1. Practice the principles of good data visualization.\n",
    "2. Work on more advanced plotting.\n",
    "\n",
    "----------------------------------------------------------\n",
    "\n",
    "This homework has **5 questions** and **2 exercises**.\n"
   ]
  },
  {
   "cell_type": "code",
   "execution_count": 1,
   "id": "d0153569-41e3-4696-9b34-83ba90a0b5cf",
   "metadata": {},
   "outputs": [],
   "source": [
    "import numpy as np\n",
    "import pandas as pd\n",
    "\n",
    "import matplotlib.pyplot as plt\n",
    "import plotly.express as px\n",
    "from plotly.subplots import make_subplots\n",
    "import plotly.io as pio\n",
    "pio.renderers.defaule = 'colab'\n",
    "\n",
    "from itables import show\n",
    "\n",
    "# This stops a few warning messages from showing\n",
    "pd.options.mode.chained_assignment = None \n",
    "import warnings\n",
    "warnings.simplefilter(action='ignore', category=FutureWarning)"
   ]
  },
  {
   "cell_type": "code",
   "execution_count": 12,
   "id": "f04534cf-2528-4945-b330-85488a6beb94",
   "metadata": {},
   "outputs": [],
   "source": [
    "file_name = 'data/brexit.csv'\n",
    "DF = pd.read_csv(file_name)"
   ]
  },
  {
   "cell_type": "markdown",
   "id": "8475cd35-0915-44d5-93b5-ba44258050a7",
   "metadata": {},
   "source": [
    "## Do opinions about Brexit depend on region?\n",
    "\n",
    "**Am I clearly answering my question with these pictures?**"
   ]
  },
  {
   "cell_type": "code",
   "execution_count": 15,
   "id": "2d4227ac-cb9b-494e-a180-7573fb99523a",
   "metadata": {},
   "outputs": [],
   "source": [
    "mask = DF['location'] != 'total'\n",
    "DF_plot=DF[mask]\n",
    "\n",
    "DF_plot['location'].replace('london','London',inplace=True)\n",
    "DF_plot['location'].replace('rest_of_south','Rest of South',inplace=True)\n",
    "DF_plot['location'].replace('midlands_wales','Midlands and Wales',inplace=True)\n",
    "DF_plot['location'].replace('north','North',inplace=True)\n",
    "DF_plot['location'].replace('scot','Scotland',inplace=True)"
   ]
  },
  {
   "cell_type": "code",
   "execution_count": 32,
   "id": "86742477-b441-4a63-af20-7dcf56bb560a",
   "metadata": {},
   "outputs": [
    {
     "data": {
      "application/vnd.plotly.v1+json": {
       "config": {
        "plotlyServerURL": "https://plot.ly"
       },
       "data": [
        {
         "alignmentgroup": "True",
         "hovertemplate": "vote=Right<br>count=%{x}<br>location=%{y}<extra></extra>",
         "legendgroup": "Right",
         "marker": {
          "color": "rgb(136, 204, 238)",
          "pattern": {
           "shape": ""
          }
         },
         "name": "Right",
         "offsetgroup": "Right",
         "orientation": "h",
         "showlegend": true,
         "textposition": "auto",
         "type": "bar",
         "x": [
          63,
          241,
          145,
          176,
          39
         ],
         "xaxis": "x",
         "y": [
          "London",
          "Rest of South",
          "Midlands and Wales",
          "North",
          "Scotland"
         ],
         "yaxis": "y"
        },
        {
         "alignmentgroup": "True",
         "hovertemplate": "vote=Wrong<br>count=%{x}<br>location=%{y}<extra></extra>",
         "legendgroup": "Wrong",
         "marker": {
          "color": "rgb(204, 102, 119)",
          "pattern": {
           "shape": ""
          }
         },
         "name": "Wrong",
         "offsetgroup": "Wrong",
         "orientation": "h",
         "showlegend": true,
         "textposition": "auto",
         "type": "bar",
         "x": [
          110,
          257,
          152,
          176,
          92
         ],
         "xaxis": "x",
         "y": [
          "London",
          "Rest of South",
          "Midlands and Wales",
          "North",
          "Scotland"
         ],
         "yaxis": "y"
        },
        {
         "alignmentgroup": "True",
         "hovertemplate": "vote=Don’t know<br>count=%{x}<br>location=%{y}<extra></extra>",
         "legendgroup": "Don’t know",
         "marker": {
          "color": "rgb(221, 204, 119)",
          "pattern": {
           "shape": ""
          }
         },
         "name": "Don’t know",
         "offsetgroup": "Don’t know",
         "orientation": "h",
         "showlegend": true,
         "textposition": "auto",
         "type": "bar",
         "x": [
          24,
          49,
          57,
          48,
          10
         ],
         "xaxis": "x",
         "y": [
          "London",
          "Rest of South",
          "Midlands and Wales",
          "North",
          "Scotland"
         ],
         "yaxis": "y"
        }
       ],
       "layout": {
        "autosize": false,
        "barmode": "relative",
        "height": 500,
        "legend": {
         "title": {
          "text": "vote"
         },
         "tracegroupgap": 0
        },
        "margin": {
         "t": 60
        },
        "template": {
         "data": {
          "bar": [
           {
            "error_x": {
             "color": "rgb(51,51,51)"
            },
            "error_y": {
             "color": "rgb(51,51,51)"
            },
            "marker": {
             "line": {
              "color": "rgb(237,237,237)",
              "width": 0.5
             },
             "pattern": {
              "fillmode": "overlay",
              "size": 10,
              "solidity": 0.2
             }
            },
            "type": "bar"
           }
          ],
          "barpolar": [
           {
            "marker": {
             "line": {
              "color": "rgb(237,237,237)",
              "width": 0.5
             },
             "pattern": {
              "fillmode": "overlay",
              "size": 10,
              "solidity": 0.2
             }
            },
            "type": "barpolar"
           }
          ],
          "carpet": [
           {
            "aaxis": {
             "endlinecolor": "rgb(51,51,51)",
             "gridcolor": "white",
             "linecolor": "white",
             "minorgridcolor": "white",
             "startlinecolor": "rgb(51,51,51)"
            },
            "baxis": {
             "endlinecolor": "rgb(51,51,51)",
             "gridcolor": "white",
             "linecolor": "white",
             "minorgridcolor": "white",
             "startlinecolor": "rgb(51,51,51)"
            },
            "type": "carpet"
           }
          ],
          "choropleth": [
           {
            "colorbar": {
             "outlinewidth": 0,
             "tickcolor": "rgb(237,237,237)",
             "ticklen": 6,
             "ticks": "inside"
            },
            "type": "choropleth"
           }
          ],
          "contour": [
           {
            "colorbar": {
             "outlinewidth": 0,
             "tickcolor": "rgb(237,237,237)",
             "ticklen": 6,
             "ticks": "inside"
            },
            "colorscale": [
             [
              0,
              "rgb(20,44,66)"
             ],
             [
              1,
              "rgb(90,179,244)"
             ]
            ],
            "type": "contour"
           }
          ],
          "contourcarpet": [
           {
            "colorbar": {
             "outlinewidth": 0,
             "tickcolor": "rgb(237,237,237)",
             "ticklen": 6,
             "ticks": "inside"
            },
            "type": "contourcarpet"
           }
          ],
          "heatmap": [
           {
            "colorbar": {
             "outlinewidth": 0,
             "tickcolor": "rgb(237,237,237)",
             "ticklen": 6,
             "ticks": "inside"
            },
            "colorscale": [
             [
              0,
              "rgb(20,44,66)"
             ],
             [
              1,
              "rgb(90,179,244)"
             ]
            ],
            "type": "heatmap"
           }
          ],
          "heatmapgl": [
           {
            "colorbar": {
             "outlinewidth": 0,
             "tickcolor": "rgb(237,237,237)",
             "ticklen": 6,
             "ticks": "inside"
            },
            "colorscale": [
             [
              0,
              "rgb(20,44,66)"
             ],
             [
              1,
              "rgb(90,179,244)"
             ]
            ],
            "type": "heatmapgl"
           }
          ],
          "histogram": [
           {
            "marker": {
             "pattern": {
              "fillmode": "overlay",
              "size": 10,
              "solidity": 0.2
             }
            },
            "type": "histogram"
           }
          ],
          "histogram2d": [
           {
            "colorbar": {
             "outlinewidth": 0,
             "tickcolor": "rgb(237,237,237)",
             "ticklen": 6,
             "ticks": "inside"
            },
            "colorscale": [
             [
              0,
              "rgb(20,44,66)"
             ],
             [
              1,
              "rgb(90,179,244)"
             ]
            ],
            "type": "histogram2d"
           }
          ],
          "histogram2dcontour": [
           {
            "colorbar": {
             "outlinewidth": 0,
             "tickcolor": "rgb(237,237,237)",
             "ticklen": 6,
             "ticks": "inside"
            },
            "colorscale": [
             [
              0,
              "rgb(20,44,66)"
             ],
             [
              1,
              "rgb(90,179,244)"
             ]
            ],
            "type": "histogram2dcontour"
           }
          ],
          "mesh3d": [
           {
            "colorbar": {
             "outlinewidth": 0,
             "tickcolor": "rgb(237,237,237)",
             "ticklen": 6,
             "ticks": "inside"
            },
            "type": "mesh3d"
           }
          ],
          "parcoords": [
           {
            "line": {
             "colorbar": {
              "outlinewidth": 0,
              "tickcolor": "rgb(237,237,237)",
              "ticklen": 6,
              "ticks": "inside"
             }
            },
            "type": "parcoords"
           }
          ],
          "pie": [
           {
            "automargin": true,
            "type": "pie"
           }
          ],
          "scatter": [
           {
            "fillpattern": {
             "fillmode": "overlay",
             "size": 10,
             "solidity": 0.2
            },
            "type": "scatter"
           }
          ],
          "scatter3d": [
           {
            "line": {
             "colorbar": {
              "outlinewidth": 0,
              "tickcolor": "rgb(237,237,237)",
              "ticklen": 6,
              "ticks": "inside"
             }
            },
            "marker": {
             "colorbar": {
              "outlinewidth": 0,
              "tickcolor": "rgb(237,237,237)",
              "ticklen": 6,
              "ticks": "inside"
             }
            },
            "type": "scatter3d"
           }
          ],
          "scattercarpet": [
           {
            "marker": {
             "colorbar": {
              "outlinewidth": 0,
              "tickcolor": "rgb(237,237,237)",
              "ticklen": 6,
              "ticks": "inside"
             }
            },
            "type": "scattercarpet"
           }
          ],
          "scattergeo": [
           {
            "marker": {
             "colorbar": {
              "outlinewidth": 0,
              "tickcolor": "rgb(237,237,237)",
              "ticklen": 6,
              "ticks": "inside"
             }
            },
            "type": "scattergeo"
           }
          ],
          "scattergl": [
           {
            "marker": {
             "colorbar": {
              "outlinewidth": 0,
              "tickcolor": "rgb(237,237,237)",
              "ticklen": 6,
              "ticks": "inside"
             }
            },
            "type": "scattergl"
           }
          ],
          "scattermapbox": [
           {
            "marker": {
             "colorbar": {
              "outlinewidth": 0,
              "tickcolor": "rgb(237,237,237)",
              "ticklen": 6,
              "ticks": "inside"
             }
            },
            "type": "scattermapbox"
           }
          ],
          "scatterpolar": [
           {
            "marker": {
             "colorbar": {
              "outlinewidth": 0,
              "tickcolor": "rgb(237,237,237)",
              "ticklen": 6,
              "ticks": "inside"
             }
            },
            "type": "scatterpolar"
           }
          ],
          "scatterpolargl": [
           {
            "marker": {
             "colorbar": {
              "outlinewidth": 0,
              "tickcolor": "rgb(237,237,237)",
              "ticklen": 6,
              "ticks": "inside"
             }
            },
            "type": "scatterpolargl"
           }
          ],
          "scatterternary": [
           {
            "marker": {
             "colorbar": {
              "outlinewidth": 0,
              "tickcolor": "rgb(237,237,237)",
              "ticklen": 6,
              "ticks": "inside"
             }
            },
            "type": "scatterternary"
           }
          ],
          "surface": [
           {
            "colorbar": {
             "outlinewidth": 0,
             "tickcolor": "rgb(237,237,237)",
             "ticklen": 6,
             "ticks": "inside"
            },
            "colorscale": [
             [
              0,
              "rgb(20,44,66)"
             ],
             [
              1,
              "rgb(90,179,244)"
             ]
            ],
            "type": "surface"
           }
          ],
          "table": [
           {
            "cells": {
             "fill": {
              "color": "rgb(237,237,237)"
             },
             "line": {
              "color": "white"
             }
            },
            "header": {
             "fill": {
              "color": "rgb(217,217,217)"
             },
             "line": {
              "color": "white"
             }
            },
            "type": "table"
           }
          ]
         },
         "layout": {
          "annotationdefaults": {
           "arrowhead": 0,
           "arrowwidth": 1
          },
          "autotypenumbers": "strict",
          "coloraxis": {
           "colorbar": {
            "outlinewidth": 0,
            "tickcolor": "rgb(237,237,237)",
            "ticklen": 6,
            "ticks": "inside"
           }
          },
          "colorscale": {
           "sequential": [
            [
             0,
             "rgb(20,44,66)"
            ],
            [
             1,
             "rgb(90,179,244)"
            ]
           ],
           "sequentialminus": [
            [
             0,
             "rgb(20,44,66)"
            ],
            [
             1,
             "rgb(90,179,244)"
            ]
           ]
          },
          "colorway": [
           "#F8766D",
           "#A3A500",
           "#00BF7D",
           "#00B0F6",
           "#E76BF3"
          ],
          "font": {
           "color": "rgb(51,51,51)"
          },
          "geo": {
           "bgcolor": "white",
           "lakecolor": "white",
           "landcolor": "rgb(237,237,237)",
           "showlakes": true,
           "showland": true,
           "subunitcolor": "white"
          },
          "hoverlabel": {
           "align": "left"
          },
          "hovermode": "closest",
          "paper_bgcolor": "white",
          "plot_bgcolor": "rgb(237,237,237)",
          "polar": {
           "angularaxis": {
            "gridcolor": "white",
            "linecolor": "white",
            "showgrid": true,
            "tickcolor": "rgb(51,51,51)",
            "ticks": "outside"
           },
           "bgcolor": "rgb(237,237,237)",
           "radialaxis": {
            "gridcolor": "white",
            "linecolor": "white",
            "showgrid": true,
            "tickcolor": "rgb(51,51,51)",
            "ticks": "outside"
           }
          },
          "scene": {
           "xaxis": {
            "backgroundcolor": "rgb(237,237,237)",
            "gridcolor": "white",
            "gridwidth": 2,
            "linecolor": "white",
            "showbackground": true,
            "showgrid": true,
            "tickcolor": "rgb(51,51,51)",
            "ticks": "outside",
            "zerolinecolor": "white"
           },
           "yaxis": {
            "backgroundcolor": "rgb(237,237,237)",
            "gridcolor": "white",
            "gridwidth": 2,
            "linecolor": "white",
            "showbackground": true,
            "showgrid": true,
            "tickcolor": "rgb(51,51,51)",
            "ticks": "outside",
            "zerolinecolor": "white"
           },
           "zaxis": {
            "backgroundcolor": "rgb(237,237,237)",
            "gridcolor": "white",
            "gridwidth": 2,
            "linecolor": "white",
            "showbackground": true,
            "showgrid": true,
            "tickcolor": "rgb(51,51,51)",
            "ticks": "outside",
            "zerolinecolor": "white"
           }
          },
          "shapedefaults": {
           "fillcolor": "black",
           "line": {
            "width": 0
           },
           "opacity": 0.3
          },
          "ternary": {
           "aaxis": {
            "gridcolor": "white",
            "linecolor": "white",
            "showgrid": true,
            "tickcolor": "rgb(51,51,51)",
            "ticks": "outside"
           },
           "baxis": {
            "gridcolor": "white",
            "linecolor": "white",
            "showgrid": true,
            "tickcolor": "rgb(51,51,51)",
            "ticks": "outside"
           },
           "bgcolor": "rgb(237,237,237)",
           "caxis": {
            "gridcolor": "white",
            "linecolor": "white",
            "showgrid": true,
            "tickcolor": "rgb(51,51,51)",
            "ticks": "outside"
           }
          },
          "xaxis": {
           "automargin": true,
           "gridcolor": "white",
           "linecolor": "white",
           "showgrid": true,
           "tickcolor": "rgb(51,51,51)",
           "ticks": "outside",
           "title": {
            "standoff": 15
           },
           "zerolinecolor": "white"
          },
          "yaxis": {
           "automargin": true,
           "gridcolor": "white",
           "linecolor": "white",
           "showgrid": true,
           "tickcolor": "rgb(51,51,51)",
           "ticks": "outside",
           "title": {
            "standoff": 15
           },
           "zerolinecolor": "white"
          }
         }
        },
        "title": {
         "text": "Count of Votes in YouGov Survey - Location Level"
        },
        "width": 800,
        "xaxis": {
         "anchor": "y",
         "autorange": true,
         "domain": [
          0,
          1
         ],
         "range": [
          0,
          575.7894736842105
         ],
         "title": {
          "text": "Count of Votes"
         },
         "type": "linear"
        },
        "yaxis": {
         "anchor": "x",
         "autorange": true,
         "categoryarray": [
          "London",
          "Rest of South",
          "Midlands and Wales",
          "North",
          "Scotland"
         ],
         "categoryorder": "array",
         "domain": [
          0,
          1
         ],
         "range": [
          -0.5,
          4.5
         ],
         "title": {
          "text": "Vote"
         },
         "type": "category"
        }
       }
      },
      "image/png": "[encoded data removed]",
      "text/html": [
       "<div>                            <div id=\"089f9d81-0bd9-48f6-9875-e2a777bc886c\" class=\"plotly-graph-div\" style=\"height:500px; width:800px;\"></div>            <script type=\"text/javascript\">                require([\"plotly\"], function(Plotly) {                    window.PLOTLYENV=window.PLOTLYENV || {};                                    if (document.getElementById(\"089f9d81-0bd9-48f6-9875-e2a777bc886c\")) {                    Plotly.newPlot(                        \"089f9d81-0bd9-48f6-9875-e2a777bc886c\",                        [{\"alignmentgroup\":\"True\",\"hovertemplate\":\"vote=Right\\u003cbr\\u003ecount=%{x}\\u003cbr\\u003elocation=%{y}\\u003cextra\\u003e\\u003c\\u002fextra\\u003e\",\"legendgroup\":\"Right\",\"marker\":{\"color\":\"rgb(136, 204, 238)\",\"pattern\":{\"shape\":\"\"}},\"name\":\"Right\",\"offsetgroup\":\"Right\",\"orientation\":\"h\",\"showlegend\":true,\"textposition\":\"auto\",\"x\":[63,241,145,176,39],\"xaxis\":\"x\",\"y\":[\"London\",\"Rest of South\",\"Midlands and Wales\",\"North\",\"Scotland\"],\"yaxis\":\"y\",\"type\":\"bar\"},{\"alignmentgroup\":\"True\",\"hovertemplate\":\"vote=Wrong\\u003cbr\\u003ecount=%{x}\\u003cbr\\u003elocation=%{y}\\u003cextra\\u003e\\u003c\\u002fextra\\u003e\",\"legendgroup\":\"Wrong\",\"marker\":{\"color\":\"rgb(204, 102, 119)\",\"pattern\":{\"shape\":\"\"}},\"name\":\"Wrong\",\"offsetgroup\":\"Wrong\",\"orientation\":\"h\",\"showlegend\":true,\"textposition\":\"auto\",\"x\":[110,257,152,176,92],\"xaxis\":\"x\",\"y\":[\"London\",\"Rest of South\",\"Midlands and Wales\",\"North\",\"Scotland\"],\"yaxis\":\"y\",\"type\":\"bar\"},{\"alignmentgroup\":\"True\",\"hovertemplate\":\"vote=Don\\u2019t know\\u003cbr\\u003ecount=%{x}\\u003cbr\\u003elocation=%{y}\\u003cextra\\u003e\\u003c\\u002fextra\\u003e\",\"legendgroup\":\"Don\\u2019t know\",\"marker\":{\"color\":\"rgb(221, 204, 119)\",\"pattern\":{\"shape\":\"\"}},\"name\":\"Don\\u2019t know\",\"offsetgroup\":\"Don\\u2019t know\",\"orientation\":\"h\",\"showlegend\":true,\"textposition\":\"auto\",\"x\":[24,49,57,48,10],\"xaxis\":\"x\",\"y\":[\"London\",\"Rest of South\",\"Midlands and Wales\",\"North\",\"Scotland\"],\"yaxis\":\"y\",\"type\":\"bar\"}],                        {\"template\":{\"data\":{\"barpolar\":[{\"marker\":{\"line\":{\"color\":\"rgb(237,237,237)\",\"width\":0.5},\"pattern\":{\"fillmode\":\"overlay\",\"size\":10,\"solidity\":0.2}},\"type\":\"barpolar\"}],\"bar\":[{\"error_x\":{\"color\":\"rgb(51,51,51)\"},\"error_y\":{\"color\":\"rgb(51,51,51)\"},\"marker\":{\"line\":{\"color\":\"rgb(237,237,237)\",\"width\":0.5},\"pattern\":{\"fillmode\":\"overlay\",\"size\":10,\"solidity\":0.2}},\"type\":\"bar\"}],\"carpet\":[{\"aaxis\":{\"endlinecolor\":\"rgb(51,51,51)\",\"gridcolor\":\"white\",\"linecolor\":\"white\",\"minorgridcolor\":\"white\",\"startlinecolor\":\"rgb(51,51,51)\"},\"baxis\":{\"endlinecolor\":\"rgb(51,51,51)\",\"gridcolor\":\"white\",\"linecolor\":\"white\",\"minorgridcolor\":\"white\",\"startlinecolor\":\"rgb(51,51,51)\"},\"type\":\"carpet\"}],\"choropleth\":[{\"colorbar\":{\"outlinewidth\":0,\"tickcolor\":\"rgb(237,237,237)\",\"ticklen\":6,\"ticks\":\"inside\"},\"type\":\"choropleth\"}],\"contourcarpet\":[{\"colorbar\":{\"outlinewidth\":0,\"tickcolor\":\"rgb(237,237,237)\",\"ticklen\":6,\"ticks\":\"inside\"},\"type\":\"contourcarpet\"}],\"contour\":[{\"colorbar\":{\"outlinewidth\":0,\"tickcolor\":\"rgb(237,237,237)\",\"ticklen\":6,\"ticks\":\"inside\"},\"colorscale\":[[0,\"rgb(20,44,66)\"],[1,\"rgb(90,179,244)\"]],\"type\":\"contour\"}],\"heatmapgl\":[{\"colorbar\":{\"outlinewidth\":0,\"tickcolor\":\"rgb(237,237,237)\",\"ticklen\":6,\"ticks\":\"inside\"},\"colorscale\":[[0,\"rgb(20,44,66)\"],[1,\"rgb(90,179,244)\"]],\"type\":\"heatmapgl\"}],\"heatmap\":[{\"colorbar\":{\"outlinewidth\":0,\"tickcolor\":\"rgb(237,237,237)\",\"ticklen\":6,\"ticks\":\"inside\"},\"colorscale\":[[0,\"rgb(20,44,66)\"],[1,\"rgb(90,179,244)\"]],\"type\":\"heatmap\"}],\"histogram2dcontour\":[{\"colorbar\":{\"outlinewidth\":0,\"tickcolor\":\"rgb(237,237,237)\",\"ticklen\":6,\"ticks\":\"inside\"},\"colorscale\":[[0,\"rgb(20,44,66)\"],[1,\"rgb(90,179,244)\"]],\"type\":\"histogram2dcontour\"}],\"histogram2d\":[{\"colorbar\":{\"outlinewidth\":0,\"tickcolor\":\"rgb(237,237,237)\",\"ticklen\":6,\"ticks\":\"inside\"},\"colorscale\":[[0,\"rgb(20,44,66)\"],[1,\"rgb(90,179,244)\"]],\"type\":\"histogram2d\"}],\"histogram\":[{\"marker\":{\"pattern\":{\"fillmode\":\"overlay\",\"size\":10,\"solidity\":0.2}},\"type\":\"histogram\"}],\"mesh3d\":[{\"colorbar\":{\"outlinewidth\":0,\"tickcolor\":\"rgb(237,237,237)\",\"ticklen\":6,\"ticks\":\"inside\"},\"type\":\"mesh3d\"}],\"parcoords\":[{\"line\":{\"colorbar\":{\"outlinewidth\":0,\"tickcolor\":\"rgb(237,237,237)\",\"ticklen\":6,\"ticks\":\"inside\"}},\"type\":\"parcoords\"}],\"pie\":[{\"automargin\":true,\"type\":\"pie\"}],\"scatter3d\":[{\"line\":{\"colorbar\":{\"outlinewidth\":0,\"tickcolor\":\"rgb(237,237,237)\",\"ticklen\":6,\"ticks\":\"inside\"}},\"marker\":{\"colorbar\":{\"outlinewidth\":0,\"tickcolor\":\"rgb(237,237,237)\",\"ticklen\":6,\"ticks\":\"inside\"}},\"type\":\"scatter3d\"}],\"scattercarpet\":[{\"marker\":{\"colorbar\":{\"outlinewidth\":0,\"tickcolor\":\"rgb(237,237,237)\",\"ticklen\":6,\"ticks\":\"inside\"}},\"type\":\"scattercarpet\"}],\"scattergeo\":[{\"marker\":{\"colorbar\":{\"outlinewidth\":0,\"tickcolor\":\"rgb(237,237,237)\",\"ticklen\":6,\"ticks\":\"inside\"}},\"type\":\"scattergeo\"}],\"scattergl\":[{\"marker\":{\"colorbar\":{\"outlinewidth\":0,\"tickcolor\":\"rgb(237,237,237)\",\"ticklen\":6,\"ticks\":\"inside\"}},\"type\":\"scattergl\"}],\"scattermapbox\":[{\"marker\":{\"colorbar\":{\"outlinewidth\":0,\"tickcolor\":\"rgb(237,237,237)\",\"ticklen\":6,\"ticks\":\"inside\"}},\"type\":\"scattermapbox\"}],\"scatterpolargl\":[{\"marker\":{\"colorbar\":{\"outlinewidth\":0,\"tickcolor\":\"rgb(237,237,237)\",\"ticklen\":6,\"ticks\":\"inside\"}},\"type\":\"scatterpolargl\"}],\"scatterpolar\":[{\"marker\":{\"colorbar\":{\"outlinewidth\":0,\"tickcolor\":\"rgb(237,237,237)\",\"ticklen\":6,\"ticks\":\"inside\"}},\"type\":\"scatterpolar\"}],\"scatter\":[{\"fillpattern\":{\"fillmode\":\"overlay\",\"size\":10,\"solidity\":0.2},\"type\":\"scatter\"}],\"scatterternary\":[{\"marker\":{\"colorbar\":{\"outlinewidth\":0,\"tickcolor\":\"rgb(237,237,237)\",\"ticklen\":6,\"ticks\":\"inside\"}},\"type\":\"scatterternary\"}],\"surface\":[{\"colorbar\":{\"outlinewidth\":0,\"tickcolor\":\"rgb(237,237,237)\",\"ticklen\":6,\"ticks\":\"inside\"},\"colorscale\":[[0,\"rgb(20,44,66)\"],[1,\"rgb(90,179,244)\"]],\"type\":\"surface\"}],\"table\":[{\"cells\":{\"fill\":{\"color\":\"rgb(237,237,237)\"},\"line\":{\"color\":\"white\"}},\"header\":{\"fill\":{\"color\":\"rgb(217,217,217)\"},\"line\":{\"color\":\"white\"}},\"type\":\"table\"}]},\"layout\":{\"annotationdefaults\":{\"arrowhead\":0,\"arrowwidth\":1},\"autotypenumbers\":\"strict\",\"coloraxis\":{\"colorbar\":{\"outlinewidth\":0,\"tickcolor\":\"rgb(237,237,237)\",\"ticklen\":6,\"ticks\":\"inside\"}},\"colorscale\":{\"sequential\":[[0,\"rgb(20,44,66)\"],[1,\"rgb(90,179,244)\"]],\"sequentialminus\":[[0,\"rgb(20,44,66)\"],[1,\"rgb(90,179,244)\"]]},\"colorway\":[\"#F8766D\",\"#A3A500\",\"#00BF7D\",\"#00B0F6\",\"#E76BF3\"],\"font\":{\"color\":\"rgb(51,51,51)\"},\"geo\":{\"bgcolor\":\"white\",\"lakecolor\":\"white\",\"landcolor\":\"rgb(237,237,237)\",\"showlakes\":true,\"showland\":true,\"subunitcolor\":\"white\"},\"hoverlabel\":{\"align\":\"left\"},\"hovermode\":\"closest\",\"paper_bgcolor\":\"white\",\"plot_bgcolor\":\"rgb(237,237,237)\",\"polar\":{\"angularaxis\":{\"gridcolor\":\"white\",\"linecolor\":\"white\",\"showgrid\":true,\"tickcolor\":\"rgb(51,51,51)\",\"ticks\":\"outside\"},\"bgcolor\":\"rgb(237,237,237)\",\"radialaxis\":{\"gridcolor\":\"white\",\"linecolor\":\"white\",\"showgrid\":true,\"tickcolor\":\"rgb(51,51,51)\",\"ticks\":\"outside\"}},\"scene\":{\"xaxis\":{\"backgroundcolor\":\"rgb(237,237,237)\",\"gridcolor\":\"white\",\"gridwidth\":2,\"linecolor\":\"white\",\"showbackground\":true,\"showgrid\":true,\"tickcolor\":\"rgb(51,51,51)\",\"ticks\":\"outside\",\"zerolinecolor\":\"white\"},\"yaxis\":{\"backgroundcolor\":\"rgb(237,237,237)\",\"gridcolor\":\"white\",\"gridwidth\":2,\"linecolor\":\"white\",\"showbackground\":true,\"showgrid\":true,\"tickcolor\":\"rgb(51,51,51)\",\"ticks\":\"outside\",\"zerolinecolor\":\"white\"},\"zaxis\":{\"backgroundcolor\":\"rgb(237,237,237)\",\"gridcolor\":\"white\",\"gridwidth\":2,\"linecolor\":\"white\",\"showbackground\":true,\"showgrid\":true,\"tickcolor\":\"rgb(51,51,51)\",\"ticks\":\"outside\",\"zerolinecolor\":\"white\"}},\"shapedefaults\":{\"fillcolor\":\"black\",\"line\":{\"width\":0},\"opacity\":0.3},\"ternary\":{\"aaxis\":{\"gridcolor\":\"white\",\"linecolor\":\"white\",\"showgrid\":true,\"tickcolor\":\"rgb(51,51,51)\",\"ticks\":\"outside\"},\"baxis\":{\"gridcolor\":\"white\",\"linecolor\":\"white\",\"showgrid\":true,\"tickcolor\":\"rgb(51,51,51)\",\"ticks\":\"outside\"},\"bgcolor\":\"rgb(237,237,237)\",\"caxis\":{\"gridcolor\":\"white\",\"linecolor\":\"white\",\"showgrid\":true,\"tickcolor\":\"rgb(51,51,51)\",\"ticks\":\"outside\"}},\"xaxis\":{\"automargin\":true,\"gridcolor\":\"white\",\"linecolor\":\"white\",\"showgrid\":true,\"tickcolor\":\"rgb(51,51,51)\",\"ticks\":\"outside\",\"title\":{\"standoff\":15},\"zerolinecolor\":\"white\"},\"yaxis\":{\"automargin\":true,\"gridcolor\":\"white\",\"linecolor\":\"white\",\"showgrid\":true,\"tickcolor\":\"rgb(51,51,51)\",\"ticks\":\"outside\",\"title\":{\"standoff\":15},\"zerolinecolor\":\"white\"}}},\"xaxis\":{\"anchor\":\"y\",\"domain\":[0.0,1.0],\"title\":{\"text\":\"Count of Votes\"}},\"yaxis\":{\"anchor\":\"x\",\"domain\":[0.0,1.0],\"title\":{\"text\":\"Vote\"},\"categoryorder\":\"array\",\"categoryarray\":[\"London\",\"Rest of South\",\"Midlands and Wales\",\"North\",\"Scotland\"]},\"legend\":{\"title\":{\"text\":\"vote\"},\"tracegroupgap\":0},\"margin\":{\"t\":60},\"barmode\":\"relative\",\"title\":{\"text\":\"Count of Votes in YouGov Survey - Location Level\"},\"autosize\":false,\"width\":800,\"height\":500},                        {\"responsive\": true}                    ).then(function(){\n",
       "                            \n",
       "var gd = document.getElementById('089f9d81-0bd9-48f6-9875-e2a777bc886c');\n",
       "var x = new MutationObserver(function (mutations, observer) {{\n",
       "        var display = window.getComputedStyle(gd).display;\n",
       "        if (!display || display === 'none') {{\n",
       "            console.log([gd, 'removed!']);\n",
       "            Plotly.purge(gd);\n",
       "            observer.disconnect();\n",
       "        }}\n",
       "}});\n",
       "\n",
       "// Listen for the removal of the full notebook cells\n",
       "var notebookContainer = gd.closest('#notebook-container');\n",
       "if (notebookContainer) {{\n",
       "    x.observe(notebookContainer, {childList: true});\n",
       "}}\n",
       "\n",
       "// Listen for the clearing of the current output cell\n",
       "var outputEl = gd.closest('.output');\n",
       "if (outputEl) {{\n",
       "    x.observe(outputEl, {childList: true});\n",
       "}}\n",
       "\n",
       "                        })                };                });            </script>        </div>"
      ]
     },
     "metadata": {},
     "output_type": "display_data"
    }
   ],
   "source": [
    "my_categories = ['London','Rest of South','Midlands and Wales','North','Scotland']\n",
    "\n",
    "fig = px.bar(DF_plot,y='location',x='count',\n",
    "             color='vote',\n",
    "             color_discrete_sequence=px.colors.qualitative.Safe)\n",
    "\n",
    "fig.update_layout(yaxis={'categoryorder': 'array', 'categoryarray': my_categories },\n",
    "                  title='Count of Votes in YouGov Survey - Location Level',\n",
    "                  xaxis_title=\"Count of Votes\",\n",
    "                  yaxis_title=\"Vote\",\n",
    "                  template='ggplot2',\n",
    "                  autosize=False,\n",
    "                  width=800,\n",
    "                  height=500)\n",
    "\n",
    "fig.show()"
   ]
  },
  {
   "cell_type": "code",
   "execution_count": 19,
   "id": "a8376951-26d6-401a-bae5-bf8f49f28ab9",
   "metadata": {},
   "outputs": [
    {
     "data": {
      "application/vnd.plotly.v1+json": {
       "config": {
        "plotlyServerURL": "https://plot.ly"
       },
       "data": [
        {
         "alignmentgroup": "True",
         "hovertemplate": "location=London<br>count=%{x}<br>vote=%{y}<extra></extra>",
         "legendgroup": "London",
         "marker": {
          "color": "rgb(136, 204, 238)",
          "pattern": {
           "shape": ""
          }
         },
         "name": "London",
         "offsetgroup": "London",
         "orientation": "h",
         "showlegend": true,
         "textposition": "auto",
         "type": "bar",
         "x": [
          63,
          110,
          24
         ],
         "xaxis": "x",
         "y": [
          "Right",
          "Wrong",
          "Don’t know"
         ],
         "yaxis": "y"
        },
        {
         "alignmentgroup": "True",
         "hovertemplate": "location=Rest of South<br>count=%{x}<br>vote=%{y}<extra></extra>",
         "legendgroup": "Rest of South",
         "marker": {
          "color": "rgb(204, 102, 119)",
          "pattern": {
           "shape": ""
          }
         },
         "name": "Rest of South",
         "offsetgroup": "Rest of South",
         "orientation": "h",
         "showlegend": true,
         "textposition": "auto",
         "type": "bar",
         "x": [
          241,
          257,
          49
         ],
         "xaxis": "x2",
         "y": [
          "Right",
          "Wrong",
          "Don’t know"
         ],
         "yaxis": "y2"
        },
        {
         "alignmentgroup": "True",
         "hovertemplate": "location=Midlands and Wales<br>count=%{x}<br>vote=%{y}<extra></extra>",
         "legendgroup": "Midlands and Wales",
         "marker": {
          "color": "rgb(221, 204, 119)",
          "pattern": {
           "shape": ""
          }
         },
         "name": "Midlands and Wales",
         "offsetgroup": "Midlands and Wales",
         "orientation": "h",
         "showlegend": true,
         "textposition": "auto",
         "type": "bar",
         "x": [
          145,
          152,
          57
         ],
         "xaxis": "x3",
         "y": [
          "Right",
          "Wrong",
          "Don’t know"
         ],
         "yaxis": "y3"
        },
        {
         "alignmentgroup": "True",
         "hovertemplate": "location=North<br>count=%{x}<br>vote=%{y}<extra></extra>",
         "legendgroup": "North",
         "marker": {
          "color": "rgb(17, 119, 51)",
          "pattern": {
           "shape": ""
          }
         },
         "name": "North",
         "offsetgroup": "North",
         "orientation": "h",
         "showlegend": true,
         "textposition": "auto",
         "type": "bar",
         "x": [
          176,
          176,
          48
         ],
         "xaxis": "x4",
         "y": [
          "Right",
          "Wrong",
          "Don’t know"
         ],
         "yaxis": "y4"
        },
        {
         "alignmentgroup": "True",
         "hovertemplate": "location=Scotland<br>count=%{x}<br>vote=%{y}<extra></extra>",
         "legendgroup": "Scotland",
         "marker": {
          "color": "rgb(51, 34, 136)",
          "pattern": {
           "shape": ""
          }
         },
         "name": "Scotland",
         "offsetgroup": "Scotland",
         "orientation": "h",
         "showlegend": true,
         "textposition": "auto",
         "type": "bar",
         "x": [
          39,
          92,
          10
         ],
         "xaxis": "x5",
         "y": [
          "Right",
          "Wrong",
          "Don’t know"
         ],
         "yaxis": "y5"
        }
       ],
       "layout": {
        "annotations": [
         {
          "font": {},
          "showarrow": false,
          "text": "London",
          "x": 0.09200000000000001,
          "xanchor": "center",
          "xref": "paper",
          "y": 1,
          "yanchor": "bottom",
          "yref": "paper"
         },
         {
          "font": {},
          "showarrow": false,
          "text": "Rest of South",
          "x": 0.29600000000000004,
          "xanchor": "center",
          "xref": "paper",
          "y": 1,
          "yanchor": "bottom",
          "yref": "paper"
         },
         {
          "font": {},
          "showarrow": false,
          "text": "Midlands and Wales",
          "x": 0.5,
          "xanchor": "center",
          "xref": "paper",
          "y": 1,
          "yanchor": "bottom",
          "yref": "paper"
         },
         {
          "font": {},
          "showarrow": false,
          "text": "North",
          "x": 0.7040000000000002,
          "xanchor": "center",
          "xref": "paper",
          "y": 1,
          "yanchor": "bottom",
          "yref": "paper"
         },
         {
          "font": {},
          "showarrow": false,
          "text": "Scotland",
          "x": 0.908,
          "xanchor": "center",
          "xref": "paper",
          "y": 1,
          "yanchor": "bottom",
          "yref": "paper"
         }
        ],
        "autosize": false,
        "barmode": "relative",
        "height": 500,
        "legend": {
         "title": {
          "text": "Location"
         },
         "tracegroupgap": 0
        },
        "margin": {
         "t": 60
        },
        "template": {
         "data": {
          "bar": [
           {
            "error_x": {
             "color": "rgb(51,51,51)"
            },
            "error_y": {
             "color": "rgb(51,51,51)"
            },
            "marker": {
             "line": {
              "color": "rgb(237,237,237)",
              "width": 0.5
             },
             "pattern": {
              "fillmode": "overlay",
              "size": 10,
              "solidity": 0.2
             }
            },
            "type": "bar"
           }
          ],
          "barpolar": [
           {
            "marker": {
             "line": {
              "color": "rgb(237,237,237)",
              "width": 0.5
             },
             "pattern": {
              "fillmode": "overlay",
              "size": 10,
              "solidity": 0.2
             }
            },
            "type": "barpolar"
           }
          ],
          "carpet": [
           {
            "aaxis": {
             "endlinecolor": "rgb(51,51,51)",
             "gridcolor": "white",
             "linecolor": "white",
             "minorgridcolor": "white",
             "startlinecolor": "rgb(51,51,51)"
            },
            "baxis": {
             "endlinecolor": "rgb(51,51,51)",
             "gridcolor": "white",
             "linecolor": "white",
             "minorgridcolor": "white",
             "startlinecolor": "rgb(51,51,51)"
            },
            "type": "carpet"
           }
          ],
          "choropleth": [
           {
            "colorbar": {
             "outlinewidth": 0,
             "tickcolor": "rgb(237,237,237)",
             "ticklen": 6,
             "ticks": "inside"
            },
            "type": "choropleth"
           }
          ],
          "contour": [
           {
            "colorbar": {
             "outlinewidth": 0,
             "tickcolor": "rgb(237,237,237)",
             "ticklen": 6,
             "ticks": "inside"
            },
            "colorscale": [
             [
              0,
              "rgb(20,44,66)"
             ],
             [
              1,
              "rgb(90,179,244)"
             ]
            ],
            "type": "contour"
           }
          ],
          "contourcarpet": [
           {
            "colorbar": {
             "outlinewidth": 0,
             "tickcolor": "rgb(237,237,237)",
             "ticklen": 6,
             "ticks": "inside"
            },
            "type": "contourcarpet"
           }
          ],
          "heatmap": [
           {
            "colorbar": {
             "outlinewidth": 0,
             "tickcolor": "rgb(237,237,237)",
             "ticklen": 6,
             "ticks": "inside"
            },
            "colorscale": [
             [
              0,
              "rgb(20,44,66)"
             ],
             [
              1,
              "rgb(90,179,244)"
             ]
            ],
            "type": "heatmap"
           }
          ],
          "heatmapgl": [
           {
            "colorbar": {
             "outlinewidth": 0,
             "tickcolor": "rgb(237,237,237)",
             "ticklen": 6,
             "ticks": "inside"
            },
            "colorscale": [
             [
              0,
              "rgb(20,44,66)"
             ],
             [
              1,
              "rgb(90,179,244)"
             ]
            ],
            "type": "heatmapgl"
           }
          ],
          "histogram": [
           {
            "marker": {
             "pattern": {
              "fillmode": "overlay",
              "size": 10,
              "solidity": 0.2
             }
            },
            "type": "histogram"
           }
          ],
          "histogram2d": [
           {
            "colorbar": {
             "outlinewidth": 0,
             "tickcolor": "rgb(237,237,237)",
             "ticklen": 6,
             "ticks": "inside"
            },
            "colorscale": [
             [
              0,
              "rgb(20,44,66)"
             ],
             [
              1,
              "rgb(90,179,244)"
             ]
            ],
            "type": "histogram2d"
           }
          ],
          "histogram2dcontour": [
           {
            "colorbar": {
             "outlinewidth": 0,
             "tickcolor": "rgb(237,237,237)",
             "ticklen": 6,
             "ticks": "inside"
            },
            "colorscale": [
             [
              0,
              "rgb(20,44,66)"
             ],
             [
              1,
              "rgb(90,179,244)"
             ]
            ],
            "type": "histogram2dcontour"
           }
          ],
          "mesh3d": [
           {
            "colorbar": {
             "outlinewidth": 0,
             "tickcolor": "rgb(237,237,237)",
             "ticklen": 6,
             "ticks": "inside"
            },
            "type": "mesh3d"
           }
          ],
          "parcoords": [
           {
            "line": {
             "colorbar": {
              "outlinewidth": 0,
              "tickcolor": "rgb(237,237,237)",
              "ticklen": 6,
              "ticks": "inside"
             }
            },
            "type": "parcoords"
           }
          ],
          "pie": [
           {
            "automargin": true,
            "type": "pie"
           }
          ],
          "scatter": [
           {
            "fillpattern": {
             "fillmode": "overlay",
             "size": 10,
             "solidity": 0.2
            },
            "type": "scatter"
           }
          ],
          "scatter3d": [
           {
            "line": {
             "colorbar": {
              "outlinewidth": 0,
              "tickcolor": "rgb(237,237,237)",
              "ticklen": 6,
              "ticks": "inside"
             }
            },
            "marker": {
             "colorbar": {
              "outlinewidth": 0,
              "tickcolor": "rgb(237,237,237)",
              "ticklen": 6,
              "ticks": "inside"
             }
            },
            "type": "scatter3d"
           }
          ],
          "scattercarpet": [
           {
            "marker": {
             "colorbar": {
              "outlinewidth": 0,
              "tickcolor": "rgb(237,237,237)",
              "ticklen": 6,
              "ticks": "inside"
             }
            },
            "type": "scattercarpet"
           }
          ],
          "scattergeo": [
           {
            "marker": {
             "colorbar": {
              "outlinewidth": 0,
              "tickcolor": "rgb(237,237,237)",
              "ticklen": 6,
              "ticks": "inside"
             }
            },
            "type": "scattergeo"
           }
          ],
          "scattergl": [
           {
            "marker": {
             "colorbar": {
              "outlinewidth": 0,
              "tickcolor": "rgb(237,237,237)",
              "ticklen": 6,
              "ticks": "inside"
             }
            },
            "type": "scattergl"
           }
          ],
          "scattermapbox": [
           {
            "marker": {
             "colorbar": {
              "outlinewidth": 0,
              "tickcolor": "rgb(237,237,237)",
              "ticklen": 6,
              "ticks": "inside"
             }
            },
            "type": "scattermapbox"
           }
          ],
          "scatterpolar": [
           {
            "marker": {
             "colorbar": {
              "outlinewidth": 0,
              "tickcolor": "rgb(237,237,237)",
              "ticklen": 6,
              "ticks": "inside"
             }
            },
            "type": "scatterpolar"
           }
          ],
          "scatterpolargl": [
           {
            "marker": {
             "colorbar": {
              "outlinewidth": 0,
              "tickcolor": "rgb(237,237,237)",
              "ticklen": 6,
              "ticks": "inside"
             }
            },
            "type": "scatterpolargl"
           }
          ],
          "scatterternary": [
           {
            "marker": {
             "colorbar": {
              "outlinewidth": 0,
              "tickcolor": "rgb(237,237,237)",
              "ticklen": 6,
              "ticks": "inside"
             }
            },
            "type": "scatterternary"
           }
          ],
          "surface": [
           {
            "colorbar": {
             "outlinewidth": 0,
             "tickcolor": "rgb(237,237,237)",
             "ticklen": 6,
             "ticks": "inside"
            },
            "colorscale": [
             [
              0,
              "rgb(20,44,66)"
             ],
             [
              1,
              "rgb(90,179,244)"
             ]
            ],
            "type": "surface"
           }
          ],
          "table": [
           {
            "cells": {
             "fill": {
              "color": "rgb(237,237,237)"
             },
             "line": {
              "color": "white"
             }
            },
            "header": {
             "fill": {
              "color": "rgb(217,217,217)"
             },
             "line": {
              "color": "white"
             }
            },
            "type": "table"
           }
          ]
         },
         "layout": {
          "annotationdefaults": {
           "arrowhead": 0,
           "arrowwidth": 1
          },
          "autotypenumbers": "strict",
          "coloraxis": {
           "colorbar": {
            "outlinewidth": 0,
            "tickcolor": "rgb(237,237,237)",
            "ticklen": 6,
            "ticks": "inside"
           }
          },
          "colorscale": {
           "sequential": [
            [
             0,
             "rgb(20,44,66)"
            ],
            [
             1,
             "rgb(90,179,244)"
            ]
           ],
           "sequentialminus": [
            [
             0,
             "rgb(20,44,66)"
            ],
            [
             1,
             "rgb(90,179,244)"
            ]
           ]
          },
          "colorway": [
           "#F8766D",
           "#A3A500",
           "#00BF7D",
           "#00B0F6",
           "#E76BF3"
          ],
          "font": {
           "color": "rgb(51,51,51)"
          },
          "geo": {
           "bgcolor": "white",
           "lakecolor": "white",
           "landcolor": "rgb(237,237,237)",
           "showlakes": true,
           "showland": true,
           "subunitcolor": "white"
          },
          "hoverlabel": {
           "align": "left"
          },
          "hovermode": "closest",
          "paper_bgcolor": "white",
          "plot_bgcolor": "rgb(237,237,237)",
          "polar": {
           "angularaxis": {
            "gridcolor": "white",
            "linecolor": "white",
            "showgrid": true,
            "tickcolor": "rgb(51,51,51)",
            "ticks": "outside"
           },
           "bgcolor": "rgb(237,237,237)",
           "radialaxis": {
            "gridcolor": "white",
            "linecolor": "white",
            "showgrid": true,
            "tickcolor": "rgb(51,51,51)",
            "ticks": "outside"
           }
          },
          "scene": {
           "xaxis": {
            "backgroundcolor": "rgb(237,237,237)",
            "gridcolor": "white",
            "gridwidth": 2,
            "linecolor": "white",
            "showbackground": true,
            "showgrid": true,
            "tickcolor": "rgb(51,51,51)",
            "ticks": "outside",
            "zerolinecolor": "white"
           },
           "yaxis": {
            "backgroundcolor": "rgb(237,237,237)",
            "gridcolor": "white",
            "gridwidth": 2,
            "linecolor": "white",
            "showbackground": true,
            "showgrid": true,
            "tickcolor": "rgb(51,51,51)",
            "ticks": "outside",
            "zerolinecolor": "white"
           },
           "zaxis": {
            "backgroundcolor": "rgb(237,237,237)",
            "gridcolor": "white",
            "gridwidth": 2,
            "linecolor": "white",
            "showbackground": true,
            "showgrid": true,
            "tickcolor": "rgb(51,51,51)",
            "ticks": "outside",
            "zerolinecolor": "white"
           }
          },
          "shapedefaults": {
           "fillcolor": "black",
           "line": {
            "width": 0
           },
           "opacity": 0.3
          },
          "ternary": {
           "aaxis": {
            "gridcolor": "white",
            "linecolor": "white",
            "showgrid": true,
            "tickcolor": "rgb(51,51,51)",
            "ticks": "outside"
           },
           "baxis": {
            "gridcolor": "white",
            "linecolor": "white",
            "showgrid": true,
            "tickcolor": "rgb(51,51,51)",
            "ticks": "outside"
           },
           "bgcolor": "rgb(237,237,237)",
           "caxis": {
            "gridcolor": "white",
            "linecolor": "white",
            "showgrid": true,
            "tickcolor": "rgb(51,51,51)",
            "ticks": "outside"
           }
          },
          "xaxis": {
           "automargin": true,
           "gridcolor": "white",
           "linecolor": "white",
           "showgrid": true,
           "tickcolor": "rgb(51,51,51)",
           "ticks": "outside",
           "title": {
            "standoff": 15
           },
           "zerolinecolor": "white"
          },
          "yaxis": {
           "automargin": true,
           "gridcolor": "white",
           "linecolor": "white",
           "showgrid": true,
           "tickcolor": "rgb(51,51,51)",
           "ticks": "outside",
           "title": {
            "standoff": 15
           },
           "zerolinecolor": "white"
          }
         }
        },
        "title": {
         "text": "Count of Votes in YouGov Survey - Location Level"
        },
        "width": 1000,
        "xaxis": {
         "anchor": "y",
         "autorange": true,
         "domain": [
          0,
          0.18400000000000002
         ],
         "range": [
          0,
          270.5263157894737
         ],
         "title": {
          "text": "count"
         },
         "type": "linear"
        },
        "xaxis2": {
         "anchor": "y2",
         "autorange": true,
         "domain": [
          0.20400000000000001,
          0.388
         ],
         "matches": "x",
         "range": [
          0,
          270.5263157894737
         ],
         "title": {
          "text": "count"
         },
         "type": "linear"
        },
        "xaxis3": {
         "anchor": "y3",
         "autorange": true,
         "domain": [
          0.40800000000000003,
          0.5920000000000001
         ],
         "matches": "x",
         "range": [
          0,
          270.5263157894737
         ],
         "title": {
          "text": "count"
         },
         "type": "linear"
        },
        "xaxis4": {
         "anchor": "y4",
         "autorange": true,
         "domain": [
          0.6120000000000001,
          0.7960000000000002
         ],
         "matches": "x",
         "range": [
          0,
          270.5263157894737
         ],
         "title": {
          "text": "count"
         },
         "type": "linear"
        },
        "xaxis5": {
         "anchor": "y5",
         "autorange": true,
         "domain": [
          0.8160000000000001,
          1
         ],
         "matches": "x",
         "range": [
          0,
          270.5263157894737
         ],
         "title": {
          "text": "count"
         },
         "type": "linear"
        },
        "yaxis": {
         "anchor": "x",
         "autorange": true,
         "categoryarray": [
          "Dont know",
          "Right",
          "Wrong"
         ],
         "categoryorder": "array",
         "domain": [
          0,
          1
         ],
         "range": [
          0.5,
          3.5
         ],
         "title": {
          "text": ""
         },
         "type": "category"
        },
        "yaxis2": {
         "anchor": "x2",
         "autorange": true,
         "domain": [
          0,
          1
         ],
         "matches": "y",
         "range": [
          0.5,
          3.5
         ],
         "showticklabels": false,
         "type": "category"
        },
        "yaxis3": {
         "anchor": "x3",
         "autorange": true,
         "domain": [
          0,
          1
         ],
         "matches": "y",
         "range": [
          0.5,
          3.5
         ],
         "showticklabels": false,
         "type": "category"
        },
        "yaxis4": {
         "anchor": "x4",
         "autorange": true,
         "domain": [
          0,
          1
         ],
         "matches": "y",
         "range": [
          0.5,
          3.5
         ],
         "showticklabels": false,
         "type": "category"
        },
        "yaxis5": {
         "anchor": "x5",
         "autorange": true,
         "domain": [
          0,
          1
         ],
         "matches": "y",
         "range": [
          0.5,
          3.5
         ],
         "showticklabels": false,
         "type": "category"
        }
       }
      },
      "image/png": "[encoded data removed]",
      "text/html": [
       "<div>                            <div id=\"b8910d40-0ec0-401d-960b-79e2c52694aa\" class=\"plotly-graph-div\" style=\"height:500px; width:1000px;\"></div>            <script type=\"text/javascript\">                require([\"plotly\"], function(Plotly) {                    window.PLOTLYENV=window.PLOTLYENV || {};                                    if (document.getElementById(\"b8910d40-0ec0-401d-960b-79e2c52694aa\")) {                    Plotly.newPlot(                        \"b8910d40-0ec0-401d-960b-79e2c52694aa\",                        [{\"alignmentgroup\":\"True\",\"hovertemplate\":\"location=London\\u003cbr\\u003ecount=%{x}\\u003cbr\\u003evote=%{y}\\u003cextra\\u003e\\u003c\\u002fextra\\u003e\",\"legendgroup\":\"London\",\"marker\":{\"color\":\"rgb(136, 204, 238)\",\"pattern\":{\"shape\":\"\"}},\"name\":\"London\",\"offsetgroup\":\"London\",\"orientation\":\"h\",\"showlegend\":true,\"textposition\":\"auto\",\"x\":[63,110,24],\"xaxis\":\"x\",\"y\":[\"Right\",\"Wrong\",\"Don\\u2019t know\"],\"yaxis\":\"y\",\"type\":\"bar\"},{\"alignmentgroup\":\"True\",\"hovertemplate\":\"location=Rest of South\\u003cbr\\u003ecount=%{x}\\u003cbr\\u003evote=%{y}\\u003cextra\\u003e\\u003c\\u002fextra\\u003e\",\"legendgroup\":\"Rest of South\",\"marker\":{\"color\":\"rgb(204, 102, 119)\",\"pattern\":{\"shape\":\"\"}},\"name\":\"Rest of South\",\"offsetgroup\":\"Rest of South\",\"orientation\":\"h\",\"showlegend\":true,\"textposition\":\"auto\",\"x\":[241,257,49],\"xaxis\":\"x2\",\"y\":[\"Right\",\"Wrong\",\"Don\\u2019t know\"],\"yaxis\":\"y2\",\"type\":\"bar\"},{\"alignmentgroup\":\"True\",\"hovertemplate\":\"location=Midlands and Wales\\u003cbr\\u003ecount=%{x}\\u003cbr\\u003evote=%{y}\\u003cextra\\u003e\\u003c\\u002fextra\\u003e\",\"legendgroup\":\"Midlands and Wales\",\"marker\":{\"color\":\"rgb(221, 204, 119)\",\"pattern\":{\"shape\":\"\"}},\"name\":\"Midlands and Wales\",\"offsetgroup\":\"Midlands and Wales\",\"orientation\":\"h\",\"showlegend\":true,\"textposition\":\"auto\",\"x\":[145,152,57],\"xaxis\":\"x3\",\"y\":[\"Right\",\"Wrong\",\"Don\\u2019t know\"],\"yaxis\":\"y3\",\"type\":\"bar\"},{\"alignmentgroup\":\"True\",\"hovertemplate\":\"location=North\\u003cbr\\u003ecount=%{x}\\u003cbr\\u003evote=%{y}\\u003cextra\\u003e\\u003c\\u002fextra\\u003e\",\"legendgroup\":\"North\",\"marker\":{\"color\":\"rgb(17, 119, 51)\",\"pattern\":{\"shape\":\"\"}},\"name\":\"North\",\"offsetgroup\":\"North\",\"orientation\":\"h\",\"showlegend\":true,\"textposition\":\"auto\",\"x\":[176,176,48],\"xaxis\":\"x4\",\"y\":[\"Right\",\"Wrong\",\"Don\\u2019t know\"],\"yaxis\":\"y4\",\"type\":\"bar\"},{\"alignmentgroup\":\"True\",\"hovertemplate\":\"location=Scotland\\u003cbr\\u003ecount=%{x}\\u003cbr\\u003evote=%{y}\\u003cextra\\u003e\\u003c\\u002fextra\\u003e\",\"legendgroup\":\"Scotland\",\"marker\":{\"color\":\"rgb(51, 34, 136)\",\"pattern\":{\"shape\":\"\"}},\"name\":\"Scotland\",\"offsetgroup\":\"Scotland\",\"orientation\":\"h\",\"showlegend\":true,\"textposition\":\"auto\",\"x\":[39,92,10],\"xaxis\":\"x5\",\"y\":[\"Right\",\"Wrong\",\"Don\\u2019t know\"],\"yaxis\":\"y5\",\"type\":\"bar\"}],                        {\"template\":{\"data\":{\"barpolar\":[{\"marker\":{\"line\":{\"color\":\"rgb(237,237,237)\",\"width\":0.5},\"pattern\":{\"fillmode\":\"overlay\",\"size\":10,\"solidity\":0.2}},\"type\":\"barpolar\"}],\"bar\":[{\"error_x\":{\"color\":\"rgb(51,51,51)\"},\"error_y\":{\"color\":\"rgb(51,51,51)\"},\"marker\":{\"line\":{\"color\":\"rgb(237,237,237)\",\"width\":0.5},\"pattern\":{\"fillmode\":\"overlay\",\"size\":10,\"solidity\":0.2}},\"type\":\"bar\"}],\"carpet\":[{\"aaxis\":{\"endlinecolor\":\"rgb(51,51,51)\",\"gridcolor\":\"white\",\"linecolor\":\"white\",\"minorgridcolor\":\"white\",\"startlinecolor\":\"rgb(51,51,51)\"},\"baxis\":{\"endlinecolor\":\"rgb(51,51,51)\",\"gridcolor\":\"white\",\"linecolor\":\"white\",\"minorgridcolor\":\"white\",\"startlinecolor\":\"rgb(51,51,51)\"},\"type\":\"carpet\"}],\"choropleth\":[{\"colorbar\":{\"outlinewidth\":0,\"tickcolor\":\"rgb(237,237,237)\",\"ticklen\":6,\"ticks\":\"inside\"},\"type\":\"choropleth\"}],\"contourcarpet\":[{\"colorbar\":{\"outlinewidth\":0,\"tickcolor\":\"rgb(237,237,237)\",\"ticklen\":6,\"ticks\":\"inside\"},\"type\":\"contourcarpet\"}],\"contour\":[{\"colorbar\":{\"outlinewidth\":0,\"tickcolor\":\"rgb(237,237,237)\",\"ticklen\":6,\"ticks\":\"inside\"},\"colorscale\":[[0,\"rgb(20,44,66)\"],[1,\"rgb(90,179,244)\"]],\"type\":\"contour\"}],\"heatmapgl\":[{\"colorbar\":{\"outlinewidth\":0,\"tickcolor\":\"rgb(237,237,237)\",\"ticklen\":6,\"ticks\":\"inside\"},\"colorscale\":[[0,\"rgb(20,44,66)\"],[1,\"rgb(90,179,244)\"]],\"type\":\"heatmapgl\"}],\"heatmap\":[{\"colorbar\":{\"outlinewidth\":0,\"tickcolor\":\"rgb(237,237,237)\",\"ticklen\":6,\"ticks\":\"inside\"},\"colorscale\":[[0,\"rgb(20,44,66)\"],[1,\"rgb(90,179,244)\"]],\"type\":\"heatmap\"}],\"histogram2dcontour\":[{\"colorbar\":{\"outlinewidth\":0,\"tickcolor\":\"rgb(237,237,237)\",\"ticklen\":6,\"ticks\":\"inside\"},\"colorscale\":[[0,\"rgb(20,44,66)\"],[1,\"rgb(90,179,244)\"]],\"type\":\"histogram2dcontour\"}],\"histogram2d\":[{\"colorbar\":{\"outlinewidth\":0,\"tickcolor\":\"rgb(237,237,237)\",\"ticklen\":6,\"ticks\":\"inside\"},\"colorscale\":[[0,\"rgb(20,44,66)\"],[1,\"rgb(90,179,244)\"]],\"type\":\"histogram2d\"}],\"histogram\":[{\"marker\":{\"pattern\":{\"fillmode\":\"overlay\",\"size\":10,\"solidity\":0.2}},\"type\":\"histogram\"}],\"mesh3d\":[{\"colorbar\":{\"outlinewidth\":0,\"tickcolor\":\"rgb(237,237,237)\",\"ticklen\":6,\"ticks\":\"inside\"},\"type\":\"mesh3d\"}],\"parcoords\":[{\"line\":{\"colorbar\":{\"outlinewidth\":0,\"tickcolor\":\"rgb(237,237,237)\",\"ticklen\":6,\"ticks\":\"inside\"}},\"type\":\"parcoords\"}],\"pie\":[{\"automargin\":true,\"type\":\"pie\"}],\"scatter3d\":[{\"line\":{\"colorbar\":{\"outlinewidth\":0,\"tickcolor\":\"rgb(237,237,237)\",\"ticklen\":6,\"ticks\":\"inside\"}},\"marker\":{\"colorbar\":{\"outlinewidth\":0,\"tickcolor\":\"rgb(237,237,237)\",\"ticklen\":6,\"ticks\":\"inside\"}},\"type\":\"scatter3d\"}],\"scattercarpet\":[{\"marker\":{\"colorbar\":{\"outlinewidth\":0,\"tickcolor\":\"rgb(237,237,237)\",\"ticklen\":6,\"ticks\":\"inside\"}},\"type\":\"scattercarpet\"}],\"scattergeo\":[{\"marker\":{\"colorbar\":{\"outlinewidth\":0,\"tickcolor\":\"rgb(237,237,237)\",\"ticklen\":6,\"ticks\":\"inside\"}},\"type\":\"scattergeo\"}],\"scattergl\":[{\"marker\":{\"colorbar\":{\"outlinewidth\":0,\"tickcolor\":\"rgb(237,237,237)\",\"ticklen\":6,\"ticks\":\"inside\"}},\"type\":\"scattergl\"}],\"scattermapbox\":[{\"marker\":{\"colorbar\":{\"outlinewidth\":0,\"tickcolor\":\"rgb(237,237,237)\",\"ticklen\":6,\"ticks\":\"inside\"}},\"type\":\"scattermapbox\"}],\"scatterpolargl\":[{\"marker\":{\"colorbar\":{\"outlinewidth\":0,\"tickcolor\":\"rgb(237,237,237)\",\"ticklen\":6,\"ticks\":\"inside\"}},\"type\":\"scatterpolargl\"}],\"scatterpolar\":[{\"marker\":{\"colorbar\":{\"outlinewidth\":0,\"tickcolor\":\"rgb(237,237,237)\",\"ticklen\":6,\"ticks\":\"inside\"}},\"type\":\"scatterpolar\"}],\"scatter\":[{\"fillpattern\":{\"fillmode\":\"overlay\",\"size\":10,\"solidity\":0.2},\"type\":\"scatter\"}],\"scatterternary\":[{\"marker\":{\"colorbar\":{\"outlinewidth\":0,\"tickcolor\":\"rgb(237,237,237)\",\"ticklen\":6,\"ticks\":\"inside\"}},\"type\":\"scatterternary\"}],\"surface\":[{\"colorbar\":{\"outlinewidth\":0,\"tickcolor\":\"rgb(237,237,237)\",\"ticklen\":6,\"ticks\":\"inside\"},\"colorscale\":[[0,\"rgb(20,44,66)\"],[1,\"rgb(90,179,244)\"]],\"type\":\"surface\"}],\"table\":[{\"cells\":{\"fill\":{\"color\":\"rgb(237,237,237)\"},\"line\":{\"color\":\"white\"}},\"header\":{\"fill\":{\"color\":\"rgb(217,217,217)\"},\"line\":{\"color\":\"white\"}},\"type\":\"table\"}]},\"layout\":{\"annotationdefaults\":{\"arrowhead\":0,\"arrowwidth\":1},\"autotypenumbers\":\"strict\",\"coloraxis\":{\"colorbar\":{\"outlinewidth\":0,\"tickcolor\":\"rgb(237,237,237)\",\"ticklen\":6,\"ticks\":\"inside\"}},\"colorscale\":{\"sequential\":[[0,\"rgb(20,44,66)\"],[1,\"rgb(90,179,244)\"]],\"sequentialminus\":[[0,\"rgb(20,44,66)\"],[1,\"rgb(90,179,244)\"]]},\"colorway\":[\"#F8766D\",\"#A3A500\",\"#00BF7D\",\"#00B0F6\",\"#E76BF3\"],\"font\":{\"color\":\"rgb(51,51,51)\"},\"geo\":{\"bgcolor\":\"white\",\"lakecolor\":\"white\",\"landcolor\":\"rgb(237,237,237)\",\"showlakes\":true,\"showland\":true,\"subunitcolor\":\"white\"},\"hoverlabel\":{\"align\":\"left\"},\"hovermode\":\"closest\",\"paper_bgcolor\":\"white\",\"plot_bgcolor\":\"rgb(237,237,237)\",\"polar\":{\"angularaxis\":{\"gridcolor\":\"white\",\"linecolor\":\"white\",\"showgrid\":true,\"tickcolor\":\"rgb(51,51,51)\",\"ticks\":\"outside\"},\"bgcolor\":\"rgb(237,237,237)\",\"radialaxis\":{\"gridcolor\":\"white\",\"linecolor\":\"white\",\"showgrid\":true,\"tickcolor\":\"rgb(51,51,51)\",\"ticks\":\"outside\"}},\"scene\":{\"xaxis\":{\"backgroundcolor\":\"rgb(237,237,237)\",\"gridcolor\":\"white\",\"gridwidth\":2,\"linecolor\":\"white\",\"showbackground\":true,\"showgrid\":true,\"tickcolor\":\"rgb(51,51,51)\",\"ticks\":\"outside\",\"zerolinecolor\":\"white\"},\"yaxis\":{\"backgroundcolor\":\"rgb(237,237,237)\",\"gridcolor\":\"white\",\"gridwidth\":2,\"linecolor\":\"white\",\"showbackground\":true,\"showgrid\":true,\"tickcolor\":\"rgb(51,51,51)\",\"ticks\":\"outside\",\"zerolinecolor\":\"white\"},\"zaxis\":{\"backgroundcolor\":\"rgb(237,237,237)\",\"gridcolor\":\"white\",\"gridwidth\":2,\"linecolor\":\"white\",\"showbackground\":true,\"showgrid\":true,\"tickcolor\":\"rgb(51,51,51)\",\"ticks\":\"outside\",\"zerolinecolor\":\"white\"}},\"shapedefaults\":{\"fillcolor\":\"black\",\"line\":{\"width\":0},\"opacity\":0.3},\"ternary\":{\"aaxis\":{\"gridcolor\":\"white\",\"linecolor\":\"white\",\"showgrid\":true,\"tickcolor\":\"rgb(51,51,51)\",\"ticks\":\"outside\"},\"baxis\":{\"gridcolor\":\"white\",\"linecolor\":\"white\",\"showgrid\":true,\"tickcolor\":\"rgb(51,51,51)\",\"ticks\":\"outside\"},\"bgcolor\":\"rgb(237,237,237)\",\"caxis\":{\"gridcolor\":\"white\",\"linecolor\":\"white\",\"showgrid\":true,\"tickcolor\":\"rgb(51,51,51)\",\"ticks\":\"outside\"}},\"xaxis\":{\"automargin\":true,\"gridcolor\":\"white\",\"linecolor\":\"white\",\"showgrid\":true,\"tickcolor\":\"rgb(51,51,51)\",\"ticks\":\"outside\",\"title\":{\"standoff\":15},\"zerolinecolor\":\"white\"},\"yaxis\":{\"automargin\":true,\"gridcolor\":\"white\",\"linecolor\":\"white\",\"showgrid\":true,\"tickcolor\":\"rgb(51,51,51)\",\"ticks\":\"outside\",\"title\":{\"standoff\":15},\"zerolinecolor\":\"white\"}}},\"xaxis\":{\"anchor\":\"y\",\"domain\":[0.0,0.18400000000000002],\"title\":{\"text\":\"count\"}},\"yaxis\":{\"anchor\":\"x\",\"domain\":[0.0,1.0],\"title\":{\"text\":\"\"},\"categoryorder\":\"array\",\"categoryarray\":[\"Dont know\",\"Right\",\"Wrong\"]},\"xaxis2\":{\"anchor\":\"y2\",\"domain\":[0.20400000000000001,0.388],\"matches\":\"x\",\"title\":{\"text\":\"count\"}},\"yaxis2\":{\"anchor\":\"x2\",\"domain\":[0.0,1.0],\"matches\":\"y\",\"showticklabels\":false},\"xaxis3\":{\"anchor\":\"y3\",\"domain\":[0.40800000000000003,0.5920000000000001],\"matches\":\"x\",\"title\":{\"text\":\"count\"}},\"yaxis3\":{\"anchor\":\"x3\",\"domain\":[0.0,1.0],\"matches\":\"y\",\"showticklabels\":false},\"xaxis4\":{\"anchor\":\"y4\",\"domain\":[0.6120000000000001,0.7960000000000002],\"matches\":\"x\",\"title\":{\"text\":\"count\"}},\"yaxis4\":{\"anchor\":\"x4\",\"domain\":[0.0,1.0],\"matches\":\"y\",\"showticklabels\":false},\"xaxis5\":{\"anchor\":\"y5\",\"domain\":[0.8160000000000001,1.0],\"matches\":\"x\",\"title\":{\"text\":\"count\"}},\"yaxis5\":{\"anchor\":\"x5\",\"domain\":[0.0,1.0],\"matches\":\"y\",\"showticklabels\":false},\"annotations\":[{\"font\":{},\"showarrow\":false,\"text\":\"London\",\"x\":0.09200000000000001,\"xanchor\":\"center\",\"xref\":\"paper\",\"y\":1.0,\"yanchor\":\"bottom\",\"yref\":\"paper\"},{\"font\":{},\"showarrow\":false,\"text\":\"Rest of South\",\"x\":0.29600000000000004,\"xanchor\":\"center\",\"xref\":\"paper\",\"y\":1.0,\"yanchor\":\"bottom\",\"yref\":\"paper\"},{\"font\":{},\"showarrow\":false,\"text\":\"Midlands and Wales\",\"x\":0.5,\"xanchor\":\"center\",\"xref\":\"paper\",\"y\":1.0,\"yanchor\":\"bottom\",\"yref\":\"paper\"},{\"font\":{},\"showarrow\":false,\"text\":\"North\",\"x\":0.7040000000000002,\"xanchor\":\"center\",\"xref\":\"paper\",\"y\":1.0,\"yanchor\":\"bottom\",\"yref\":\"paper\"},{\"font\":{},\"showarrow\":false,\"text\":\"Scotland\",\"x\":0.908,\"xanchor\":\"center\",\"xref\":\"paper\",\"y\":1.0,\"yanchor\":\"bottom\",\"yref\":\"paper\"}],\"legend\":{\"title\":{\"text\":\"Location\"},\"tracegroupgap\":0},\"margin\":{\"t\":60},\"barmode\":\"relative\",\"title\":{\"text\":\"Count of Votes in YouGov Survey - Location Level\"},\"autosize\":false,\"width\":1000,\"height\":500},                        {\"responsive\": true}                    ).then(function(){\n",
       "                            \n",
       "var gd = document.getElementById('b8910d40-0ec0-401d-960b-79e2c52694aa');\n",
       "var x = new MutationObserver(function (mutations, observer) {{\n",
       "        var display = window.getComputedStyle(gd).display;\n",
       "        if (!display || display === 'none') {{\n",
       "            console.log([gd, 'removed!']);\n",
       "            Plotly.purge(gd);\n",
       "            observer.disconnect();\n",
       "        }}\n",
       "}});\n",
       "\n",
       "// Listen for the removal of the full notebook cells\n",
       "var notebookContainer = gd.closest('#notebook-container');\n",
       "if (notebookContainer) {{\n",
       "    x.observe(notebookContainer, {childList: true});\n",
       "}}\n",
       "\n",
       "// Listen for the clearing of the current output cell\n",
       "var outputEl = gd.closest('.output');\n",
       "if (outputEl) {{\n",
       "    x.observe(outputEl, {childList: true});\n",
       "}}\n",
       "\n",
       "                        })                };                });            </script>        </div>"
      ]
     },
     "metadata": {},
     "output_type": "display_data"
    }
   ],
   "source": [
    "my_categories = ['London','Rest of South','Midlands and Wales','North','Scotland']\n",
    "\n",
    "fig = px.bar(DF_plot,y='vote',x='count',\n",
    "             color='location',\n",
    "             facet_col='location',\n",
    "            color_discrete_sequence=px.colors.qualitative.Safe)\n",
    "\n",
    "fig.for_each_annotation(lambda a: a.update(text=a.text.split(\"=\")[1]))\n",
    "\n",
    "my_categories = ['Dont know','Right','Wrong']\n",
    "fig.update_layout(yaxis={'categoryorder': 'array', 'categoryarray': my_categories},\n",
    "                  title='Count of Votes in YouGov Survey - Location Level',\n",
    "                  yaxis_title=\"\",\n",
    "                  template='ggplot2',\n",
    "                  legend_title='Location',\n",
    "                  autosize=False,\n",
    "                  width=1000,\n",
    "                  height=500)\n",
    "\n",
    "fig.show()"
   ]
  },
  {
   "cell_type": "markdown",
   "id": "dbd4b745-ab8e-4ae9-bc60-a254f7c61b5c",
   "metadata": {},
   "source": [
    "**Q** Which of the plots do you think is better. What you do notice are the pluses and minuses of each figure?"
   ]
  },
  {
   "cell_type": "markdown",
   "id": "a5f4e627-f522-4e17-afc6-de0f32f9d2f8",
   "metadata": {},
   "source": [
    "The first plot is better at showing the differences in total counts between regions, but the second plot makes it easier to compare the sizes of the individual agree/disagree categories."
   ]
  },
  {
   "cell_type": "markdown",
   "id": "47c2337c-8687-49b2-bff2-eeca81e636ba",
   "metadata": {},
   "source": [
    "**Q** Is there any redundancy in the second graph? What is redundant?"
   ]
  },
  {
   "cell_type": "markdown",
   "id": "8adee559-f7ef-48d0-a278-65acc9c2f138",
   "metadata": {},
   "source": [
    "The redundancy in the second graph is that the locations are labelled both per-facet and by color."
   ]
  },
  {
   "cell_type": "markdown",
   "id": "a5911e76-a6d2-41bd-ac2c-00578a842c77",
   "metadata": {},
   "source": [
    "## Avoid Redundancy\n",
    "\n",
    "Here is the same graph again, but avoiding redundancy."
   ]
  },
  {
   "cell_type": "code",
   "execution_count": 21,
   "id": "46b662b7-5532-4528-97d4-665dc6d30031",
   "metadata": {},
   "outputs": [
    {
     "data": {
      "application/vnd.plotly.v1+json": {
       "config": {
        "plotlyServerURL": "https://plot.ly"
       },
       "data": [
        {
         "alignmentgroup": "True",
         "hovertemplate": "location=London<br>count=%{x}<br>vote=%{y}<extra></extra>",
         "legendgroup": "",
         "marker": {
          "color": "gray",
          "pattern": {
           "shape": ""
          }
         },
         "name": "",
         "offsetgroup": "",
         "orientation": "h",
         "showlegend": false,
         "textposition": "auto",
         "type": "bar",
         "x": [
          63,
          110,
          24
         ],
         "xaxis": "x",
         "y": [
          "Right",
          "Wrong",
          "Don’t know"
         ],
         "yaxis": "y"
        },
        {
         "alignmentgroup": "True",
         "hovertemplate": "location=Rest of South<br>count=%{x}<br>vote=%{y}<extra></extra>",
         "legendgroup": "",
         "marker": {
          "color": "gray",
          "pattern": {
           "shape": ""
          }
         },
         "name": "",
         "offsetgroup": "",
         "orientation": "h",
         "showlegend": false,
         "textposition": "auto",
         "type": "bar",
         "x": [
          241,
          257,
          49
         ],
         "xaxis": "x2",
         "y": [
          "Right",
          "Wrong",
          "Don’t know"
         ],
         "yaxis": "y2"
        },
        {
         "alignmentgroup": "True",
         "hovertemplate": "location=Midlands and Wales<br>count=%{x}<br>vote=%{y}<extra></extra>",
         "legendgroup": "",
         "marker": {
          "color": "gray",
          "pattern": {
           "shape": ""
          }
         },
         "name": "",
         "offsetgroup": "",
         "orientation": "h",
         "showlegend": false,
         "textposition": "auto",
         "type": "bar",
         "x": [
          145,
          152,
          57
         ],
         "xaxis": "x3",
         "y": [
          "Right",
          "Wrong",
          "Don’t know"
         ],
         "yaxis": "y3"
        },
        {
         "alignmentgroup": "True",
         "hovertemplate": "location=North<br>count=%{x}<br>vote=%{y}<extra></extra>",
         "legendgroup": "",
         "marker": {
          "color": "gray",
          "pattern": {
           "shape": ""
          }
         },
         "name": "",
         "offsetgroup": "",
         "orientation": "h",
         "showlegend": false,
         "textposition": "auto",
         "type": "bar",
         "x": [
          176,
          176,
          48
         ],
         "xaxis": "x4",
         "y": [
          "Right",
          "Wrong",
          "Don’t know"
         ],
         "yaxis": "y4"
        },
        {
         "alignmentgroup": "True",
         "hovertemplate": "location=Scotland<br>count=%{x}<br>vote=%{y}<extra></extra>",
         "legendgroup": "",
         "marker": {
          "color": "gray",
          "pattern": {
           "shape": ""
          }
         },
         "name": "",
         "offsetgroup": "",
         "orientation": "h",
         "showlegend": false,
         "textposition": "auto",
         "type": "bar",
         "x": [
          39,
          92,
          10
         ],
         "xaxis": "x5",
         "y": [
          "Right",
          "Wrong",
          "Don’t know"
         ],
         "yaxis": "y5"
        }
       ],
       "layout": {
        "annotations": [
         {
          "font": {},
          "showarrow": false,
          "text": "London",
          "x": 0.09200000000000001,
          "xanchor": "center",
          "xref": "paper",
          "y": 1,
          "yanchor": "bottom",
          "yref": "paper"
         },
         {
          "font": {},
          "showarrow": false,
          "text": "Rest of South",
          "x": 0.29600000000000004,
          "xanchor": "center",
          "xref": "paper",
          "y": 1,
          "yanchor": "bottom",
          "yref": "paper"
         },
         {
          "font": {},
          "showarrow": false,
          "text": "Midlands and Wales",
          "x": 0.5,
          "xanchor": "center",
          "xref": "paper",
          "y": 1,
          "yanchor": "bottom",
          "yref": "paper"
         },
         {
          "font": {},
          "showarrow": false,
          "text": "North",
          "x": 0.7040000000000002,
          "xanchor": "center",
          "xref": "paper",
          "y": 1,
          "yanchor": "bottom",
          "yref": "paper"
         },
         {
          "font": {},
          "showarrow": false,
          "text": "Scotland",
          "x": 0.908,
          "xanchor": "center",
          "xref": "paper",
          "y": 1,
          "yanchor": "bottom",
          "yref": "paper"
         }
        ],
        "autosize": false,
        "barmode": "relative",
        "height": 500,
        "legend": {
         "title": {
          "text": "Location"
         },
         "tracegroupgap": 0
        },
        "margin": {
         "t": 60
        },
        "template": {
         "data": {
          "bar": [
           {
            "error_x": {
             "color": "rgb(51,51,51)"
            },
            "error_y": {
             "color": "rgb(51,51,51)"
            },
            "marker": {
             "line": {
              "color": "rgb(237,237,237)",
              "width": 0.5
             },
             "pattern": {
              "fillmode": "overlay",
              "size": 10,
              "solidity": 0.2
             }
            },
            "type": "bar"
           }
          ],
          "barpolar": [
           {
            "marker": {
             "line": {
              "color": "rgb(237,237,237)",
              "width": 0.5
             },
             "pattern": {
              "fillmode": "overlay",
              "size": 10,
              "solidity": 0.2
             }
            },
            "type": "barpolar"
           }
          ],
          "carpet": [
           {
            "aaxis": {
             "endlinecolor": "rgb(51,51,51)",
             "gridcolor": "white",
             "linecolor": "white",
             "minorgridcolor": "white",
             "startlinecolor": "rgb(51,51,51)"
            },
            "baxis": {
             "endlinecolor": "rgb(51,51,51)",
             "gridcolor": "white",
             "linecolor": "white",
             "minorgridcolor": "white",
             "startlinecolor": "rgb(51,51,51)"
            },
            "type": "carpet"
           }
          ],
          "choropleth": [
           {
            "colorbar": {
             "outlinewidth": 0,
             "tickcolor": "rgb(237,237,237)",
             "ticklen": 6,
             "ticks": "inside"
            },
            "type": "choropleth"
           }
          ],
          "contour": [
           {
            "colorbar": {
             "outlinewidth": 0,
             "tickcolor": "rgb(237,237,237)",
             "ticklen": 6,
             "ticks": "inside"
            },
            "colorscale": [
             [
              0,
              "rgb(20,44,66)"
             ],
             [
              1,
              "rgb(90,179,244)"
             ]
            ],
            "type": "contour"
           }
          ],
          "contourcarpet": [
           {
            "colorbar": {
             "outlinewidth": 0,
             "tickcolor": "rgb(237,237,237)",
             "ticklen": 6,
             "ticks": "inside"
            },
            "type": "contourcarpet"
           }
          ],
          "heatmap": [
           {
            "colorbar": {
             "outlinewidth": 0,
             "tickcolor": "rgb(237,237,237)",
             "ticklen": 6,
             "ticks": "inside"
            },
            "colorscale": [
             [
              0,
              "rgb(20,44,66)"
             ],
             [
              1,
              "rgb(90,179,244)"
             ]
            ],
            "type": "heatmap"
           }
          ],
          "heatmapgl": [
           {
            "colorbar": {
             "outlinewidth": 0,
             "tickcolor": "rgb(237,237,237)",
             "ticklen": 6,
             "ticks": "inside"
            },
            "colorscale": [
             [
              0,
              "rgb(20,44,66)"
             ],
             [
              1,
              "rgb(90,179,244)"
             ]
            ],
            "type": "heatmapgl"
           }
          ],
          "histogram": [
           {
            "marker": {
             "pattern": {
              "fillmode": "overlay",
              "size": 10,
              "solidity": 0.2
             }
            },
            "type": "histogram"
           }
          ],
          "histogram2d": [
           {
            "colorbar": {
             "outlinewidth": 0,
             "tickcolor": "rgb(237,237,237)",
             "ticklen": 6,
             "ticks": "inside"
            },
            "colorscale": [
             [
              0,
              "rgb(20,44,66)"
             ],
             [
              1,
              "rgb(90,179,244)"
             ]
            ],
            "type": "histogram2d"
           }
          ],
          "histogram2dcontour": [
           {
            "colorbar": {
             "outlinewidth": 0,
             "tickcolor": "rgb(237,237,237)",
             "ticklen": 6,
             "ticks": "inside"
            },
            "colorscale": [
             [
              0,
              "rgb(20,44,66)"
             ],
             [
              1,
              "rgb(90,179,244)"
             ]
            ],
            "type": "histogram2dcontour"
           }
          ],
          "mesh3d": [
           {
            "colorbar": {
             "outlinewidth": 0,
             "tickcolor": "rgb(237,237,237)",
             "ticklen": 6,
             "ticks": "inside"
            },
            "type": "mesh3d"
           }
          ],
          "parcoords": [
           {
            "line": {
             "colorbar": {
              "outlinewidth": 0,
              "tickcolor": "rgb(237,237,237)",
              "ticklen": 6,
              "ticks": "inside"
             }
            },
            "type": "parcoords"
           }
          ],
          "pie": [
           {
            "automargin": true,
            "type": "pie"
           }
          ],
          "scatter": [
           {
            "fillpattern": {
             "fillmode": "overlay",
             "size": 10,
             "solidity": 0.2
            },
            "type": "scatter"
           }
          ],
          "scatter3d": [
           {
            "line": {
             "colorbar": {
              "outlinewidth": 0,
              "tickcolor": "rgb(237,237,237)",
              "ticklen": 6,
              "ticks": "inside"
             }
            },
            "marker": {
             "colorbar": {
              "outlinewidth": 0,
              "tickcolor": "rgb(237,237,237)",
              "ticklen": 6,
              "ticks": "inside"
             }
            },
            "type": "scatter3d"
           }
          ],
          "scattercarpet": [
           {
            "marker": {
             "colorbar": {
              "outlinewidth": 0,
              "tickcolor": "rgb(237,237,237)",
              "ticklen": 6,
              "ticks": "inside"
             }
            },
            "type": "scattercarpet"
           }
          ],
          "scattergeo": [
           {
            "marker": {
             "colorbar": {
              "outlinewidth": 0,
              "tickcolor": "rgb(237,237,237)",
              "ticklen": 6,
              "ticks": "inside"
             }
            },
            "type": "scattergeo"
           }
          ],
          "scattergl": [
           {
            "marker": {
             "colorbar": {
              "outlinewidth": 0,
              "tickcolor": "rgb(237,237,237)",
              "ticklen": 6,
              "ticks": "inside"
             }
            },
            "type": "scattergl"
           }
          ],
          "scattermapbox": [
           {
            "marker": {
             "colorbar": {
              "outlinewidth": 0,
              "tickcolor": "rgb(237,237,237)",
              "ticklen": 6,
              "ticks": "inside"
             }
            },
            "type": "scattermapbox"
           }
          ],
          "scatterpolar": [
           {
            "marker": {
             "colorbar": {
              "outlinewidth": 0,
              "tickcolor": "rgb(237,237,237)",
              "ticklen": 6,
              "ticks": "inside"
             }
            },
            "type": "scatterpolar"
           }
          ],
          "scatterpolargl": [
           {
            "marker": {
             "colorbar": {
              "outlinewidth": 0,
              "tickcolor": "rgb(237,237,237)",
              "ticklen": 6,
              "ticks": "inside"
             }
            },
            "type": "scatterpolargl"
           }
          ],
          "scatterternary": [
           {
            "marker": {
             "colorbar": {
              "outlinewidth": 0,
              "tickcolor": "rgb(237,237,237)",
              "ticklen": 6,
              "ticks": "inside"
             }
            },
            "type": "scatterternary"
           }
          ],
          "surface": [
           {
            "colorbar": {
             "outlinewidth": 0,
             "tickcolor": "rgb(237,237,237)",
             "ticklen": 6,
             "ticks": "inside"
            },
            "colorscale": [
             [
              0,
              "rgb(20,44,66)"
             ],
             [
              1,
              "rgb(90,179,244)"
             ]
            ],
            "type": "surface"
           }
          ],
          "table": [
           {
            "cells": {
             "fill": {
              "color": "rgb(237,237,237)"
             },
             "line": {
              "color": "white"
             }
            },
            "header": {
             "fill": {
              "color": "rgb(217,217,217)"
             },
             "line": {
              "color": "white"
             }
            },
            "type": "table"
           }
          ]
         },
         "layout": {
          "annotationdefaults": {
           "arrowhead": 0,
           "arrowwidth": 1
          },
          "autotypenumbers": "strict",
          "coloraxis": {
           "colorbar": {
            "outlinewidth": 0,
            "tickcolor": "rgb(237,237,237)",
            "ticklen": 6,
            "ticks": "inside"
           }
          },
          "colorscale": {
           "sequential": [
            [
             0,
             "rgb(20,44,66)"
            ],
            [
             1,
             "rgb(90,179,244)"
            ]
           ],
           "sequentialminus": [
            [
             0,
             "rgb(20,44,66)"
            ],
            [
             1,
             "rgb(90,179,244)"
            ]
           ]
          },
          "colorway": [
           "#F8766D",
           "#A3A500",
           "#00BF7D",
           "#00B0F6",
           "#E76BF3"
          ],
          "font": {
           "color": "rgb(51,51,51)"
          },
          "geo": {
           "bgcolor": "white",
           "lakecolor": "white",
           "landcolor": "rgb(237,237,237)",
           "showlakes": true,
           "showland": true,
           "subunitcolor": "white"
          },
          "hoverlabel": {
           "align": "left"
          },
          "hovermode": "closest",
          "paper_bgcolor": "white",
          "plot_bgcolor": "rgb(237,237,237)",
          "polar": {
           "angularaxis": {
            "gridcolor": "white",
            "linecolor": "white",
            "showgrid": true,
            "tickcolor": "rgb(51,51,51)",
            "ticks": "outside"
           },
           "bgcolor": "rgb(237,237,237)",
           "radialaxis": {
            "gridcolor": "white",
            "linecolor": "white",
            "showgrid": true,
            "tickcolor": "rgb(51,51,51)",
            "ticks": "outside"
           }
          },
          "scene": {
           "xaxis": {
            "backgroundcolor": "rgb(237,237,237)",
            "gridcolor": "white",
            "gridwidth": 2,
            "linecolor": "white",
            "showbackground": true,
            "showgrid": true,
            "tickcolor": "rgb(51,51,51)",
            "ticks": "outside",
            "zerolinecolor": "white"
           },
           "yaxis": {
            "backgroundcolor": "rgb(237,237,237)",
            "gridcolor": "white",
            "gridwidth": 2,
            "linecolor": "white",
            "showbackground": true,
            "showgrid": true,
            "tickcolor": "rgb(51,51,51)",
            "ticks": "outside",
            "zerolinecolor": "white"
           },
           "zaxis": {
            "backgroundcolor": "rgb(237,237,237)",
            "gridcolor": "white",
            "gridwidth": 2,
            "linecolor": "white",
            "showbackground": true,
            "showgrid": true,
            "tickcolor": "rgb(51,51,51)",
            "ticks": "outside",
            "zerolinecolor": "white"
           }
          },
          "shapedefaults": {
           "fillcolor": "black",
           "line": {
            "width": 0
           },
           "opacity": 0.3
          },
          "ternary": {
           "aaxis": {
            "gridcolor": "white",
            "linecolor": "white",
            "showgrid": true,
            "tickcolor": "rgb(51,51,51)",
            "ticks": "outside"
           },
           "baxis": {
            "gridcolor": "white",
            "linecolor": "white",
            "showgrid": true,
            "tickcolor": "rgb(51,51,51)",
            "ticks": "outside"
           },
           "bgcolor": "rgb(237,237,237)",
           "caxis": {
            "gridcolor": "white",
            "linecolor": "white",
            "showgrid": true,
            "tickcolor": "rgb(51,51,51)",
            "ticks": "outside"
           }
          },
          "xaxis": {
           "automargin": true,
           "gridcolor": "white",
           "linecolor": "white",
           "showgrid": true,
           "tickcolor": "rgb(51,51,51)",
           "ticks": "outside",
           "title": {
            "standoff": 15
           },
           "zerolinecolor": "white"
          },
          "yaxis": {
           "automargin": true,
           "gridcolor": "white",
           "linecolor": "white",
           "showgrid": true,
           "tickcolor": "rgb(51,51,51)",
           "ticks": "outside",
           "title": {
            "standoff": 15
           },
           "zerolinecolor": "white"
          }
         }
        },
        "title": {
         "text": "Count of Votes in YouGov Survey - Location Level"
        },
        "width": 1000,
        "xaxis": {
         "anchor": "y",
         "autorange": true,
         "domain": [
          0,
          0.18400000000000002
         ],
         "range": [
          0,
          270.5263157894737
         ],
         "title": {
          "text": "count"
         },
         "type": "linear"
        },
        "xaxis2": {
         "anchor": "y2",
         "autorange": true,
         "domain": [
          0.20400000000000001,
          0.388
         ],
         "matches": "x",
         "range": [
          0,
          270.5263157894737
         ],
         "title": {
          "text": "count"
         },
         "type": "linear"
        },
        "xaxis3": {
         "anchor": "y3",
         "autorange": true,
         "domain": [
          0.40800000000000003,
          0.5920000000000001
         ],
         "matches": "x",
         "range": [
          0,
          270.5263157894737
         ],
         "title": {
          "text": "count"
         },
         "type": "linear"
        },
        "xaxis4": {
         "anchor": "y4",
         "autorange": true,
         "domain": [
          0.6120000000000001,
          0.7960000000000002
         ],
         "matches": "x",
         "range": [
          0,
          270.5263157894737
         ],
         "title": {
          "text": "count"
         },
         "type": "linear"
        },
        "xaxis5": {
         "anchor": "y5",
         "autorange": true,
         "domain": [
          0.8160000000000001,
          1
         ],
         "matches": "x",
         "range": [
          0,
          270.5263157894737
         ],
         "title": {
          "text": "count"
         },
         "type": "linear"
        },
        "yaxis": {
         "anchor": "x",
         "autorange": true,
         "categoryarray": [
          "Dont know",
          "Right",
          "Wrong"
         ],
         "categoryorder": "array",
         "domain": [
          0,
          1
         ],
         "range": [
          0.5,
          3.5
         ],
         "title": {
          "text": ""
         },
         "type": "category"
        },
        "yaxis2": {
         "anchor": "x2",
         "autorange": true,
         "domain": [
          0,
          1
         ],
         "matches": "y",
         "range": [
          0.5,
          3.5
         ],
         "showticklabels": false,
         "type": "category"
        },
        "yaxis3": {
         "anchor": "x3",
         "autorange": true,
         "domain": [
          0,
          1
         ],
         "matches": "y",
         "range": [
          0.5,
          3.5
         ],
         "showticklabels": false,
         "type": "category"
        },
        "yaxis4": {
         "anchor": "x4",
         "autorange": true,
         "domain": [
          0,
          1
         ],
         "matches": "y",
         "range": [
          0.5,
          3.5
         ],
         "showticklabels": false,
         "type": "category"
        },
        "yaxis5": {
         "anchor": "x5",
         "autorange": true,
         "domain": [
          0,
          1
         ],
         "matches": "y",
         "range": [
          0.5,
          3.5
         ],
         "showticklabels": false,
         "type": "category"
        }
       }
      },
      "image/png": "[encoded data removed]",
      "text/html": [
       "<div>                            <div id=\"a45cb81f-d58a-43ca-8044-cfc0841ecbe2\" class=\"plotly-graph-div\" style=\"height:500px; width:1000px;\"></div>            <script type=\"text/javascript\">                require([\"plotly\"], function(Plotly) {                    window.PLOTLYENV=window.PLOTLYENV || {};                                    if (document.getElementById(\"a45cb81f-d58a-43ca-8044-cfc0841ecbe2\")) {                    Plotly.newPlot(                        \"a45cb81f-d58a-43ca-8044-cfc0841ecbe2\",                        [{\"alignmentgroup\":\"True\",\"hovertemplate\":\"location=London\\u003cbr\\u003ecount=%{x}\\u003cbr\\u003evote=%{y}\\u003cextra\\u003e\\u003c\\u002fextra\\u003e\",\"legendgroup\":\"\",\"marker\":{\"color\":\"gray\",\"pattern\":{\"shape\":\"\"}},\"name\":\"\",\"offsetgroup\":\"\",\"orientation\":\"h\",\"showlegend\":false,\"textposition\":\"auto\",\"x\":[63,110,24],\"xaxis\":\"x\",\"y\":[\"Right\",\"Wrong\",\"Don\\u2019t know\"],\"yaxis\":\"y\",\"type\":\"bar\"},{\"alignmentgroup\":\"True\",\"hovertemplate\":\"location=Rest of South\\u003cbr\\u003ecount=%{x}\\u003cbr\\u003evote=%{y}\\u003cextra\\u003e\\u003c\\u002fextra\\u003e\",\"legendgroup\":\"\",\"marker\":{\"color\":\"gray\",\"pattern\":{\"shape\":\"\"}},\"name\":\"\",\"offsetgroup\":\"\",\"orientation\":\"h\",\"showlegend\":false,\"textposition\":\"auto\",\"x\":[241,257,49],\"xaxis\":\"x2\",\"y\":[\"Right\",\"Wrong\",\"Don\\u2019t know\"],\"yaxis\":\"y2\",\"type\":\"bar\"},{\"alignmentgroup\":\"True\",\"hovertemplate\":\"location=Midlands and Wales\\u003cbr\\u003ecount=%{x}\\u003cbr\\u003evote=%{y}\\u003cextra\\u003e\\u003c\\u002fextra\\u003e\",\"legendgroup\":\"\",\"marker\":{\"color\":\"gray\",\"pattern\":{\"shape\":\"\"}},\"name\":\"\",\"offsetgroup\":\"\",\"orientation\":\"h\",\"showlegend\":false,\"textposition\":\"auto\",\"x\":[145,152,57],\"xaxis\":\"x3\",\"y\":[\"Right\",\"Wrong\",\"Don\\u2019t know\"],\"yaxis\":\"y3\",\"type\":\"bar\"},{\"alignmentgroup\":\"True\",\"hovertemplate\":\"location=North\\u003cbr\\u003ecount=%{x}\\u003cbr\\u003evote=%{y}\\u003cextra\\u003e\\u003c\\u002fextra\\u003e\",\"legendgroup\":\"\",\"marker\":{\"color\":\"gray\",\"pattern\":{\"shape\":\"\"}},\"name\":\"\",\"offsetgroup\":\"\",\"orientation\":\"h\",\"showlegend\":false,\"textposition\":\"auto\",\"x\":[176,176,48],\"xaxis\":\"x4\",\"y\":[\"Right\",\"Wrong\",\"Don\\u2019t know\"],\"yaxis\":\"y4\",\"type\":\"bar\"},{\"alignmentgroup\":\"True\",\"hovertemplate\":\"location=Scotland\\u003cbr\\u003ecount=%{x}\\u003cbr\\u003evote=%{y}\\u003cextra\\u003e\\u003c\\u002fextra\\u003e\",\"legendgroup\":\"\",\"marker\":{\"color\":\"gray\",\"pattern\":{\"shape\":\"\"}},\"name\":\"\",\"offsetgroup\":\"\",\"orientation\":\"h\",\"showlegend\":false,\"textposition\":\"auto\",\"x\":[39,92,10],\"xaxis\":\"x5\",\"y\":[\"Right\",\"Wrong\",\"Don\\u2019t know\"],\"yaxis\":\"y5\",\"type\":\"bar\"}],                        {\"template\":{\"data\":{\"barpolar\":[{\"marker\":{\"line\":{\"color\":\"rgb(237,237,237)\",\"width\":0.5},\"pattern\":{\"fillmode\":\"overlay\",\"size\":10,\"solidity\":0.2}},\"type\":\"barpolar\"}],\"bar\":[{\"error_x\":{\"color\":\"rgb(51,51,51)\"},\"error_y\":{\"color\":\"rgb(51,51,51)\"},\"marker\":{\"line\":{\"color\":\"rgb(237,237,237)\",\"width\":0.5},\"pattern\":{\"fillmode\":\"overlay\",\"size\":10,\"solidity\":0.2}},\"type\":\"bar\"}],\"carpet\":[{\"aaxis\":{\"endlinecolor\":\"rgb(51,51,51)\",\"gridcolor\":\"white\",\"linecolor\":\"white\",\"minorgridcolor\":\"white\",\"startlinecolor\":\"rgb(51,51,51)\"},\"baxis\":{\"endlinecolor\":\"rgb(51,51,51)\",\"gridcolor\":\"white\",\"linecolor\":\"white\",\"minorgridcolor\":\"white\",\"startlinecolor\":\"rgb(51,51,51)\"},\"type\":\"carpet\"}],\"choropleth\":[{\"colorbar\":{\"outlinewidth\":0,\"tickcolor\":\"rgb(237,237,237)\",\"ticklen\":6,\"ticks\":\"inside\"},\"type\":\"choropleth\"}],\"contourcarpet\":[{\"colorbar\":{\"outlinewidth\":0,\"tickcolor\":\"rgb(237,237,237)\",\"ticklen\":6,\"ticks\":\"inside\"},\"type\":\"contourcarpet\"}],\"contour\":[{\"colorbar\":{\"outlinewidth\":0,\"tickcolor\":\"rgb(237,237,237)\",\"ticklen\":6,\"ticks\":\"inside\"},\"colorscale\":[[0,\"rgb(20,44,66)\"],[1,\"rgb(90,179,244)\"]],\"type\":\"contour\"}],\"heatmapgl\":[{\"colorbar\":{\"outlinewidth\":0,\"tickcolor\":\"rgb(237,237,237)\",\"ticklen\":6,\"ticks\":\"inside\"},\"colorscale\":[[0,\"rgb(20,44,66)\"],[1,\"rgb(90,179,244)\"]],\"type\":\"heatmapgl\"}],\"heatmap\":[{\"colorbar\":{\"outlinewidth\":0,\"tickcolor\":\"rgb(237,237,237)\",\"ticklen\":6,\"ticks\":\"inside\"},\"colorscale\":[[0,\"rgb(20,44,66)\"],[1,\"rgb(90,179,244)\"]],\"type\":\"heatmap\"}],\"histogram2dcontour\":[{\"colorbar\":{\"outlinewidth\":0,\"tickcolor\":\"rgb(237,237,237)\",\"ticklen\":6,\"ticks\":\"inside\"},\"colorscale\":[[0,\"rgb(20,44,66)\"],[1,\"rgb(90,179,244)\"]],\"type\":\"histogram2dcontour\"}],\"histogram2d\":[{\"colorbar\":{\"outlinewidth\":0,\"tickcolor\":\"rgb(237,237,237)\",\"ticklen\":6,\"ticks\":\"inside\"},\"colorscale\":[[0,\"rgb(20,44,66)\"],[1,\"rgb(90,179,244)\"]],\"type\":\"histogram2d\"}],\"histogram\":[{\"marker\":{\"pattern\":{\"fillmode\":\"overlay\",\"size\":10,\"solidity\":0.2}},\"type\":\"histogram\"}],\"mesh3d\":[{\"colorbar\":{\"outlinewidth\":0,\"tickcolor\":\"rgb(237,237,237)\",\"ticklen\":6,\"ticks\":\"inside\"},\"type\":\"mesh3d\"}],\"parcoords\":[{\"line\":{\"colorbar\":{\"outlinewidth\":0,\"tickcolor\":\"rgb(237,237,237)\",\"ticklen\":6,\"ticks\":\"inside\"}},\"type\":\"parcoords\"}],\"pie\":[{\"automargin\":true,\"type\":\"pie\"}],\"scatter3d\":[{\"line\":{\"colorbar\":{\"outlinewidth\":0,\"tickcolor\":\"rgb(237,237,237)\",\"ticklen\":6,\"ticks\":\"inside\"}},\"marker\":{\"colorbar\":{\"outlinewidth\":0,\"tickcolor\":\"rgb(237,237,237)\",\"ticklen\":6,\"ticks\":\"inside\"}},\"type\":\"scatter3d\"}],\"scattercarpet\":[{\"marker\":{\"colorbar\":{\"outlinewidth\":0,\"tickcolor\":\"rgb(237,237,237)\",\"ticklen\":6,\"ticks\":\"inside\"}},\"type\":\"scattercarpet\"}],\"scattergeo\":[{\"marker\":{\"colorbar\":{\"outlinewidth\":0,\"tickcolor\":\"rgb(237,237,237)\",\"ticklen\":6,\"ticks\":\"inside\"}},\"type\":\"scattergeo\"}],\"scattergl\":[{\"marker\":{\"colorbar\":{\"outlinewidth\":0,\"tickcolor\":\"rgb(237,237,237)\",\"ticklen\":6,\"ticks\":\"inside\"}},\"type\":\"scattergl\"}],\"scattermapbox\":[{\"marker\":{\"colorbar\":{\"outlinewidth\":0,\"tickcolor\":\"rgb(237,237,237)\",\"ticklen\":6,\"ticks\":\"inside\"}},\"type\":\"scattermapbox\"}],\"scatterpolargl\":[{\"marker\":{\"colorbar\":{\"outlinewidth\":0,\"tickcolor\":\"rgb(237,237,237)\",\"ticklen\":6,\"ticks\":\"inside\"}},\"type\":\"scatterpolargl\"}],\"scatterpolar\":[{\"marker\":{\"colorbar\":{\"outlinewidth\":0,\"tickcolor\":\"rgb(237,237,237)\",\"ticklen\":6,\"ticks\":\"inside\"}},\"type\":\"scatterpolar\"}],\"scatter\":[{\"fillpattern\":{\"fillmode\":\"overlay\",\"size\":10,\"solidity\":0.2},\"type\":\"scatter\"}],\"scatterternary\":[{\"marker\":{\"colorbar\":{\"outlinewidth\":0,\"tickcolor\":\"rgb(237,237,237)\",\"ticklen\":6,\"ticks\":\"inside\"}},\"type\":\"scatterternary\"}],\"surface\":[{\"colorbar\":{\"outlinewidth\":0,\"tickcolor\":\"rgb(237,237,237)\",\"ticklen\":6,\"ticks\":\"inside\"},\"colorscale\":[[0,\"rgb(20,44,66)\"],[1,\"rgb(90,179,244)\"]],\"type\":\"surface\"}],\"table\":[{\"cells\":{\"fill\":{\"color\":\"rgb(237,237,237)\"},\"line\":{\"color\":\"white\"}},\"header\":{\"fill\":{\"color\":\"rgb(217,217,217)\"},\"line\":{\"color\":\"white\"}},\"type\":\"table\"}]},\"layout\":{\"annotationdefaults\":{\"arrowhead\":0,\"arrowwidth\":1},\"autotypenumbers\":\"strict\",\"coloraxis\":{\"colorbar\":{\"outlinewidth\":0,\"tickcolor\":\"rgb(237,237,237)\",\"ticklen\":6,\"ticks\":\"inside\"}},\"colorscale\":{\"sequential\":[[0,\"rgb(20,44,66)\"],[1,\"rgb(90,179,244)\"]],\"sequentialminus\":[[0,\"rgb(20,44,66)\"],[1,\"rgb(90,179,244)\"]]},\"colorway\":[\"#F8766D\",\"#A3A500\",\"#00BF7D\",\"#00B0F6\",\"#E76BF3\"],\"font\":{\"color\":\"rgb(51,51,51)\"},\"geo\":{\"bgcolor\":\"white\",\"lakecolor\":\"white\",\"landcolor\":\"rgb(237,237,237)\",\"showlakes\":true,\"showland\":true,\"subunitcolor\":\"white\"},\"hoverlabel\":{\"align\":\"left\"},\"hovermode\":\"closest\",\"paper_bgcolor\":\"white\",\"plot_bgcolor\":\"rgb(237,237,237)\",\"polar\":{\"angularaxis\":{\"gridcolor\":\"white\",\"linecolor\":\"white\",\"showgrid\":true,\"tickcolor\":\"rgb(51,51,51)\",\"ticks\":\"outside\"},\"bgcolor\":\"rgb(237,237,237)\",\"radialaxis\":{\"gridcolor\":\"white\",\"linecolor\":\"white\",\"showgrid\":true,\"tickcolor\":\"rgb(51,51,51)\",\"ticks\":\"outside\"}},\"scene\":{\"xaxis\":{\"backgroundcolor\":\"rgb(237,237,237)\",\"gridcolor\":\"white\",\"gridwidth\":2,\"linecolor\":\"white\",\"showbackground\":true,\"showgrid\":true,\"tickcolor\":\"rgb(51,51,51)\",\"ticks\":\"outside\",\"zerolinecolor\":\"white\"},\"yaxis\":{\"backgroundcolor\":\"rgb(237,237,237)\",\"gridcolor\":\"white\",\"gridwidth\":2,\"linecolor\":\"white\",\"showbackground\":true,\"showgrid\":true,\"tickcolor\":\"rgb(51,51,51)\",\"ticks\":\"outside\",\"zerolinecolor\":\"white\"},\"zaxis\":{\"backgroundcolor\":\"rgb(237,237,237)\",\"gridcolor\":\"white\",\"gridwidth\":2,\"linecolor\":\"white\",\"showbackground\":true,\"showgrid\":true,\"tickcolor\":\"rgb(51,51,51)\",\"ticks\":\"outside\",\"zerolinecolor\":\"white\"}},\"shapedefaults\":{\"fillcolor\":\"black\",\"line\":{\"width\":0},\"opacity\":0.3},\"ternary\":{\"aaxis\":{\"gridcolor\":\"white\",\"linecolor\":\"white\",\"showgrid\":true,\"tickcolor\":\"rgb(51,51,51)\",\"ticks\":\"outside\"},\"baxis\":{\"gridcolor\":\"white\",\"linecolor\":\"white\",\"showgrid\":true,\"tickcolor\":\"rgb(51,51,51)\",\"ticks\":\"outside\"},\"bgcolor\":\"rgb(237,237,237)\",\"caxis\":{\"gridcolor\":\"white\",\"linecolor\":\"white\",\"showgrid\":true,\"tickcolor\":\"rgb(51,51,51)\",\"ticks\":\"outside\"}},\"xaxis\":{\"automargin\":true,\"gridcolor\":\"white\",\"linecolor\":\"white\",\"showgrid\":true,\"tickcolor\":\"rgb(51,51,51)\",\"ticks\":\"outside\",\"title\":{\"standoff\":15},\"zerolinecolor\":\"white\"},\"yaxis\":{\"automargin\":true,\"gridcolor\":\"white\",\"linecolor\":\"white\",\"showgrid\":true,\"tickcolor\":\"rgb(51,51,51)\",\"ticks\":\"outside\",\"title\":{\"standoff\":15},\"zerolinecolor\":\"white\"}}},\"xaxis\":{\"anchor\":\"y\",\"domain\":[0.0,0.18400000000000002],\"title\":{\"text\":\"count\"}},\"yaxis\":{\"anchor\":\"x\",\"domain\":[0.0,1.0],\"title\":{\"text\":\"\"},\"categoryorder\":\"array\",\"categoryarray\":[\"Dont know\",\"Right\",\"Wrong\"]},\"xaxis2\":{\"anchor\":\"y2\",\"domain\":[0.20400000000000001,0.388],\"matches\":\"x\",\"title\":{\"text\":\"count\"}},\"yaxis2\":{\"anchor\":\"x2\",\"domain\":[0.0,1.0],\"matches\":\"y\",\"showticklabels\":false},\"xaxis3\":{\"anchor\":\"y3\",\"domain\":[0.40800000000000003,0.5920000000000001],\"matches\":\"x\",\"title\":{\"text\":\"count\"}},\"yaxis3\":{\"anchor\":\"x3\",\"domain\":[0.0,1.0],\"matches\":\"y\",\"showticklabels\":false},\"xaxis4\":{\"anchor\":\"y4\",\"domain\":[0.6120000000000001,0.7960000000000002],\"matches\":\"x\",\"title\":{\"text\":\"count\"}},\"yaxis4\":{\"anchor\":\"x4\",\"domain\":[0.0,1.0],\"matches\":\"y\",\"showticklabels\":false},\"xaxis5\":{\"anchor\":\"y5\",\"domain\":[0.8160000000000001,1.0],\"matches\":\"x\",\"title\":{\"text\":\"count\"}},\"yaxis5\":{\"anchor\":\"x5\",\"domain\":[0.0,1.0],\"matches\":\"y\",\"showticklabels\":false},\"annotations\":[{\"font\":{},\"showarrow\":false,\"text\":\"London\",\"x\":0.09200000000000001,\"xanchor\":\"center\",\"xref\":\"paper\",\"y\":1.0,\"yanchor\":\"bottom\",\"yref\":\"paper\"},{\"font\":{},\"showarrow\":false,\"text\":\"Rest of South\",\"x\":0.29600000000000004,\"xanchor\":\"center\",\"xref\":\"paper\",\"y\":1.0,\"yanchor\":\"bottom\",\"yref\":\"paper\"},{\"font\":{},\"showarrow\":false,\"text\":\"Midlands and Wales\",\"x\":0.5,\"xanchor\":\"center\",\"xref\":\"paper\",\"y\":1.0,\"yanchor\":\"bottom\",\"yref\":\"paper\"},{\"font\":{},\"showarrow\":false,\"text\":\"North\",\"x\":0.7040000000000002,\"xanchor\":\"center\",\"xref\":\"paper\",\"y\":1.0,\"yanchor\":\"bottom\",\"yref\":\"paper\"},{\"font\":{},\"showarrow\":false,\"text\":\"Scotland\",\"x\":0.908,\"xanchor\":\"center\",\"xref\":\"paper\",\"y\":1.0,\"yanchor\":\"bottom\",\"yref\":\"paper\"}],\"legend\":{\"tracegroupgap\":0,\"title\":{\"text\":\"Location\"}},\"margin\":{\"t\":60},\"barmode\":\"relative\",\"title\":{\"text\":\"Count of Votes in YouGov Survey - Location Level\"},\"autosize\":false,\"width\":1000,\"height\":500},                        {\"responsive\": true}                    ).then(function(){\n",
       "                            \n",
       "var gd = document.getElementById('a45cb81f-d58a-43ca-8044-cfc0841ecbe2');\n",
       "var x = new MutationObserver(function (mutations, observer) {{\n",
       "        var display = window.getComputedStyle(gd).display;\n",
       "        if (!display || display === 'none') {{\n",
       "            console.log([gd, 'removed!']);\n",
       "            Plotly.purge(gd);\n",
       "            observer.disconnect();\n",
       "        }}\n",
       "}});\n",
       "\n",
       "// Listen for the removal of the full notebook cells\n",
       "var notebookContainer = gd.closest('#notebook-container');\n",
       "if (notebookContainer) {{\n",
       "    x.observe(notebookContainer, {childList: true});\n",
       "}}\n",
       "\n",
       "// Listen for the clearing of the current output cell\n",
       "var outputEl = gd.closest('.output');\n",
       "if (outputEl) {{\n",
       "    x.observe(outputEl, {childList: true});\n",
       "}}\n",
       "\n",
       "                        })                };                });            </script>        </div>"
      ]
     },
     "metadata": {},
     "output_type": "display_data"
    }
   ],
   "source": [
    "my_categories = ['London','Rest of South','Midlands and Wales','North','Scotland']\n",
    "\n",
    "fig = px.bar(DF_plot,y='vote',x='count',\n",
    "             facet_col='location',\n",
    "            color_discrete_sequence=['gray'])\n",
    "\n",
    "fig.for_each_annotation(lambda a: a.update(text=a.text.split(\"=\")[1]))\n",
    "\n",
    "my_categories = ['Dont know','Right','Wrong']\n",
    "fig.update_layout(yaxis={'categoryorder': 'array', 'categoryarray': my_categories},\n",
    "                  title='Count of Votes in YouGov Survey - Location Level',\n",
    "                  yaxis_title=\"\",\n",
    "                  template='ggplot2',\n",
    "                  legend_title='Location',\n",
    "                  autosize=False,\n",
    "                  width=1000,\n",
    "                  height=500)\n",
    "\n",
    "fig.show()"
   ]
  },
  {
   "cell_type": "code",
   "execution_count": 23,
   "id": "ea5f76df-7067-475b-9cda-7c4a8eb2a387",
   "metadata": {},
   "outputs": [
    {
     "data": {
      "application/vnd.plotly.v1+json": {
       "config": {
        "plotlyServerURL": "https://plot.ly"
       },
       "data": [
        {
         "alignmentgroup": "True",
         "hovertemplate": "location=London<br>count=%{x}<br>vote=%{y}<extra></extra>",
         "legendgroup": "London",
         "marker": {
          "color": "rgb(136, 204, 238)",
          "pattern": {
           "shape": ""
          }
         },
         "name": "London",
         "offsetgroup": "London",
         "orientation": "h",
         "showlegend": true,
         "textposition": "auto",
         "type": "bar",
         "x": [
          63,
          110,
          24
         ],
         "xaxis": "x",
         "y": [
          "Right",
          "Wrong",
          "Don’t know"
         ],
         "yaxis": "y"
        },
        {
         "alignmentgroup": "True",
         "hovertemplate": "location=Rest of South<br>count=%{x}<br>vote=%{y}<extra></extra>",
         "legendgroup": "Rest of South",
         "marker": {
          "color": "rgb(204, 102, 119)",
          "pattern": {
           "shape": ""
          }
         },
         "name": "Rest of South",
         "offsetgroup": "Rest of South",
         "orientation": "h",
         "showlegend": true,
         "textposition": "auto",
         "type": "bar",
         "x": [
          241,
          257,
          49
         ],
         "xaxis": "x2",
         "y": [
          "Right",
          "Wrong",
          "Don’t know"
         ],
         "yaxis": "y2"
        },
        {
         "alignmentgroup": "True",
         "hovertemplate": "location=Midlands and Wales<br>count=%{x}<br>vote=%{y}<extra></extra>",
         "legendgroup": "Midlands and Wales",
         "marker": {
          "color": "rgb(221, 204, 119)",
          "pattern": {
           "shape": ""
          }
         },
         "name": "Midlands and Wales",
         "offsetgroup": "Midlands and Wales",
         "orientation": "h",
         "showlegend": true,
         "textposition": "auto",
         "type": "bar",
         "x": [
          145,
          152,
          57
         ],
         "xaxis": "x3",
         "y": [
          "Right",
          "Wrong",
          "Don’t know"
         ],
         "yaxis": "y3"
        },
        {
         "alignmentgroup": "True",
         "hovertemplate": "location=North<br>count=%{x}<br>vote=%{y}<extra></extra>",
         "legendgroup": "North",
         "marker": {
          "color": "rgb(17, 119, 51)",
          "pattern": {
           "shape": ""
          }
         },
         "name": "North",
         "offsetgroup": "North",
         "orientation": "h",
         "showlegend": true,
         "textposition": "auto",
         "type": "bar",
         "x": [
          176,
          176,
          48
         ],
         "xaxis": "x4",
         "y": [
          "Right",
          "Wrong",
          "Don’t know"
         ],
         "yaxis": "y4"
        },
        {
         "alignmentgroup": "True",
         "hovertemplate": "location=Scotland<br>count=%{x}<br>vote=%{y}<extra></extra>",
         "legendgroup": "Scotland",
         "marker": {
          "color": "rgb(51, 34, 136)",
          "pattern": {
           "shape": ""
          }
         },
         "name": "Scotland",
         "offsetgroup": "Scotland",
         "orientation": "h",
         "showlegend": true,
         "textposition": "auto",
         "type": "bar",
         "x": [
          39,
          92,
          10
         ],
         "xaxis": "x5",
         "y": [
          "Right",
          "Wrong",
          "Don’t know"
         ],
         "yaxis": "y5"
        }
       ],
       "layout": {
        "annotations": [
         {
          "font": {},
          "showarrow": false,
          "text": "London",
          "x": 0.09200000000000001,
          "xanchor": "center",
          "xref": "paper",
          "y": 1,
          "yanchor": "bottom",
          "yref": "paper"
         },
         {
          "font": {},
          "showarrow": false,
          "text": "Rest of South",
          "x": 0.29600000000000004,
          "xanchor": "center",
          "xref": "paper",
          "y": 1,
          "yanchor": "bottom",
          "yref": "paper"
         },
         {
          "font": {},
          "showarrow": false,
          "text": "Midlands and Wales",
          "x": 0.5,
          "xanchor": "center",
          "xref": "paper",
          "y": 1,
          "yanchor": "bottom",
          "yref": "paper"
         },
         {
          "font": {},
          "showarrow": false,
          "text": "North",
          "x": 0.7040000000000002,
          "xanchor": "center",
          "xref": "paper",
          "y": 1,
          "yanchor": "bottom",
          "yref": "paper"
         },
         {
          "font": {},
          "showarrow": false,
          "text": "Scotland",
          "x": 0.908,
          "xanchor": "center",
          "xref": "paper",
          "y": 1,
          "yanchor": "bottom",
          "yref": "paper"
         }
        ],
        "autosize": false,
        "barmode": "relative",
        "height": 500,
        "legend": {
         "title": {
          "text": "Location"
         },
         "tracegroupgap": 0
        },
        "margin": {
         "t": 60
        },
        "showlegend": false,
        "template": {
         "data": {
          "bar": [
           {
            "error_x": {
             "color": "rgb(51,51,51)"
            },
            "error_y": {
             "color": "rgb(51,51,51)"
            },
            "marker": {
             "line": {
              "color": "rgb(237,237,237)",
              "width": 0.5
             },
             "pattern": {
              "fillmode": "overlay",
              "size": 10,
              "solidity": 0.2
             }
            },
            "type": "bar"
           }
          ],
          "barpolar": [
           {
            "marker": {
             "line": {
              "color": "rgb(237,237,237)",
              "width": 0.5
             },
             "pattern": {
              "fillmode": "overlay",
              "size": 10,
              "solidity": 0.2
             }
            },
            "type": "barpolar"
           }
          ],
          "carpet": [
           {
            "aaxis": {
             "endlinecolor": "rgb(51,51,51)",
             "gridcolor": "white",
             "linecolor": "white",
             "minorgridcolor": "white",
             "startlinecolor": "rgb(51,51,51)"
            },
            "baxis": {
             "endlinecolor": "rgb(51,51,51)",
             "gridcolor": "white",
             "linecolor": "white",
             "minorgridcolor": "white",
             "startlinecolor": "rgb(51,51,51)"
            },
            "type": "carpet"
           }
          ],
          "choropleth": [
           {
            "colorbar": {
             "outlinewidth": 0,
             "tickcolor": "rgb(237,237,237)",
             "ticklen": 6,
             "ticks": "inside"
            },
            "type": "choropleth"
           }
          ],
          "contour": [
           {
            "colorbar": {
             "outlinewidth": 0,
             "tickcolor": "rgb(237,237,237)",
             "ticklen": 6,
             "ticks": "inside"
            },
            "colorscale": [
             [
              0,
              "rgb(20,44,66)"
             ],
             [
              1,
              "rgb(90,179,244)"
             ]
            ],
            "type": "contour"
           }
          ],
          "contourcarpet": [
           {
            "colorbar": {
             "outlinewidth": 0,
             "tickcolor": "rgb(237,237,237)",
             "ticklen": 6,
             "ticks": "inside"
            },
            "type": "contourcarpet"
           }
          ],
          "heatmap": [
           {
            "colorbar": {
             "outlinewidth": 0,
             "tickcolor": "rgb(237,237,237)",
             "ticklen": 6,
             "ticks": "inside"
            },
            "colorscale": [
             [
              0,
              "rgb(20,44,66)"
             ],
             [
              1,
              "rgb(90,179,244)"
             ]
            ],
            "type": "heatmap"
           }
          ],
          "heatmapgl": [
           {
            "colorbar": {
             "outlinewidth": 0,
             "tickcolor": "rgb(237,237,237)",
             "ticklen": 6,
             "ticks": "inside"
            },
            "colorscale": [
             [
              0,
              "rgb(20,44,66)"
             ],
             [
              1,
              "rgb(90,179,244)"
             ]
            ],
            "type": "heatmapgl"
           }
          ],
          "histogram": [
           {
            "marker": {
             "pattern": {
              "fillmode": "overlay",
              "size": 10,
              "solidity": 0.2
             }
            },
            "type": "histogram"
           }
          ],
          "histogram2d": [
           {
            "colorbar": {
             "outlinewidth": 0,
             "tickcolor": "rgb(237,237,237)",
             "ticklen": 6,
             "ticks": "inside"
            },
            "colorscale": [
             [
              0,
              "rgb(20,44,66)"
             ],
             [
              1,
              "rgb(90,179,244)"
             ]
            ],
            "type": "histogram2d"
           }
          ],
          "histogram2dcontour": [
           {
            "colorbar": {
             "outlinewidth": 0,
             "tickcolor": "rgb(237,237,237)",
             "ticklen": 6,
             "ticks": "inside"
            },
            "colorscale": [
             [
              0,
              "rgb(20,44,66)"
             ],
             [
              1,
              "rgb(90,179,244)"
             ]
            ],
            "type": "histogram2dcontour"
           }
          ],
          "mesh3d": [
           {
            "colorbar": {
             "outlinewidth": 0,
             "tickcolor": "rgb(237,237,237)",
             "ticklen": 6,
             "ticks": "inside"
            },
            "type": "mesh3d"
           }
          ],
          "parcoords": [
           {
            "line": {
             "colorbar": {
              "outlinewidth": 0,
              "tickcolor": "rgb(237,237,237)",
              "ticklen": 6,
              "ticks": "inside"
             }
            },
            "type": "parcoords"
           }
          ],
          "pie": [
           {
            "automargin": true,
            "type": "pie"
           }
          ],
          "scatter": [
           {
            "fillpattern": {
             "fillmode": "overlay",
             "size": 10,
             "solidity": 0.2
            },
            "type": "scatter"
           }
          ],
          "scatter3d": [
           {
            "line": {
             "colorbar": {
              "outlinewidth": 0,
              "tickcolor": "rgb(237,237,237)",
              "ticklen": 6,
              "ticks": "inside"
             }
            },
            "marker": {
             "colorbar": {
              "outlinewidth": 0,
              "tickcolor": "rgb(237,237,237)",
              "ticklen": 6,
              "ticks": "inside"
             }
            },
            "type": "scatter3d"
           }
          ],
          "scattercarpet": [
           {
            "marker": {
             "colorbar": {
              "outlinewidth": 0,
              "tickcolor": "rgb(237,237,237)",
              "ticklen": 6,
              "ticks": "inside"
             }
            },
            "type": "scattercarpet"
           }
          ],
          "scattergeo": [
           {
            "marker": {
             "colorbar": {
              "outlinewidth": 0,
              "tickcolor": "rgb(237,237,237)",
              "ticklen": 6,
              "ticks": "inside"
             }
            },
            "type": "scattergeo"
           }
          ],
          "scattergl": [
           {
            "marker": {
             "colorbar": {
              "outlinewidth": 0,
              "tickcolor": "rgb(237,237,237)",
              "ticklen": 6,
              "ticks": "inside"
             }
            },
            "type": "scattergl"
           }
          ],
          "scattermapbox": [
           {
            "marker": {
             "colorbar": {
              "outlinewidth": 0,
              "tickcolor": "rgb(237,237,237)",
              "ticklen": 6,
              "ticks": "inside"
             }
            },
            "type": "scattermapbox"
           }
          ],
          "scatterpolar": [
           {
            "marker": {
             "colorbar": {
              "outlinewidth": 0,
              "tickcolor": "rgb(237,237,237)",
              "ticklen": 6,
              "ticks": "inside"
             }
            },
            "type": "scatterpolar"
           }
          ],
          "scatterpolargl": [
           {
            "marker": {
             "colorbar": {
              "outlinewidth": 0,
              "tickcolor": "rgb(237,237,237)",
              "ticklen": 6,
              "ticks": "inside"
             }
            },
            "type": "scatterpolargl"
           }
          ],
          "scatterternary": [
           {
            "marker": {
             "colorbar": {
              "outlinewidth": 0,
              "tickcolor": "rgb(237,237,237)",
              "ticklen": 6,
              "ticks": "inside"
             }
            },
            "type": "scatterternary"
           }
          ],
          "surface": [
           {
            "colorbar": {
             "outlinewidth": 0,
             "tickcolor": "rgb(237,237,237)",
             "ticklen": 6,
             "ticks": "inside"
            },
            "colorscale": [
             [
              0,
              "rgb(20,44,66)"
             ],
             [
              1,
              "rgb(90,179,244)"
             ]
            ],
            "type": "surface"
           }
          ],
          "table": [
           {
            "cells": {
             "fill": {
              "color": "rgb(237,237,237)"
             },
             "line": {
              "color": "white"
             }
            },
            "header": {
             "fill": {
              "color": "rgb(217,217,217)"
             },
             "line": {
              "color": "white"
             }
            },
            "type": "table"
           }
          ]
         },
         "layout": {
          "annotationdefaults": {
           "arrowhead": 0,
           "arrowwidth": 1
          },
          "autotypenumbers": "strict",
          "coloraxis": {
           "colorbar": {
            "outlinewidth": 0,
            "tickcolor": "rgb(237,237,237)",
            "ticklen": 6,
            "ticks": "inside"
           }
          },
          "colorscale": {
           "sequential": [
            [
             0,
             "rgb(20,44,66)"
            ],
            [
             1,
             "rgb(90,179,244)"
            ]
           ],
           "sequentialminus": [
            [
             0,
             "rgb(20,44,66)"
            ],
            [
             1,
             "rgb(90,179,244)"
            ]
           ]
          },
          "colorway": [
           "#F8766D",
           "#A3A500",
           "#00BF7D",
           "#00B0F6",
           "#E76BF3"
          ],
          "font": {
           "color": "rgb(51,51,51)"
          },
          "geo": {
           "bgcolor": "white",
           "lakecolor": "white",
           "landcolor": "rgb(237,237,237)",
           "showlakes": true,
           "showland": true,
           "subunitcolor": "white"
          },
          "hoverlabel": {
           "align": "left"
          },
          "hovermode": "closest",
          "paper_bgcolor": "white",
          "plot_bgcolor": "rgb(237,237,237)",
          "polar": {
           "angularaxis": {
            "gridcolor": "white",
            "linecolor": "white",
            "showgrid": true,
            "tickcolor": "rgb(51,51,51)",
            "ticks": "outside"
           },
           "bgcolor": "rgb(237,237,237)",
           "radialaxis": {
            "gridcolor": "white",
            "linecolor": "white",
            "showgrid": true,
            "tickcolor": "rgb(51,51,51)",
            "ticks": "outside"
           }
          },
          "scene": {
           "xaxis": {
            "backgroundcolor": "rgb(237,237,237)",
            "gridcolor": "white",
            "gridwidth": 2,
            "linecolor": "white",
            "showbackground": true,
            "showgrid": true,
            "tickcolor": "rgb(51,51,51)",
            "ticks": "outside",
            "zerolinecolor": "white"
           },
           "yaxis": {
            "backgroundcolor": "rgb(237,237,237)",
            "gridcolor": "white",
            "gridwidth": 2,
            "linecolor": "white",
            "showbackground": true,
            "showgrid": true,
            "tickcolor": "rgb(51,51,51)",
            "ticks": "outside",
            "zerolinecolor": "white"
           },
           "zaxis": {
            "backgroundcolor": "rgb(237,237,237)",
            "gridcolor": "white",
            "gridwidth": 2,
            "linecolor": "white",
            "showbackground": true,
            "showgrid": true,
            "tickcolor": "rgb(51,51,51)",
            "ticks": "outside",
            "zerolinecolor": "white"
           }
          },
          "shapedefaults": {
           "fillcolor": "black",
           "line": {
            "width": 0
           },
           "opacity": 0.3
          },
          "ternary": {
           "aaxis": {
            "gridcolor": "white",
            "linecolor": "white",
            "showgrid": true,
            "tickcolor": "rgb(51,51,51)",
            "ticks": "outside"
           },
           "baxis": {
            "gridcolor": "white",
            "linecolor": "white",
            "showgrid": true,
            "tickcolor": "rgb(51,51,51)",
            "ticks": "outside"
           },
           "bgcolor": "rgb(237,237,237)",
           "caxis": {
            "gridcolor": "white",
            "linecolor": "white",
            "showgrid": true,
            "tickcolor": "rgb(51,51,51)",
            "ticks": "outside"
           }
          },
          "xaxis": {
           "automargin": true,
           "gridcolor": "white",
           "linecolor": "white",
           "showgrid": true,
           "tickcolor": "rgb(51,51,51)",
           "ticks": "outside",
           "title": {
            "standoff": 15
           },
           "zerolinecolor": "white"
          },
          "yaxis": {
           "automargin": true,
           "gridcolor": "white",
           "linecolor": "white",
           "showgrid": true,
           "tickcolor": "rgb(51,51,51)",
           "ticks": "outside",
           "title": {
            "standoff": 15
           },
           "zerolinecolor": "white"
          }
         }
        },
        "title": {
         "text": "In hindsight, do you think Britain was right/wrong to vote to leave EU?"
        },
        "width": 1000,
        "xaxis": {
         "anchor": "y",
         "autorange": true,
         "domain": [
          0,
          0.18400000000000002
         ],
         "range": [
          0,
          270.5263157894737
         ],
         "title": {
          "text": "count"
         },
         "type": "linear"
        },
        "xaxis2": {
         "anchor": "y2",
         "autorange": true,
         "domain": [
          0.20400000000000001,
          0.388
         ],
         "matches": "x",
         "range": [
          0,
          270.5263157894737
         ],
         "title": {
          "text": "count"
         },
         "type": "linear"
        },
        "xaxis3": {
         "anchor": "y3",
         "autorange": true,
         "domain": [
          0.40800000000000003,
          0.5920000000000001
         ],
         "matches": "x",
         "range": [
          0,
          270.5263157894737
         ],
         "title": {
          "text": "count"
         },
         "type": "linear"
        },
        "xaxis4": {
         "anchor": "y4",
         "autorange": true,
         "domain": [
          0.6120000000000001,
          0.7960000000000002
         ],
         "matches": "x",
         "range": [
          0,
          270.5263157894737
         ],
         "title": {
          "text": "count"
         },
         "type": "linear"
        },
        "xaxis5": {
         "anchor": "y5",
         "autorange": true,
         "domain": [
          0.8160000000000001,
          1
         ],
         "matches": "x",
         "range": [
          0,
          270.5263157894737
         ],
         "title": {
          "text": "count"
         },
         "type": "linear"
        },
        "yaxis": {
         "anchor": "x",
         "autorange": true,
         "categoryarray": [
          "Dont know",
          "Right",
          "Wrong"
         ],
         "categoryorder": "array",
         "domain": [
          0,
          1
         ],
         "range": [
          0.5,
          3.5
         ],
         "title": {
          "text": ""
         },
         "type": "category"
        },
        "yaxis2": {
         "anchor": "x2",
         "autorange": true,
         "domain": [
          0,
          1
         ],
         "matches": "y",
         "range": [
          0.5,
          3.5
         ],
         "showticklabels": false,
         "type": "category"
        },
        "yaxis3": {
         "anchor": "x3",
         "autorange": true,
         "domain": [
          0,
          1
         ],
         "matches": "y",
         "range": [
          0.5,
          3.5
         ],
         "showticklabels": false,
         "type": "category"
        },
        "yaxis4": {
         "anchor": "x4",
         "autorange": true,
         "domain": [
          0,
          1
         ],
         "matches": "y",
         "range": [
          0.5,
          3.5
         ],
         "showticklabels": false,
         "type": "category"
        },
        "yaxis5": {
         "anchor": "x5",
         "autorange": true,
         "domain": [
          0,
          1
         ],
         "matches": "y",
         "range": [
          0.5,
          3.5
         ],
         "showticklabels": false,
         "type": "category"
        }
       }
      },
      "image/png": "[encoded data removed]",
      "text/html": [
       "<div>                            <div id=\"007adb87-959d-4eb7-8434-9885d05ad662\" class=\"plotly-graph-div\" style=\"height:500px; width:1000px;\"></div>            <script type=\"text/javascript\">                require([\"plotly\"], function(Plotly) {                    window.PLOTLYENV=window.PLOTLYENV || {};                                    if (document.getElementById(\"007adb87-959d-4eb7-8434-9885d05ad662\")) {                    Plotly.newPlot(                        \"007adb87-959d-4eb7-8434-9885d05ad662\",                        [{\"alignmentgroup\":\"True\",\"hovertemplate\":\"location=London\\u003cbr\\u003ecount=%{x}\\u003cbr\\u003evote=%{y}\\u003cextra\\u003e\\u003c\\u002fextra\\u003e\",\"legendgroup\":\"London\",\"marker\":{\"color\":\"rgb(136, 204, 238)\",\"pattern\":{\"shape\":\"\"}},\"name\":\"London\",\"offsetgroup\":\"London\",\"orientation\":\"h\",\"showlegend\":true,\"textposition\":\"auto\",\"x\":[63,110,24],\"xaxis\":\"x\",\"y\":[\"Right\",\"Wrong\",\"Don\\u2019t know\"],\"yaxis\":\"y\",\"type\":\"bar\"},{\"alignmentgroup\":\"True\",\"hovertemplate\":\"location=Rest of South\\u003cbr\\u003ecount=%{x}\\u003cbr\\u003evote=%{y}\\u003cextra\\u003e\\u003c\\u002fextra\\u003e\",\"legendgroup\":\"Rest of South\",\"marker\":{\"color\":\"rgb(204, 102, 119)\",\"pattern\":{\"shape\":\"\"}},\"name\":\"Rest of South\",\"offsetgroup\":\"Rest of South\",\"orientation\":\"h\",\"showlegend\":true,\"textposition\":\"auto\",\"x\":[241,257,49],\"xaxis\":\"x2\",\"y\":[\"Right\",\"Wrong\",\"Don\\u2019t know\"],\"yaxis\":\"y2\",\"type\":\"bar\"},{\"alignmentgroup\":\"True\",\"hovertemplate\":\"location=Midlands and Wales\\u003cbr\\u003ecount=%{x}\\u003cbr\\u003evote=%{y}\\u003cextra\\u003e\\u003c\\u002fextra\\u003e\",\"legendgroup\":\"Midlands and Wales\",\"marker\":{\"color\":\"rgb(221, 204, 119)\",\"pattern\":{\"shape\":\"\"}},\"name\":\"Midlands and Wales\",\"offsetgroup\":\"Midlands and Wales\",\"orientation\":\"h\",\"showlegend\":true,\"textposition\":\"auto\",\"x\":[145,152,57],\"xaxis\":\"x3\",\"y\":[\"Right\",\"Wrong\",\"Don\\u2019t know\"],\"yaxis\":\"y3\",\"type\":\"bar\"},{\"alignmentgroup\":\"True\",\"hovertemplate\":\"location=North\\u003cbr\\u003ecount=%{x}\\u003cbr\\u003evote=%{y}\\u003cextra\\u003e\\u003c\\u002fextra\\u003e\",\"legendgroup\":\"North\",\"marker\":{\"color\":\"rgb(17, 119, 51)\",\"pattern\":{\"shape\":\"\"}},\"name\":\"North\",\"offsetgroup\":\"North\",\"orientation\":\"h\",\"showlegend\":true,\"textposition\":\"auto\",\"x\":[176,176,48],\"xaxis\":\"x4\",\"y\":[\"Right\",\"Wrong\",\"Don\\u2019t know\"],\"yaxis\":\"y4\",\"type\":\"bar\"},{\"alignmentgroup\":\"True\",\"hovertemplate\":\"location=Scotland\\u003cbr\\u003ecount=%{x}\\u003cbr\\u003evote=%{y}\\u003cextra\\u003e\\u003c\\u002fextra\\u003e\",\"legendgroup\":\"Scotland\",\"marker\":{\"color\":\"rgb(51, 34, 136)\",\"pattern\":{\"shape\":\"\"}},\"name\":\"Scotland\",\"offsetgroup\":\"Scotland\",\"orientation\":\"h\",\"showlegend\":true,\"textposition\":\"auto\",\"x\":[39,92,10],\"xaxis\":\"x5\",\"y\":[\"Right\",\"Wrong\",\"Don\\u2019t know\"],\"yaxis\":\"y5\",\"type\":\"bar\"}],                        {\"template\":{\"data\":{\"barpolar\":[{\"marker\":{\"line\":{\"color\":\"rgb(237,237,237)\",\"width\":0.5},\"pattern\":{\"fillmode\":\"overlay\",\"size\":10,\"solidity\":0.2}},\"type\":\"barpolar\"}],\"bar\":[{\"error_x\":{\"color\":\"rgb(51,51,51)\"},\"error_y\":{\"color\":\"rgb(51,51,51)\"},\"marker\":{\"line\":{\"color\":\"rgb(237,237,237)\",\"width\":0.5},\"pattern\":{\"fillmode\":\"overlay\",\"size\":10,\"solidity\":0.2}},\"type\":\"bar\"}],\"carpet\":[{\"aaxis\":{\"endlinecolor\":\"rgb(51,51,51)\",\"gridcolor\":\"white\",\"linecolor\":\"white\",\"minorgridcolor\":\"white\",\"startlinecolor\":\"rgb(51,51,51)\"},\"baxis\":{\"endlinecolor\":\"rgb(51,51,51)\",\"gridcolor\":\"white\",\"linecolor\":\"white\",\"minorgridcolor\":\"white\",\"startlinecolor\":\"rgb(51,51,51)\"},\"type\":\"carpet\"}],\"choropleth\":[{\"colorbar\":{\"outlinewidth\":0,\"tickcolor\":\"rgb(237,237,237)\",\"ticklen\":6,\"ticks\":\"inside\"},\"type\":\"choropleth\"}],\"contourcarpet\":[{\"colorbar\":{\"outlinewidth\":0,\"tickcolor\":\"rgb(237,237,237)\",\"ticklen\":6,\"ticks\":\"inside\"},\"type\":\"contourcarpet\"}],\"contour\":[{\"colorbar\":{\"outlinewidth\":0,\"tickcolor\":\"rgb(237,237,237)\",\"ticklen\":6,\"ticks\":\"inside\"},\"colorscale\":[[0,\"rgb(20,44,66)\"],[1,\"rgb(90,179,244)\"]],\"type\":\"contour\"}],\"heatmapgl\":[{\"colorbar\":{\"outlinewidth\":0,\"tickcolor\":\"rgb(237,237,237)\",\"ticklen\":6,\"ticks\":\"inside\"},\"colorscale\":[[0,\"rgb(20,44,66)\"],[1,\"rgb(90,179,244)\"]],\"type\":\"heatmapgl\"}],\"heatmap\":[{\"colorbar\":{\"outlinewidth\":0,\"tickcolor\":\"rgb(237,237,237)\",\"ticklen\":6,\"ticks\":\"inside\"},\"colorscale\":[[0,\"rgb(20,44,66)\"],[1,\"rgb(90,179,244)\"]],\"type\":\"heatmap\"}],\"histogram2dcontour\":[{\"colorbar\":{\"outlinewidth\":0,\"tickcolor\":\"rgb(237,237,237)\",\"ticklen\":6,\"ticks\":\"inside\"},\"colorscale\":[[0,\"rgb(20,44,66)\"],[1,\"rgb(90,179,244)\"]],\"type\":\"histogram2dcontour\"}],\"histogram2d\":[{\"colorbar\":{\"outlinewidth\":0,\"tickcolor\":\"rgb(237,237,237)\",\"ticklen\":6,\"ticks\":\"inside\"},\"colorscale\":[[0,\"rgb(20,44,66)\"],[1,\"rgb(90,179,244)\"]],\"type\":\"histogram2d\"}],\"histogram\":[{\"marker\":{\"pattern\":{\"fillmode\":\"overlay\",\"size\":10,\"solidity\":0.2}},\"type\":\"histogram\"}],\"mesh3d\":[{\"colorbar\":{\"outlinewidth\":0,\"tickcolor\":\"rgb(237,237,237)\",\"ticklen\":6,\"ticks\":\"inside\"},\"type\":\"mesh3d\"}],\"parcoords\":[{\"line\":{\"colorbar\":{\"outlinewidth\":0,\"tickcolor\":\"rgb(237,237,237)\",\"ticklen\":6,\"ticks\":\"inside\"}},\"type\":\"parcoords\"}],\"pie\":[{\"automargin\":true,\"type\":\"pie\"}],\"scatter3d\":[{\"line\":{\"colorbar\":{\"outlinewidth\":0,\"tickcolor\":\"rgb(237,237,237)\",\"ticklen\":6,\"ticks\":\"inside\"}},\"marker\":{\"colorbar\":{\"outlinewidth\":0,\"tickcolor\":\"rgb(237,237,237)\",\"ticklen\":6,\"ticks\":\"inside\"}},\"type\":\"scatter3d\"}],\"scattercarpet\":[{\"marker\":{\"colorbar\":{\"outlinewidth\":0,\"tickcolor\":\"rgb(237,237,237)\",\"ticklen\":6,\"ticks\":\"inside\"}},\"type\":\"scattercarpet\"}],\"scattergeo\":[{\"marker\":{\"colorbar\":{\"outlinewidth\":0,\"tickcolor\":\"rgb(237,237,237)\",\"ticklen\":6,\"ticks\":\"inside\"}},\"type\":\"scattergeo\"}],\"scattergl\":[{\"marker\":{\"colorbar\":{\"outlinewidth\":0,\"tickcolor\":\"rgb(237,237,237)\",\"ticklen\":6,\"ticks\":\"inside\"}},\"type\":\"scattergl\"}],\"scattermapbox\":[{\"marker\":{\"colorbar\":{\"outlinewidth\":0,\"tickcolor\":\"rgb(237,237,237)\",\"ticklen\":6,\"ticks\":\"inside\"}},\"type\":\"scattermapbox\"}],\"scatterpolargl\":[{\"marker\":{\"colorbar\":{\"outlinewidth\":0,\"tickcolor\":\"rgb(237,237,237)\",\"ticklen\":6,\"ticks\":\"inside\"}},\"type\":\"scatterpolargl\"}],\"scatterpolar\":[{\"marker\":{\"colorbar\":{\"outlinewidth\":0,\"tickcolor\":\"rgb(237,237,237)\",\"ticklen\":6,\"ticks\":\"inside\"}},\"type\":\"scatterpolar\"}],\"scatter\":[{\"fillpattern\":{\"fillmode\":\"overlay\",\"size\":10,\"solidity\":0.2},\"type\":\"scatter\"}],\"scatterternary\":[{\"marker\":{\"colorbar\":{\"outlinewidth\":0,\"tickcolor\":\"rgb(237,237,237)\",\"ticklen\":6,\"ticks\":\"inside\"}},\"type\":\"scatterternary\"}],\"surface\":[{\"colorbar\":{\"outlinewidth\":0,\"tickcolor\":\"rgb(237,237,237)\",\"ticklen\":6,\"ticks\":\"inside\"},\"colorscale\":[[0,\"rgb(20,44,66)\"],[1,\"rgb(90,179,244)\"]],\"type\":\"surface\"}],\"table\":[{\"cells\":{\"fill\":{\"color\":\"rgb(237,237,237)\"},\"line\":{\"color\":\"white\"}},\"header\":{\"fill\":{\"color\":\"rgb(217,217,217)\"},\"line\":{\"color\":\"white\"}},\"type\":\"table\"}]},\"layout\":{\"annotationdefaults\":{\"arrowhead\":0,\"arrowwidth\":1},\"autotypenumbers\":\"strict\",\"coloraxis\":{\"colorbar\":{\"outlinewidth\":0,\"tickcolor\":\"rgb(237,237,237)\",\"ticklen\":6,\"ticks\":\"inside\"}},\"colorscale\":{\"sequential\":[[0,\"rgb(20,44,66)\"],[1,\"rgb(90,179,244)\"]],\"sequentialminus\":[[0,\"rgb(20,44,66)\"],[1,\"rgb(90,179,244)\"]]},\"colorway\":[\"#F8766D\",\"#A3A500\",\"#00BF7D\",\"#00B0F6\",\"#E76BF3\"],\"font\":{\"color\":\"rgb(51,51,51)\"},\"geo\":{\"bgcolor\":\"white\",\"lakecolor\":\"white\",\"landcolor\":\"rgb(237,237,237)\",\"showlakes\":true,\"showland\":true,\"subunitcolor\":\"white\"},\"hoverlabel\":{\"align\":\"left\"},\"hovermode\":\"closest\",\"paper_bgcolor\":\"white\",\"plot_bgcolor\":\"rgb(237,237,237)\",\"polar\":{\"angularaxis\":{\"gridcolor\":\"white\",\"linecolor\":\"white\",\"showgrid\":true,\"tickcolor\":\"rgb(51,51,51)\",\"ticks\":\"outside\"},\"bgcolor\":\"rgb(237,237,237)\",\"radialaxis\":{\"gridcolor\":\"white\",\"linecolor\":\"white\",\"showgrid\":true,\"tickcolor\":\"rgb(51,51,51)\",\"ticks\":\"outside\"}},\"scene\":{\"xaxis\":{\"backgroundcolor\":\"rgb(237,237,237)\",\"gridcolor\":\"white\",\"gridwidth\":2,\"linecolor\":\"white\",\"showbackground\":true,\"showgrid\":true,\"tickcolor\":\"rgb(51,51,51)\",\"ticks\":\"outside\",\"zerolinecolor\":\"white\"},\"yaxis\":{\"backgroundcolor\":\"rgb(237,237,237)\",\"gridcolor\":\"white\",\"gridwidth\":2,\"linecolor\":\"white\",\"showbackground\":true,\"showgrid\":true,\"tickcolor\":\"rgb(51,51,51)\",\"ticks\":\"outside\",\"zerolinecolor\":\"white\"},\"zaxis\":{\"backgroundcolor\":\"rgb(237,237,237)\",\"gridcolor\":\"white\",\"gridwidth\":2,\"linecolor\":\"white\",\"showbackground\":true,\"showgrid\":true,\"tickcolor\":\"rgb(51,51,51)\",\"ticks\":\"outside\",\"zerolinecolor\":\"white\"}},\"shapedefaults\":{\"fillcolor\":\"black\",\"line\":{\"width\":0},\"opacity\":0.3},\"ternary\":{\"aaxis\":{\"gridcolor\":\"white\",\"linecolor\":\"white\",\"showgrid\":true,\"tickcolor\":\"rgb(51,51,51)\",\"ticks\":\"outside\"},\"baxis\":{\"gridcolor\":\"white\",\"linecolor\":\"white\",\"showgrid\":true,\"tickcolor\":\"rgb(51,51,51)\",\"ticks\":\"outside\"},\"bgcolor\":\"rgb(237,237,237)\",\"caxis\":{\"gridcolor\":\"white\",\"linecolor\":\"white\",\"showgrid\":true,\"tickcolor\":\"rgb(51,51,51)\",\"ticks\":\"outside\"}},\"xaxis\":{\"automargin\":true,\"gridcolor\":\"white\",\"linecolor\":\"white\",\"showgrid\":true,\"tickcolor\":\"rgb(51,51,51)\",\"ticks\":\"outside\",\"title\":{\"standoff\":15},\"zerolinecolor\":\"white\"},\"yaxis\":{\"automargin\":true,\"gridcolor\":\"white\",\"linecolor\":\"white\",\"showgrid\":true,\"tickcolor\":\"rgb(51,51,51)\",\"ticks\":\"outside\",\"title\":{\"standoff\":15},\"zerolinecolor\":\"white\"}}},\"xaxis\":{\"anchor\":\"y\",\"domain\":[0.0,0.18400000000000002],\"title\":{\"text\":\"count\"}},\"yaxis\":{\"anchor\":\"x\",\"domain\":[0.0,1.0],\"title\":{\"text\":\"\"},\"categoryorder\":\"array\",\"categoryarray\":[\"Dont know\",\"Right\",\"Wrong\"]},\"xaxis2\":{\"anchor\":\"y2\",\"domain\":[0.20400000000000001,0.388],\"matches\":\"x\",\"title\":{\"text\":\"count\"}},\"yaxis2\":{\"anchor\":\"x2\",\"domain\":[0.0,1.0],\"matches\":\"y\",\"showticklabels\":false},\"xaxis3\":{\"anchor\":\"y3\",\"domain\":[0.40800000000000003,0.5920000000000001],\"matches\":\"x\",\"title\":{\"text\":\"count\"}},\"yaxis3\":{\"anchor\":\"x3\",\"domain\":[0.0,1.0],\"matches\":\"y\",\"showticklabels\":false},\"xaxis4\":{\"anchor\":\"y4\",\"domain\":[0.6120000000000001,0.7960000000000002],\"matches\":\"x\",\"title\":{\"text\":\"count\"}},\"yaxis4\":{\"anchor\":\"x4\",\"domain\":[0.0,1.0],\"matches\":\"y\",\"showticklabels\":false},\"xaxis5\":{\"anchor\":\"y5\",\"domain\":[0.8160000000000001,1.0],\"matches\":\"x\",\"title\":{\"text\":\"count\"}},\"yaxis5\":{\"anchor\":\"x5\",\"domain\":[0.0,1.0],\"matches\":\"y\",\"showticklabels\":false},\"annotations\":[{\"font\":{},\"showarrow\":false,\"text\":\"London\",\"x\":0.09200000000000001,\"xanchor\":\"center\",\"xref\":\"paper\",\"y\":1.0,\"yanchor\":\"bottom\",\"yref\":\"paper\"},{\"font\":{},\"showarrow\":false,\"text\":\"Rest of South\",\"x\":0.29600000000000004,\"xanchor\":\"center\",\"xref\":\"paper\",\"y\":1.0,\"yanchor\":\"bottom\",\"yref\":\"paper\"},{\"font\":{},\"showarrow\":false,\"text\":\"Midlands and Wales\",\"x\":0.5,\"xanchor\":\"center\",\"xref\":\"paper\",\"y\":1.0,\"yanchor\":\"bottom\",\"yref\":\"paper\"},{\"font\":{},\"showarrow\":false,\"text\":\"North\",\"x\":0.7040000000000002,\"xanchor\":\"center\",\"xref\":\"paper\",\"y\":1.0,\"yanchor\":\"bottom\",\"yref\":\"paper\"},{\"font\":{},\"showarrow\":false,\"text\":\"Scotland\",\"x\":0.908,\"xanchor\":\"center\",\"xref\":\"paper\",\"y\":1.0,\"yanchor\":\"bottom\",\"yref\":\"paper\"}],\"legend\":{\"title\":{\"text\":\"Location\"},\"tracegroupgap\":0},\"margin\":{\"t\":60},\"barmode\":\"relative\",\"title\":{\"text\":\"In hindsight, do you think Britain was right\\u002fwrong to vote to leave EU?\"},\"autosize\":false,\"width\":1000,\"height\":500,\"showlegend\":false},                        {\"responsive\": true}                    ).then(function(){\n",
       "                            \n",
       "var gd = document.getElementById('007adb87-959d-4eb7-8434-9885d05ad662');\n",
       "var x = new MutationObserver(function (mutations, observer) {{\n",
       "        var display = window.getComputedStyle(gd).display;\n",
       "        if (!display || display === 'none') {{\n",
       "            console.log([gd, 'removed!']);\n",
       "            Plotly.purge(gd);\n",
       "            observer.disconnect();\n",
       "        }}\n",
       "}});\n",
       "\n",
       "// Listen for the removal of the full notebook cells\n",
       "var notebookContainer = gd.closest('#notebook-container');\n",
       "if (notebookContainer) {{\n",
       "    x.observe(notebookContainer, {childList: true});\n",
       "}}\n",
       "\n",
       "// Listen for the clearing of the current output cell\n",
       "var outputEl = gd.closest('.output');\n",
       "if (outputEl) {{\n",
       "    x.observe(outputEl, {childList: true});\n",
       "}}\n",
       "\n",
       "                        })                };                });            </script>        </div>"
      ]
     },
     "metadata": {},
     "output_type": "display_data"
    }
   ],
   "source": [
    "my_categories = ['London','Rest of South','Midlands and Wales','North','Scotland']\n",
    "\n",
    "fig = px.bar(DF_plot,y='vote',x='count',\n",
    "             color='location',\n",
    "             facet_col='location',\n",
    "            color_discrete_sequence=px.colors.qualitative.Safe)\n",
    "\n",
    "fig.for_each_annotation(lambda a: a.update(text=a.text.split(\"=\")[1]))\n",
    "\n",
    "my_categories = ['Dont know','Right','Wrong']\n",
    "fig.update_layout(yaxis={'categoryorder': 'array', 'categoryarray': my_categories},\n",
    "                  title='In hindsight, do you think Britain was right/wrong to vote to leave EU?',\n",
    "                  yaxis_title=\"\",\n",
    "                  template='ggplot2',\n",
    "                  legend_title='Location',\n",
    "                  autosize=False,\n",
    "                  width=1000,\n",
    "                  height=500,\n",
    "                 showlegend=False)\n",
    "\n",
    "fig.show()"
   ]
  },
  {
   "cell_type": "markdown",
   "id": "d2a5e380-d1b0-450a-8be7-75d576aa332e",
   "metadata": {},
   "source": [
    "**Q** Which of these two plots do you like better and why?"
   ]
  },
  {
   "cell_type": "markdown",
   "id": "9fd9b206-d290-461b-ac5f-fdf7a874ebba",
   "metadata": {},
   "source": [
    "Definitely the color one. Even though it is still a bit redundant, it is much easier to read at a glance thanks to the colors helping differentiate the bars for different regions."
   ]
  },
  {
   "cell_type": "markdown",
   "id": "58e88488-42d2-4bd9-9f23-ccee3e9d355a",
   "metadata": {},
   "source": [
    "## Selecting meaningful colors.\n",
    "\n",
    "[colorbrewer.org](https://colorbrewer2.org/)\n",
    "\n",
    "Here is an example where colors were picked on the website above and the the codes were put into the color_discrete_map."
   ]
  },
  {
   "cell_type": "code",
   "execution_count": 37,
   "id": "e52c6be7-bb1a-4d0b-b6ac-6cd94e951cd3",
   "metadata": {},
   "outputs": [
    {
     "data": {
      "application/vnd.plotly.v1+json": {
       "config": {
        "plotlyServerURL": "https://plot.ly"
       },
       "data": [
        {
         "alignmentgroup": "True",
         "hovertemplate": "vote=%{y}<br>location=London<br>count=%{x}<extra></extra>",
         "legendgroup": "Right",
         "marker": {
          "color": "#018571",
          "pattern": {
           "shape": ""
          }
         },
         "name": "Right",
         "offsetgroup": "Right",
         "orientation": "h",
         "showlegend": true,
         "textposition": "auto",
         "type": "bar",
         "x": [
          63
         ],
         "xaxis": "x",
         "y": [
          "Right"
         ],
         "yaxis": "y"
        },
        {
         "alignmentgroup": "True",
         "hovertemplate": "vote=%{y}<br>location=Rest of South<br>count=%{x}<extra></extra>",
         "legendgroup": "Right",
         "marker": {
          "color": "#018571",
          "pattern": {
           "shape": ""
          }
         },
         "name": "Right",
         "offsetgroup": "Right",
         "orientation": "h",
         "showlegend": false,
         "textposition": "auto",
         "type": "bar",
         "x": [
          241
         ],
         "xaxis": "x2",
         "y": [
          "Right"
         ],
         "yaxis": "y2"
        },
        {
         "alignmentgroup": "True",
         "hovertemplate": "vote=%{y}<br>location=Midlands and Wales<br>count=%{x}<extra></extra>",
         "legendgroup": "Right",
         "marker": {
          "color": "#018571",
          "pattern": {
           "shape": ""
          }
         },
         "name": "Right",
         "offsetgroup": "Right",
         "orientation": "h",
         "showlegend": false,
         "textposition": "auto",
         "type": "bar",
         "x": [
          145
         ],
         "xaxis": "x3",
         "y": [
          "Right"
         ],
         "yaxis": "y3"
        },
        {
         "alignmentgroup": "True",
         "hovertemplate": "vote=%{y}<br>location=North<br>count=%{x}<extra></extra>",
         "legendgroup": "Right",
         "marker": {
          "color": "#018571",
          "pattern": {
           "shape": ""
          }
         },
         "name": "Right",
         "offsetgroup": "Right",
         "orientation": "h",
         "showlegend": false,
         "textposition": "auto",
         "type": "bar",
         "x": [
          176
         ],
         "xaxis": "x4",
         "y": [
          "Right"
         ],
         "yaxis": "y4"
        },
        {
         "alignmentgroup": "True",
         "hovertemplate": "vote=%{y}<br>location=Scotland<br>count=%{x}<extra></extra>",
         "legendgroup": "Right",
         "marker": {
          "color": "#018571",
          "pattern": {
           "shape": ""
          }
         },
         "name": "Right",
         "offsetgroup": "Right",
         "orientation": "h",
         "showlegend": false,
         "textposition": "auto",
         "type": "bar",
         "x": [
          39
         ],
         "xaxis": "x5",
         "y": [
          "Right"
         ],
         "yaxis": "y5"
        },
        {
         "alignmentgroup": "True",
         "hovertemplate": "vote=%{y}<br>location=London<br>count=%{x}<extra></extra>",
         "legendgroup": "Wrong",
         "marker": {
          "color": "#a6611a",
          "pattern": {
           "shape": ""
          }
         },
         "name": "Wrong",
         "offsetgroup": "Wrong",
         "orientation": "h",
         "showlegend": true,
         "textposition": "auto",
         "type": "bar",
         "x": [
          110
         ],
         "xaxis": "x",
         "y": [
          "Wrong"
         ],
         "yaxis": "y"
        },
        {
         "alignmentgroup": "True",
         "hovertemplate": "vote=%{y}<br>location=Rest of South<br>count=%{x}<extra></extra>",
         "legendgroup": "Wrong",
         "marker": {
          "color": "#a6611a",
          "pattern": {
           "shape": ""
          }
         },
         "name": "Wrong",
         "offsetgroup": "Wrong",
         "orientation": "h",
         "showlegend": false,
         "textposition": "auto",
         "type": "bar",
         "x": [
          257
         ],
         "xaxis": "x2",
         "y": [
          "Wrong"
         ],
         "yaxis": "y2"
        },
        {
         "alignmentgroup": "True",
         "hovertemplate": "vote=%{y}<br>location=Midlands and Wales<br>count=%{x}<extra></extra>",
         "legendgroup": "Wrong",
         "marker": {
          "color": "#a6611a",
          "pattern": {
           "shape": ""
          }
         },
         "name": "Wrong",
         "offsetgroup": "Wrong",
         "orientation": "h",
         "showlegend": false,
         "textposition": "auto",
         "type": "bar",
         "x": [
          152
         ],
         "xaxis": "x3",
         "y": [
          "Wrong"
         ],
         "yaxis": "y3"
        },
        {
         "alignmentgroup": "True",
         "hovertemplate": "vote=%{y}<br>location=North<br>count=%{x}<extra></extra>",
         "legendgroup": "Wrong",
         "marker": {
          "color": "#a6611a",
          "pattern": {
           "shape": ""
          }
         },
         "name": "Wrong",
         "offsetgroup": "Wrong",
         "orientation": "h",
         "showlegend": false,
         "textposition": "auto",
         "type": "bar",
         "x": [
          176
         ],
         "xaxis": "x4",
         "y": [
          "Wrong"
         ],
         "yaxis": "y4"
        },
        {
         "alignmentgroup": "True",
         "hovertemplate": "vote=%{y}<br>location=Scotland<br>count=%{x}<extra></extra>",
         "legendgroup": "Wrong",
         "marker": {
          "color": "#a6611a",
          "pattern": {
           "shape": ""
          }
         },
         "name": "Wrong",
         "offsetgroup": "Wrong",
         "orientation": "h",
         "showlegend": false,
         "textposition": "auto",
         "type": "bar",
         "x": [
          92
         ],
         "xaxis": "x5",
         "y": [
          "Wrong"
         ],
         "yaxis": "y5"
        },
        {
         "alignmentgroup": "True",
         "hovertemplate": "vote=%{y}<br>location=London<br>count=%{x}<extra></extra>",
         "legendgroup": "Don’t know",
         "marker": {
          "color": "#80cdc1",
          "pattern": {
           "shape": ""
          }
         },
         "name": "Don’t know",
         "offsetgroup": "Don’t know",
         "orientation": "h",
         "showlegend": true,
         "textposition": "auto",
         "type": "bar",
         "x": [
          24
         ],
         "xaxis": "x",
         "y": [
          "Don’t know"
         ],
         "yaxis": "y"
        },
        {
         "alignmentgroup": "True",
         "hovertemplate": "vote=%{y}<br>location=Rest of South<br>count=%{x}<extra></extra>",
         "legendgroup": "Don’t know",
         "marker": {
          "color": "#80cdc1",
          "pattern": {
           "shape": ""
          }
         },
         "name": "Don’t know",
         "offsetgroup": "Don’t know",
         "orientation": "h",
         "showlegend": false,
         "textposition": "auto",
         "type": "bar",
         "x": [
          49
         ],
         "xaxis": "x2",
         "y": [
          "Don’t know"
         ],
         "yaxis": "y2"
        },
        {
         "alignmentgroup": "True",
         "hovertemplate": "vote=%{y}<br>location=Midlands and Wales<br>count=%{x}<extra></extra>",
         "legendgroup": "Don’t know",
         "marker": {
          "color": "#80cdc1",
          "pattern": {
           "shape": ""
          }
         },
         "name": "Don’t know",
         "offsetgroup": "Don’t know",
         "orientation": "h",
         "showlegend": false,
         "textposition": "auto",
         "type": "bar",
         "x": [
          57
         ],
         "xaxis": "x3",
         "y": [
          "Don’t know"
         ],
         "yaxis": "y3"
        },
        {
         "alignmentgroup": "True",
         "hovertemplate": "vote=%{y}<br>location=North<br>count=%{x}<extra></extra>",
         "legendgroup": "Don’t know",
         "marker": {
          "color": "#80cdc1",
          "pattern": {
           "shape": ""
          }
         },
         "name": "Don’t know",
         "offsetgroup": "Don’t know",
         "orientation": "h",
         "showlegend": false,
         "textposition": "auto",
         "type": "bar",
         "x": [
          48
         ],
         "xaxis": "x4",
         "y": [
          "Don’t know"
         ],
         "yaxis": "y4"
        },
        {
         "alignmentgroup": "True",
         "hovertemplate": "vote=%{y}<br>location=Scotland<br>count=%{x}<extra></extra>",
         "legendgroup": "Don’t know",
         "marker": {
          "color": "#80cdc1",
          "pattern": {
           "shape": ""
          }
         },
         "name": "Don’t know",
         "offsetgroup": "Don’t know",
         "orientation": "h",
         "showlegend": false,
         "textposition": "auto",
         "type": "bar",
         "x": [
          10
         ],
         "xaxis": "x5",
         "y": [
          "Don’t know"
         ],
         "yaxis": "y5"
        }
       ],
       "layout": {
        "annotations": [
         {
          "font": {},
          "showarrow": false,
          "text": "London",
          "x": 0.09200000000000001,
          "xanchor": "center",
          "xref": "paper",
          "y": 1,
          "yanchor": "bottom",
          "yref": "paper"
         },
         {
          "font": {},
          "showarrow": false,
          "text": "Rest of South",
          "x": 0.29600000000000004,
          "xanchor": "center",
          "xref": "paper",
          "y": 1,
          "yanchor": "bottom",
          "yref": "paper"
         },
         {
          "font": {},
          "showarrow": false,
          "text": "Midlands and Wales",
          "x": 0.5,
          "xanchor": "center",
          "xref": "paper",
          "y": 1,
          "yanchor": "bottom",
          "yref": "paper"
         },
         {
          "font": {},
          "showarrow": false,
          "text": "North",
          "x": 0.7040000000000002,
          "xanchor": "center",
          "xref": "paper",
          "y": 1,
          "yanchor": "bottom",
          "yref": "paper"
         },
         {
          "font": {},
          "showarrow": false,
          "text": "Scotland",
          "x": 0.908,
          "xanchor": "center",
          "xref": "paper",
          "y": 1,
          "yanchor": "bottom",
          "yref": "paper"
         }
        ],
        "autosize": false,
        "barmode": "relative",
        "height": 500,
        "legend": {
         "title": {
          "text": "Location"
         },
         "tracegroupgap": 0
        },
        "margin": {
         "t": 60
        },
        "showlegend": false,
        "template": {
         "data": {
          "bar": [
           {
            "error_x": {
             "color": "rgb(51,51,51)"
            },
            "error_y": {
             "color": "rgb(51,51,51)"
            },
            "marker": {
             "line": {
              "color": "rgb(237,237,237)",
              "width": 0.5
             },
             "pattern": {
              "fillmode": "overlay",
              "size": 10,
              "solidity": 0.2
             }
            },
            "type": "bar"
           }
          ],
          "barpolar": [
           {
            "marker": {
             "line": {
              "color": "rgb(237,237,237)",
              "width": 0.5
             },
             "pattern": {
              "fillmode": "overlay",
              "size": 10,
              "solidity": 0.2
             }
            },
            "type": "barpolar"
           }
          ],
          "carpet": [
           {
            "aaxis": {
             "endlinecolor": "rgb(51,51,51)",
             "gridcolor": "white",
             "linecolor": "white",
             "minorgridcolor": "white",
             "startlinecolor": "rgb(51,51,51)"
            },
            "baxis": {
             "endlinecolor": "rgb(51,51,51)",
             "gridcolor": "white",
             "linecolor": "white",
             "minorgridcolor": "white",
             "startlinecolor": "rgb(51,51,51)"
            },
            "type": "carpet"
           }
          ],
          "choropleth": [
           {
            "colorbar": {
             "outlinewidth": 0,
             "tickcolor": "rgb(237,237,237)",
             "ticklen": 6,
             "ticks": "inside"
            },
            "type": "choropleth"
           }
          ],
          "contour": [
           {
            "colorbar": {
             "outlinewidth": 0,
             "tickcolor": "rgb(237,237,237)",
             "ticklen": 6,
             "ticks": "inside"
            },
            "colorscale": [
             [
              0,
              "rgb(20,44,66)"
             ],
             [
              1,
              "rgb(90,179,244)"
             ]
            ],
            "type": "contour"
           }
          ],
          "contourcarpet": [
           {
            "colorbar": {
             "outlinewidth": 0,
             "tickcolor": "rgb(237,237,237)",
             "ticklen": 6,
             "ticks": "inside"
            },
            "type": "contourcarpet"
           }
          ],
          "heatmap": [
           {
            "colorbar": {
             "outlinewidth": 0,
             "tickcolor": "rgb(237,237,237)",
             "ticklen": 6,
             "ticks": "inside"
            },
            "colorscale": [
             [
              0,
              "rgb(20,44,66)"
             ],
             [
              1,
              "rgb(90,179,244)"
             ]
            ],
            "type": "heatmap"
           }
          ],
          "heatmapgl": [
           {
            "colorbar": {
             "outlinewidth": 0,
             "tickcolor": "rgb(237,237,237)",
             "ticklen": 6,
             "ticks": "inside"
            },
            "colorscale": [
             [
              0,
              "rgb(20,44,66)"
             ],
             [
              1,
              "rgb(90,179,244)"
             ]
            ],
            "type": "heatmapgl"
           }
          ],
          "histogram": [
           {
            "marker": {
             "pattern": {
              "fillmode": "overlay",
              "size": 10,
              "solidity": 0.2
             }
            },
            "type": "histogram"
           }
          ],
          "histogram2d": [
           {
            "colorbar": {
             "outlinewidth": 0,
             "tickcolor": "rgb(237,237,237)",
             "ticklen": 6,
             "ticks": "inside"
            },
            "colorscale": [
             [
              0,
              "rgb(20,44,66)"
             ],
             [
              1,
              "rgb(90,179,244)"
             ]
            ],
            "type": "histogram2d"
           }
          ],
          "histogram2dcontour": [
           {
            "colorbar": {
             "outlinewidth": 0,
             "tickcolor": "rgb(237,237,237)",
             "ticklen": 6,
             "ticks": "inside"
            },
            "colorscale": [
             [
              0,
              "rgb(20,44,66)"
             ],
             [
              1,
              "rgb(90,179,244)"
             ]
            ],
            "type": "histogram2dcontour"
           }
          ],
          "mesh3d": [
           {
            "colorbar": {
             "outlinewidth": 0,
             "tickcolor": "rgb(237,237,237)",
             "ticklen": 6,
             "ticks": "inside"
            },
            "type": "mesh3d"
           }
          ],
          "parcoords": [
           {
            "line": {
             "colorbar": {
              "outlinewidth": 0,
              "tickcolor": "rgb(237,237,237)",
              "ticklen": 6,
              "ticks": "inside"
             }
            },
            "type": "parcoords"
           }
          ],
          "pie": [
           {
            "automargin": true,
            "type": "pie"
           }
          ],
          "scatter": [
           {
            "fillpattern": {
             "fillmode": "overlay",
             "size": 10,
             "solidity": 0.2
            },
            "type": "scatter"
           }
          ],
          "scatter3d": [
           {
            "line": {
             "colorbar": {
              "outlinewidth": 0,
              "tickcolor": "rgb(237,237,237)",
              "ticklen": 6,
              "ticks": "inside"
             }
            },
            "marker": {
             "colorbar": {
              "outlinewidth": 0,
              "tickcolor": "rgb(237,237,237)",
              "ticklen": 6,
              "ticks": "inside"
             }
            },
            "type": "scatter3d"
           }
          ],
          "scattercarpet": [
           {
            "marker": {
             "colorbar": {
              "outlinewidth": 0,
              "tickcolor": "rgb(237,237,237)",
              "ticklen": 6,
              "ticks": "inside"
             }
            },
            "type": "scattercarpet"
           }
          ],
          "scattergeo": [
           {
            "marker": {
             "colorbar": {
              "outlinewidth": 0,
              "tickcolor": "rgb(237,237,237)",
              "ticklen": 6,
              "ticks": "inside"
             }
            },
            "type": "scattergeo"
           }
          ],
          "scattergl": [
           {
            "marker": {
             "colorbar": {
              "outlinewidth": 0,
              "tickcolor": "rgb(237,237,237)",
              "ticklen": 6,
              "ticks": "inside"
             }
            },
            "type": "scattergl"
           }
          ],
          "scattermapbox": [
           {
            "marker": {
             "colorbar": {
              "outlinewidth": 0,
              "tickcolor": "rgb(237,237,237)",
              "ticklen": 6,
              "ticks": "inside"
             }
            },
            "type": "scattermapbox"
           }
          ],
          "scatterpolar": [
           {
            "marker": {
             "colorbar": {
              "outlinewidth": 0,
              "tickcolor": "rgb(237,237,237)",
              "ticklen": 6,
              "ticks": "inside"
             }
            },
            "type": "scatterpolar"
           }
          ],
          "scatterpolargl": [
           {
            "marker": {
             "colorbar": {
              "outlinewidth": 0,
              "tickcolor": "rgb(237,237,237)",
              "ticklen": 6,
              "ticks": "inside"
             }
            },
            "type": "scatterpolargl"
           }
          ],
          "scatterternary": [
           {
            "marker": {
             "colorbar": {
              "outlinewidth": 0,
              "tickcolor": "rgb(237,237,237)",
              "ticklen": 6,
              "ticks": "inside"
             }
            },
            "type": "scatterternary"
           }
          ],
          "surface": [
           {
            "colorbar": {
             "outlinewidth": 0,
             "tickcolor": "rgb(237,237,237)",
             "ticklen": 6,
             "ticks": "inside"
            },
            "colorscale": [
             [
              0,
              "rgb(20,44,66)"
             ],
             [
              1,
              "rgb(90,179,244)"
             ]
            ],
            "type": "surface"
           }
          ],
          "table": [
           {
            "cells": {
             "fill": {
              "color": "rgb(237,237,237)"
             },
             "line": {
              "color": "white"
             }
            },
            "header": {
             "fill": {
              "color": "rgb(217,217,217)"
             },
             "line": {
              "color": "white"
             }
            },
            "type": "table"
           }
          ]
         },
         "layout": {
          "annotationdefaults": {
           "arrowhead": 0,
           "arrowwidth": 1
          },
          "autotypenumbers": "strict",
          "coloraxis": {
           "colorbar": {
            "outlinewidth": 0,
            "tickcolor": "rgb(237,237,237)",
            "ticklen": 6,
            "ticks": "inside"
           }
          },
          "colorscale": {
           "sequential": [
            [
             0,
             "rgb(20,44,66)"
            ],
            [
             1,
             "rgb(90,179,244)"
            ]
           ],
           "sequentialminus": [
            [
             0,
             "rgb(20,44,66)"
            ],
            [
             1,
             "rgb(90,179,244)"
            ]
           ]
          },
          "colorway": [
           "#F8766D",
           "#A3A500",
           "#00BF7D",
           "#00B0F6",
           "#E76BF3"
          ],
          "font": {
           "color": "rgb(51,51,51)"
          },
          "geo": {
           "bgcolor": "white",
           "lakecolor": "white",
           "landcolor": "rgb(237,237,237)",
           "showlakes": true,
           "showland": true,
           "subunitcolor": "white"
          },
          "hoverlabel": {
           "align": "left"
          },
          "hovermode": "closest",
          "paper_bgcolor": "white",
          "plot_bgcolor": "rgb(237,237,237)",
          "polar": {
           "angularaxis": {
            "gridcolor": "white",
            "linecolor": "white",
            "showgrid": true,
            "tickcolor": "rgb(51,51,51)",
            "ticks": "outside"
           },
           "bgcolor": "rgb(237,237,237)",
           "radialaxis": {
            "gridcolor": "white",
            "linecolor": "white",
            "showgrid": true,
            "tickcolor": "rgb(51,51,51)",
            "ticks": "outside"
           }
          },
          "scene": {
           "xaxis": {
            "backgroundcolor": "rgb(237,237,237)",
            "gridcolor": "white",
            "gridwidth": 2,
            "linecolor": "white",
            "showbackground": true,
            "showgrid": true,
            "tickcolor": "rgb(51,51,51)",
            "ticks": "outside",
            "zerolinecolor": "white"
           },
           "yaxis": {
            "backgroundcolor": "rgb(237,237,237)",
            "gridcolor": "white",
            "gridwidth": 2,
            "linecolor": "white",
            "showbackground": true,
            "showgrid": true,
            "tickcolor": "rgb(51,51,51)",
            "ticks": "outside",
            "zerolinecolor": "white"
           },
           "zaxis": {
            "backgroundcolor": "rgb(237,237,237)",
            "gridcolor": "white",
            "gridwidth": 2,
            "linecolor": "white",
            "showbackground": true,
            "showgrid": true,
            "tickcolor": "rgb(51,51,51)",
            "ticks": "outside",
            "zerolinecolor": "white"
           }
          },
          "shapedefaults": {
           "fillcolor": "black",
           "line": {
            "width": 0
           },
           "opacity": 0.3
          },
          "ternary": {
           "aaxis": {
            "gridcolor": "white",
            "linecolor": "white",
            "showgrid": true,
            "tickcolor": "rgb(51,51,51)",
            "ticks": "outside"
           },
           "baxis": {
            "gridcolor": "white",
            "linecolor": "white",
            "showgrid": true,
            "tickcolor": "rgb(51,51,51)",
            "ticks": "outside"
           },
           "bgcolor": "rgb(237,237,237)",
           "caxis": {
            "gridcolor": "white",
            "linecolor": "white",
            "showgrid": true,
            "tickcolor": "rgb(51,51,51)",
            "ticks": "outside"
           }
          },
          "xaxis": {
           "automargin": true,
           "gridcolor": "white",
           "linecolor": "white",
           "showgrid": true,
           "tickcolor": "rgb(51,51,51)",
           "ticks": "outside",
           "title": {
            "standoff": 15
           },
           "zerolinecolor": "white"
          },
          "yaxis": {
           "automargin": true,
           "gridcolor": "white",
           "linecolor": "white",
           "showgrid": true,
           "tickcolor": "rgb(51,51,51)",
           "ticks": "outside",
           "title": {
            "standoff": 15
           },
           "zerolinecolor": "white"
          }
         }
        },
        "title": {
         "text": "In hindsight, do you think Britain was right/wrong to vote to leave EU?"
        },
        "width": 1000,
        "xaxis": {
         "anchor": "y",
         "autorange": true,
         "domain": [
          0,
          0.18400000000000002
         ],
         "range": [
          0,
          270.5263157894737
         ],
         "title": {
          "text": "count"
         },
         "type": "linear"
        },
        "xaxis2": {
         "anchor": "y2",
         "autorange": true,
         "domain": [
          0.20400000000000001,
          0.388
         ],
         "matches": "x",
         "range": [
          0,
          270.5263157894737
         ],
         "title": {
          "text": "count"
         },
         "type": "linear"
        },
        "xaxis3": {
         "anchor": "y3",
         "autorange": true,
         "domain": [
          0.40800000000000003,
          0.5920000000000001
         ],
         "matches": "x",
         "range": [
          0,
          270.5263157894737
         ],
         "title": {
          "text": "count"
         },
         "type": "linear"
        },
        "xaxis4": {
         "anchor": "y4",
         "autorange": true,
         "domain": [
          0.6120000000000001,
          0.7960000000000002
         ],
         "matches": "x",
         "range": [
          0,
          270.5263157894737
         ],
         "title": {
          "text": "count"
         },
         "type": "linear"
        },
        "xaxis5": {
         "anchor": "y5",
         "autorange": true,
         "domain": [
          0.8160000000000001,
          1
         ],
         "matches": "x",
         "range": [
          0,
          270.5263157894737
         ],
         "title": {
          "text": "count"
         },
         "type": "linear"
        },
        "yaxis": {
         "anchor": "x",
         "autorange": true,
         "categoryarray": [
          "Dont know",
          "Right",
          "Wrong"
         ],
         "categoryorder": "array",
         "domain": [
          0,
          1
         ],
         "range": [
          0.5,
          3.5
         ],
         "title": {
          "text": ""
         },
         "type": "category"
        },
        "yaxis2": {
         "anchor": "x2",
         "autorange": true,
         "domain": [
          0,
          1
         ],
         "matches": "y",
         "range": [
          0.5,
          3.5
         ],
         "showticklabels": false,
         "type": "category"
        },
        "yaxis3": {
         "anchor": "x3",
         "autorange": true,
         "domain": [
          0,
          1
         ],
         "matches": "y",
         "range": [
          0.5,
          3.5
         ],
         "showticklabels": false,
         "type": "category"
        },
        "yaxis4": {
         "anchor": "x4",
         "autorange": true,
         "domain": [
          0,
          1
         ],
         "matches": "y",
         "range": [
          0.5,
          3.5
         ],
         "showticklabels": false,
         "type": "category"
        },
        "yaxis5": {
         "anchor": "x5",
         "autorange": true,
         "domain": [
          0,
          1
         ],
         "matches": "y",
         "range": [
          0.5,
          3.5
         ],
         "showticklabels": false,
         "type": "category"
        }
       }
      },
      "image/png": "[encoded data removed]",
      "text/html": [
       "<div>                            <div id=\"b18f25ca-e249-49ec-8963-c94c6c73fac0\" class=\"plotly-graph-div\" style=\"height:500px; width:1000px;\"></div>            <script type=\"text/javascript\">                require([\"plotly\"], function(Plotly) {                    window.PLOTLYENV=window.PLOTLYENV || {};                                    if (document.getElementById(\"b18f25ca-e249-49ec-8963-c94c6c73fac0\")) {                    Plotly.newPlot(                        \"b18f25ca-e249-49ec-8963-c94c6c73fac0\",                        [{\"alignmentgroup\":\"True\",\"hovertemplate\":\"vote=%{y}\\u003cbr\\u003elocation=London\\u003cbr\\u003ecount=%{x}\\u003cextra\\u003e\\u003c\\u002fextra\\u003e\",\"legendgroup\":\"Right\",\"marker\":{\"color\":\"#018571\",\"pattern\":{\"shape\":\"\"}},\"name\":\"Right\",\"offsetgroup\":\"Right\",\"orientation\":\"h\",\"showlegend\":true,\"textposition\":\"auto\",\"x\":[63],\"xaxis\":\"x\",\"y\":[\"Right\"],\"yaxis\":\"y\",\"type\":\"bar\"},{\"alignmentgroup\":\"True\",\"hovertemplate\":\"vote=%{y}\\u003cbr\\u003elocation=Rest of South\\u003cbr\\u003ecount=%{x}\\u003cextra\\u003e\\u003c\\u002fextra\\u003e\",\"legendgroup\":\"Right\",\"marker\":{\"color\":\"#018571\",\"pattern\":{\"shape\":\"\"}},\"name\":\"Right\",\"offsetgroup\":\"Right\",\"orientation\":\"h\",\"showlegend\":false,\"textposition\":\"auto\",\"x\":[241],\"xaxis\":\"x2\",\"y\":[\"Right\"],\"yaxis\":\"y2\",\"type\":\"bar\"},{\"alignmentgroup\":\"True\",\"hovertemplate\":\"vote=%{y}\\u003cbr\\u003elocation=Midlands and Wales\\u003cbr\\u003ecount=%{x}\\u003cextra\\u003e\\u003c\\u002fextra\\u003e\",\"legendgroup\":\"Right\",\"marker\":{\"color\":\"#018571\",\"pattern\":{\"shape\":\"\"}},\"name\":\"Right\",\"offsetgroup\":\"Right\",\"orientation\":\"h\",\"showlegend\":false,\"textposition\":\"auto\",\"x\":[145],\"xaxis\":\"x3\",\"y\":[\"Right\"],\"yaxis\":\"y3\",\"type\":\"bar\"},{\"alignmentgroup\":\"True\",\"hovertemplate\":\"vote=%{y}\\u003cbr\\u003elocation=North\\u003cbr\\u003ecount=%{x}\\u003cextra\\u003e\\u003c\\u002fextra\\u003e\",\"legendgroup\":\"Right\",\"marker\":{\"color\":\"#018571\",\"pattern\":{\"shape\":\"\"}},\"name\":\"Right\",\"offsetgroup\":\"Right\",\"orientation\":\"h\",\"showlegend\":false,\"textposition\":\"auto\",\"x\":[176],\"xaxis\":\"x4\",\"y\":[\"Right\"],\"yaxis\":\"y4\",\"type\":\"bar\"},{\"alignmentgroup\":\"True\",\"hovertemplate\":\"vote=%{y}\\u003cbr\\u003elocation=Scotland\\u003cbr\\u003ecount=%{x}\\u003cextra\\u003e\\u003c\\u002fextra\\u003e\",\"legendgroup\":\"Right\",\"marker\":{\"color\":\"#018571\",\"pattern\":{\"shape\":\"\"}},\"name\":\"Right\",\"offsetgroup\":\"Right\",\"orientation\":\"h\",\"showlegend\":false,\"textposition\":\"auto\",\"x\":[39],\"xaxis\":\"x5\",\"y\":[\"Right\"],\"yaxis\":\"y5\",\"type\":\"bar\"},{\"alignmentgroup\":\"True\",\"hovertemplate\":\"vote=%{y}\\u003cbr\\u003elocation=London\\u003cbr\\u003ecount=%{x}\\u003cextra\\u003e\\u003c\\u002fextra\\u003e\",\"legendgroup\":\"Wrong\",\"marker\":{\"color\":\"#a6611a\",\"pattern\":{\"shape\":\"\"}},\"name\":\"Wrong\",\"offsetgroup\":\"Wrong\",\"orientation\":\"h\",\"showlegend\":true,\"textposition\":\"auto\",\"x\":[110],\"xaxis\":\"x\",\"y\":[\"Wrong\"],\"yaxis\":\"y\",\"type\":\"bar\"},{\"alignmentgroup\":\"True\",\"hovertemplate\":\"vote=%{y}\\u003cbr\\u003elocation=Rest of South\\u003cbr\\u003ecount=%{x}\\u003cextra\\u003e\\u003c\\u002fextra\\u003e\",\"legendgroup\":\"Wrong\",\"marker\":{\"color\":\"#a6611a\",\"pattern\":{\"shape\":\"\"}},\"name\":\"Wrong\",\"offsetgroup\":\"Wrong\",\"orientation\":\"h\",\"showlegend\":false,\"textposition\":\"auto\",\"x\":[257],\"xaxis\":\"x2\",\"y\":[\"Wrong\"],\"yaxis\":\"y2\",\"type\":\"bar\"},{\"alignmentgroup\":\"True\",\"hovertemplate\":\"vote=%{y}\\u003cbr\\u003elocation=Midlands and Wales\\u003cbr\\u003ecount=%{x}\\u003cextra\\u003e\\u003c\\u002fextra\\u003e\",\"legendgroup\":\"Wrong\",\"marker\":{\"color\":\"#a6611a\",\"pattern\":{\"shape\":\"\"}},\"name\":\"Wrong\",\"offsetgroup\":\"Wrong\",\"orientation\":\"h\",\"showlegend\":false,\"textposition\":\"auto\",\"x\":[152],\"xaxis\":\"x3\",\"y\":[\"Wrong\"],\"yaxis\":\"y3\",\"type\":\"bar\"},{\"alignmentgroup\":\"True\",\"hovertemplate\":\"vote=%{y}\\u003cbr\\u003elocation=North\\u003cbr\\u003ecount=%{x}\\u003cextra\\u003e\\u003c\\u002fextra\\u003e\",\"legendgroup\":\"Wrong\",\"marker\":{\"color\":\"#a6611a\",\"pattern\":{\"shape\":\"\"}},\"name\":\"Wrong\",\"offsetgroup\":\"Wrong\",\"orientation\":\"h\",\"showlegend\":false,\"textposition\":\"auto\",\"x\":[176],\"xaxis\":\"x4\",\"y\":[\"Wrong\"],\"yaxis\":\"y4\",\"type\":\"bar\"},{\"alignmentgroup\":\"True\",\"hovertemplate\":\"vote=%{y}\\u003cbr\\u003elocation=Scotland\\u003cbr\\u003ecount=%{x}\\u003cextra\\u003e\\u003c\\u002fextra\\u003e\",\"legendgroup\":\"Wrong\",\"marker\":{\"color\":\"#a6611a\",\"pattern\":{\"shape\":\"\"}},\"name\":\"Wrong\",\"offsetgroup\":\"Wrong\",\"orientation\":\"h\",\"showlegend\":false,\"textposition\":\"auto\",\"x\":[92],\"xaxis\":\"x5\",\"y\":[\"Wrong\"],\"yaxis\":\"y5\",\"type\":\"bar\"},{\"alignmentgroup\":\"True\",\"hovertemplate\":\"vote=%{y}\\u003cbr\\u003elocation=London\\u003cbr\\u003ecount=%{x}\\u003cextra\\u003e\\u003c\\u002fextra\\u003e\",\"legendgroup\":\"Don\\u2019t know\",\"marker\":{\"color\":\"#80cdc1\",\"pattern\":{\"shape\":\"\"}},\"name\":\"Don\\u2019t know\",\"offsetgroup\":\"Don\\u2019t know\",\"orientation\":\"h\",\"showlegend\":true,\"textposition\":\"auto\",\"x\":[24],\"xaxis\":\"x\",\"y\":[\"Don\\u2019t know\"],\"yaxis\":\"y\",\"type\":\"bar\"},{\"alignmentgroup\":\"True\",\"hovertemplate\":\"vote=%{y}\\u003cbr\\u003elocation=Rest of South\\u003cbr\\u003ecount=%{x}\\u003cextra\\u003e\\u003c\\u002fextra\\u003e\",\"legendgroup\":\"Don\\u2019t know\",\"marker\":{\"color\":\"#80cdc1\",\"pattern\":{\"shape\":\"\"}},\"name\":\"Don\\u2019t know\",\"offsetgroup\":\"Don\\u2019t know\",\"orientation\":\"h\",\"showlegend\":false,\"textposition\":\"auto\",\"x\":[49],\"xaxis\":\"x2\",\"y\":[\"Don\\u2019t know\"],\"yaxis\":\"y2\",\"type\":\"bar\"},{\"alignmentgroup\":\"True\",\"hovertemplate\":\"vote=%{y}\\u003cbr\\u003elocation=Midlands and Wales\\u003cbr\\u003ecount=%{x}\\u003cextra\\u003e\\u003c\\u002fextra\\u003e\",\"legendgroup\":\"Don\\u2019t know\",\"marker\":{\"color\":\"#80cdc1\",\"pattern\":{\"shape\":\"\"}},\"name\":\"Don\\u2019t know\",\"offsetgroup\":\"Don\\u2019t know\",\"orientation\":\"h\",\"showlegend\":false,\"textposition\":\"auto\",\"x\":[57],\"xaxis\":\"x3\",\"y\":[\"Don\\u2019t know\"],\"yaxis\":\"y3\",\"type\":\"bar\"},{\"alignmentgroup\":\"True\",\"hovertemplate\":\"vote=%{y}\\u003cbr\\u003elocation=North\\u003cbr\\u003ecount=%{x}\\u003cextra\\u003e\\u003c\\u002fextra\\u003e\",\"legendgroup\":\"Don\\u2019t know\",\"marker\":{\"color\":\"#80cdc1\",\"pattern\":{\"shape\":\"\"}},\"name\":\"Don\\u2019t know\",\"offsetgroup\":\"Don\\u2019t know\",\"orientation\":\"h\",\"showlegend\":false,\"textposition\":\"auto\",\"x\":[48],\"xaxis\":\"x4\",\"y\":[\"Don\\u2019t know\"],\"yaxis\":\"y4\",\"type\":\"bar\"},{\"alignmentgroup\":\"True\",\"hovertemplate\":\"vote=%{y}\\u003cbr\\u003elocation=Scotland\\u003cbr\\u003ecount=%{x}\\u003cextra\\u003e\\u003c\\u002fextra\\u003e\",\"legendgroup\":\"Don\\u2019t know\",\"marker\":{\"color\":\"#80cdc1\",\"pattern\":{\"shape\":\"\"}},\"name\":\"Don\\u2019t know\",\"offsetgroup\":\"Don\\u2019t know\",\"orientation\":\"h\",\"showlegend\":false,\"textposition\":\"auto\",\"x\":[10],\"xaxis\":\"x5\",\"y\":[\"Don\\u2019t know\"],\"yaxis\":\"y5\",\"type\":\"bar\"}],                        {\"template\":{\"data\":{\"barpolar\":[{\"marker\":{\"line\":{\"color\":\"rgb(237,237,237)\",\"width\":0.5},\"pattern\":{\"fillmode\":\"overlay\",\"size\":10,\"solidity\":0.2}},\"type\":\"barpolar\"}],\"bar\":[{\"error_x\":{\"color\":\"rgb(51,51,51)\"},\"error_y\":{\"color\":\"rgb(51,51,51)\"},\"marker\":{\"line\":{\"color\":\"rgb(237,237,237)\",\"width\":0.5},\"pattern\":{\"fillmode\":\"overlay\",\"size\":10,\"solidity\":0.2}},\"type\":\"bar\"}],\"carpet\":[{\"aaxis\":{\"endlinecolor\":\"rgb(51,51,51)\",\"gridcolor\":\"white\",\"linecolor\":\"white\",\"minorgridcolor\":\"white\",\"startlinecolor\":\"rgb(51,51,51)\"},\"baxis\":{\"endlinecolor\":\"rgb(51,51,51)\",\"gridcolor\":\"white\",\"linecolor\":\"white\",\"minorgridcolor\":\"white\",\"startlinecolor\":\"rgb(51,51,51)\"},\"type\":\"carpet\"}],\"choropleth\":[{\"colorbar\":{\"outlinewidth\":0,\"tickcolor\":\"rgb(237,237,237)\",\"ticklen\":6,\"ticks\":\"inside\"},\"type\":\"choropleth\"}],\"contourcarpet\":[{\"colorbar\":{\"outlinewidth\":0,\"tickcolor\":\"rgb(237,237,237)\",\"ticklen\":6,\"ticks\":\"inside\"},\"type\":\"contourcarpet\"}],\"contour\":[{\"colorbar\":{\"outlinewidth\":0,\"tickcolor\":\"rgb(237,237,237)\",\"ticklen\":6,\"ticks\":\"inside\"},\"colorscale\":[[0,\"rgb(20,44,66)\"],[1,\"rgb(90,179,244)\"]],\"type\":\"contour\"}],\"heatmapgl\":[{\"colorbar\":{\"outlinewidth\":0,\"tickcolor\":\"rgb(237,237,237)\",\"ticklen\":6,\"ticks\":\"inside\"},\"colorscale\":[[0,\"rgb(20,44,66)\"],[1,\"rgb(90,179,244)\"]],\"type\":\"heatmapgl\"}],\"heatmap\":[{\"colorbar\":{\"outlinewidth\":0,\"tickcolor\":\"rgb(237,237,237)\",\"ticklen\":6,\"ticks\":\"inside\"},\"colorscale\":[[0,\"rgb(20,44,66)\"],[1,\"rgb(90,179,244)\"]],\"type\":\"heatmap\"}],\"histogram2dcontour\":[{\"colorbar\":{\"outlinewidth\":0,\"tickcolor\":\"rgb(237,237,237)\",\"ticklen\":6,\"ticks\":\"inside\"},\"colorscale\":[[0,\"rgb(20,44,66)\"],[1,\"rgb(90,179,244)\"]],\"type\":\"histogram2dcontour\"}],\"histogram2d\":[{\"colorbar\":{\"outlinewidth\":0,\"tickcolor\":\"rgb(237,237,237)\",\"ticklen\":6,\"ticks\":\"inside\"},\"colorscale\":[[0,\"rgb(20,44,66)\"],[1,\"rgb(90,179,244)\"]],\"type\":\"histogram2d\"}],\"histogram\":[{\"marker\":{\"pattern\":{\"fillmode\":\"overlay\",\"size\":10,\"solidity\":0.2}},\"type\":\"histogram\"}],\"mesh3d\":[{\"colorbar\":{\"outlinewidth\":0,\"tickcolor\":\"rgb(237,237,237)\",\"ticklen\":6,\"ticks\":\"inside\"},\"type\":\"mesh3d\"}],\"parcoords\":[{\"line\":{\"colorbar\":{\"outlinewidth\":0,\"tickcolor\":\"rgb(237,237,237)\",\"ticklen\":6,\"ticks\":\"inside\"}},\"type\":\"parcoords\"}],\"pie\":[{\"automargin\":true,\"type\":\"pie\"}],\"scatter3d\":[{\"line\":{\"colorbar\":{\"outlinewidth\":0,\"tickcolor\":\"rgb(237,237,237)\",\"ticklen\":6,\"ticks\":\"inside\"}},\"marker\":{\"colorbar\":{\"outlinewidth\":0,\"tickcolor\":\"rgb(237,237,237)\",\"ticklen\":6,\"ticks\":\"inside\"}},\"type\":\"scatter3d\"}],\"scattercarpet\":[{\"marker\":{\"colorbar\":{\"outlinewidth\":0,\"tickcolor\":\"rgb(237,237,237)\",\"ticklen\":6,\"ticks\":\"inside\"}},\"type\":\"scattercarpet\"}],\"scattergeo\":[{\"marker\":{\"colorbar\":{\"outlinewidth\":0,\"tickcolor\":\"rgb(237,237,237)\",\"ticklen\":6,\"ticks\":\"inside\"}},\"type\":\"scattergeo\"}],\"scattergl\":[{\"marker\":{\"colorbar\":{\"outlinewidth\":0,\"tickcolor\":\"rgb(237,237,237)\",\"ticklen\":6,\"ticks\":\"inside\"}},\"type\":\"scattergl\"}],\"scattermapbox\":[{\"marker\":{\"colorbar\":{\"outlinewidth\":0,\"tickcolor\":\"rgb(237,237,237)\",\"ticklen\":6,\"ticks\":\"inside\"}},\"type\":\"scattermapbox\"}],\"scatterpolargl\":[{\"marker\":{\"colorbar\":{\"outlinewidth\":0,\"tickcolor\":\"rgb(237,237,237)\",\"ticklen\":6,\"ticks\":\"inside\"}},\"type\":\"scatterpolargl\"}],\"scatterpolar\":[{\"marker\":{\"colorbar\":{\"outlinewidth\":0,\"tickcolor\":\"rgb(237,237,237)\",\"ticklen\":6,\"ticks\":\"inside\"}},\"type\":\"scatterpolar\"}],\"scatter\":[{\"fillpattern\":{\"fillmode\":\"overlay\",\"size\":10,\"solidity\":0.2},\"type\":\"scatter\"}],\"scatterternary\":[{\"marker\":{\"colorbar\":{\"outlinewidth\":0,\"tickcolor\":\"rgb(237,237,237)\",\"ticklen\":6,\"ticks\":\"inside\"}},\"type\":\"scatterternary\"}],\"surface\":[{\"colorbar\":{\"outlinewidth\":0,\"tickcolor\":\"rgb(237,237,237)\",\"ticklen\":6,\"ticks\":\"inside\"},\"colorscale\":[[0,\"rgb(20,44,66)\"],[1,\"rgb(90,179,244)\"]],\"type\":\"surface\"}],\"table\":[{\"cells\":{\"fill\":{\"color\":\"rgb(237,237,237)\"},\"line\":{\"color\":\"white\"}},\"header\":{\"fill\":{\"color\":\"rgb(217,217,217)\"},\"line\":{\"color\":\"white\"}},\"type\":\"table\"}]},\"layout\":{\"annotationdefaults\":{\"arrowhead\":0,\"arrowwidth\":1},\"autotypenumbers\":\"strict\",\"coloraxis\":{\"colorbar\":{\"outlinewidth\":0,\"tickcolor\":\"rgb(237,237,237)\",\"ticklen\":6,\"ticks\":\"inside\"}},\"colorscale\":{\"sequential\":[[0,\"rgb(20,44,66)\"],[1,\"rgb(90,179,244)\"]],\"sequentialminus\":[[0,\"rgb(20,44,66)\"],[1,\"rgb(90,179,244)\"]]},\"colorway\":[\"#F8766D\",\"#A3A500\",\"#00BF7D\",\"#00B0F6\",\"#E76BF3\"],\"font\":{\"color\":\"rgb(51,51,51)\"},\"geo\":{\"bgcolor\":\"white\",\"lakecolor\":\"white\",\"landcolor\":\"rgb(237,237,237)\",\"showlakes\":true,\"showland\":true,\"subunitcolor\":\"white\"},\"hoverlabel\":{\"align\":\"left\"},\"hovermode\":\"closest\",\"paper_bgcolor\":\"white\",\"plot_bgcolor\":\"rgb(237,237,237)\",\"polar\":{\"angularaxis\":{\"gridcolor\":\"white\",\"linecolor\":\"white\",\"showgrid\":true,\"tickcolor\":\"rgb(51,51,51)\",\"ticks\":\"outside\"},\"bgcolor\":\"rgb(237,237,237)\",\"radialaxis\":{\"gridcolor\":\"white\",\"linecolor\":\"white\",\"showgrid\":true,\"tickcolor\":\"rgb(51,51,51)\",\"ticks\":\"outside\"}},\"scene\":{\"xaxis\":{\"backgroundcolor\":\"rgb(237,237,237)\",\"gridcolor\":\"white\",\"gridwidth\":2,\"linecolor\":\"white\",\"showbackground\":true,\"showgrid\":true,\"tickcolor\":\"rgb(51,51,51)\",\"ticks\":\"outside\",\"zerolinecolor\":\"white\"},\"yaxis\":{\"backgroundcolor\":\"rgb(237,237,237)\",\"gridcolor\":\"white\",\"gridwidth\":2,\"linecolor\":\"white\",\"showbackground\":true,\"showgrid\":true,\"tickcolor\":\"rgb(51,51,51)\",\"ticks\":\"outside\",\"zerolinecolor\":\"white\"},\"zaxis\":{\"backgroundcolor\":\"rgb(237,237,237)\",\"gridcolor\":\"white\",\"gridwidth\":2,\"linecolor\":\"white\",\"showbackground\":true,\"showgrid\":true,\"tickcolor\":\"rgb(51,51,51)\",\"ticks\":\"outside\",\"zerolinecolor\":\"white\"}},\"shapedefaults\":{\"fillcolor\":\"black\",\"line\":{\"width\":0},\"opacity\":0.3},\"ternary\":{\"aaxis\":{\"gridcolor\":\"white\",\"linecolor\":\"white\",\"showgrid\":true,\"tickcolor\":\"rgb(51,51,51)\",\"ticks\":\"outside\"},\"baxis\":{\"gridcolor\":\"white\",\"linecolor\":\"white\",\"showgrid\":true,\"tickcolor\":\"rgb(51,51,51)\",\"ticks\":\"outside\"},\"bgcolor\":\"rgb(237,237,237)\",\"caxis\":{\"gridcolor\":\"white\",\"linecolor\":\"white\",\"showgrid\":true,\"tickcolor\":\"rgb(51,51,51)\",\"ticks\":\"outside\"}},\"xaxis\":{\"automargin\":true,\"gridcolor\":\"white\",\"linecolor\":\"white\",\"showgrid\":true,\"tickcolor\":\"rgb(51,51,51)\",\"ticks\":\"outside\",\"title\":{\"standoff\":15},\"zerolinecolor\":\"white\"},\"yaxis\":{\"automargin\":true,\"gridcolor\":\"white\",\"linecolor\":\"white\",\"showgrid\":true,\"tickcolor\":\"rgb(51,51,51)\",\"ticks\":\"outside\",\"title\":{\"standoff\":15},\"zerolinecolor\":\"white\"}}},\"xaxis\":{\"anchor\":\"y\",\"domain\":[0.0,0.18400000000000002],\"title\":{\"text\":\"count\"}},\"yaxis\":{\"anchor\":\"x\",\"domain\":[0.0,1.0],\"title\":{\"text\":\"\"},\"categoryorder\":\"array\",\"categoryarray\":[\"Dont know\",\"Right\",\"Wrong\"]},\"xaxis2\":{\"anchor\":\"y2\",\"domain\":[0.20400000000000001,0.388],\"matches\":\"x\",\"title\":{\"text\":\"count\"}},\"yaxis2\":{\"anchor\":\"x2\",\"domain\":[0.0,1.0],\"matches\":\"y\",\"showticklabels\":false},\"xaxis3\":{\"anchor\":\"y3\",\"domain\":[0.40800000000000003,0.5920000000000001],\"matches\":\"x\",\"title\":{\"text\":\"count\"}},\"yaxis3\":{\"anchor\":\"x3\",\"domain\":[0.0,1.0],\"matches\":\"y\",\"showticklabels\":false},\"xaxis4\":{\"anchor\":\"y4\",\"domain\":[0.6120000000000001,0.7960000000000002],\"matches\":\"x\",\"title\":{\"text\":\"count\"}},\"yaxis4\":{\"anchor\":\"x4\",\"domain\":[0.0,1.0],\"matches\":\"y\",\"showticklabels\":false},\"xaxis5\":{\"anchor\":\"y5\",\"domain\":[0.8160000000000001,1.0],\"matches\":\"x\",\"title\":{\"text\":\"count\"}},\"yaxis5\":{\"anchor\":\"x5\",\"domain\":[0.0,1.0],\"matches\":\"y\",\"showticklabels\":false},\"annotations\":[{\"font\":{},\"showarrow\":false,\"text\":\"London\",\"x\":0.09200000000000001,\"xanchor\":\"center\",\"xref\":\"paper\",\"y\":1.0,\"yanchor\":\"bottom\",\"yref\":\"paper\"},{\"font\":{},\"showarrow\":false,\"text\":\"Rest of South\",\"x\":0.29600000000000004,\"xanchor\":\"center\",\"xref\":\"paper\",\"y\":1.0,\"yanchor\":\"bottom\",\"yref\":\"paper\"},{\"font\":{},\"showarrow\":false,\"text\":\"Midlands and Wales\",\"x\":0.5,\"xanchor\":\"center\",\"xref\":\"paper\",\"y\":1.0,\"yanchor\":\"bottom\",\"yref\":\"paper\"},{\"font\":{},\"showarrow\":false,\"text\":\"North\",\"x\":0.7040000000000002,\"xanchor\":\"center\",\"xref\":\"paper\",\"y\":1.0,\"yanchor\":\"bottom\",\"yref\":\"paper\"},{\"font\":{},\"showarrow\":false,\"text\":\"Scotland\",\"x\":0.908,\"xanchor\":\"center\",\"xref\":\"paper\",\"y\":1.0,\"yanchor\":\"bottom\",\"yref\":\"paper\"}],\"legend\":{\"title\":{\"text\":\"Location\"},\"tracegroupgap\":0},\"margin\":{\"t\":60},\"barmode\":\"relative\",\"title\":{\"text\":\"In hindsight, do you think Britain was right\\u002fwrong to vote to leave EU?\"},\"autosize\":false,\"width\":1000,\"height\":500,\"showlegend\":false},                        {\"responsive\": true}                    ).then(function(){\n",
       "                            \n",
       "var gd = document.getElementById('b18f25ca-e249-49ec-8963-c94c6c73fac0');\n",
       "var x = new MutationObserver(function (mutations, observer) {{\n",
       "        var display = window.getComputedStyle(gd).display;\n",
       "        if (!display || display === 'none') {{\n",
       "            console.log([gd, 'removed!']);\n",
       "            Plotly.purge(gd);\n",
       "            observer.disconnect();\n",
       "        }}\n",
       "}});\n",
       "\n",
       "// Listen for the removal of the full notebook cells\n",
       "var notebookContainer = gd.closest('#notebook-container');\n",
       "if (notebookContainer) {{\n",
       "    x.observe(notebookContainer, {childList: true});\n",
       "}}\n",
       "\n",
       "// Listen for the clearing of the current output cell\n",
       "var outputEl = gd.closest('.output');\n",
       "if (outputEl) {{\n",
       "    x.observe(outputEl, {childList: true});\n",
       "}}\n",
       "\n",
       "                        })                };                });            </script>        </div>"
      ]
     },
     "metadata": {},
     "output_type": "display_data"
    }
   ],
   "source": [
    "my_categories = ['London','Rest of South','Midlands and Wales','North','Scotland']\n",
    "\n",
    "fig = px.bar(DF_plot,y='vote',x='count',\n",
    "             color='vote',\n",
    "             facet_col='location',\n",
    "             color_discrete_map={'Right':'#018571','Wrong':'#a6611a',\"Don’t know\":'#80cdc1'})\n",
    "\n",
    "fig.for_each_annotation(lambda a: a.update(text=a.text.split(\"=\")[1]))\n",
    "\n",
    "my_categories = ['Dont know','Right','Wrong']\n",
    "fig.update_layout(yaxis={'categoryorder': 'array', 'categoryarray': my_categories},\n",
    "                  title='In hindsight, do you think Britain was right/wrong to vote to leave EU?',\n",
    "                  yaxis_title=\"\",\n",
    "                  template='ggplot2',\n",
    "                  legend_title='Location',\n",
    "                  autosize=False,\n",
    "                  width=1000,\n",
    "                  height=500,\n",
    "                 showlegend=False)\n",
    "\n",
    "fig.show()\n"
   ]
  },
  {
   "cell_type": "markdown",
   "id": "cd3412fc-7c18-4621-82ef-f1ca218477dd",
   "metadata": {},
   "source": [
    "### Exercise 1 (Choose one!)\n",
    "\n",
    "#### Data Vis Principles:\n",
    "\n",
    "1. Order Matters\n",
    "2. Put long categories on the y-axis\n",
    "3. Pick a Purpose.\n",
    "4. Keep scales consistent\n",
    "5. Select meaningful colors\n",
    "6. Use meaningful and nonredundant labels.\n",
    "\n",
    "**Option 1.** \n",
    "\n",
    "Create your own plot of this data. Make it as nice as possible! Choose your own colors, themes, labels, ordering, etc. Decide if you prefer facets or colored bars. Make the labels as informative as possible. Try experimenting with things we haven't yet covered in class: look up how to add a caption or include textures in your plot.\n",
    "\n",
    "Talk about the positives and negatives of your graph. How does it meet, not meet, or exceed the data visualization principles above?\n",
    "\n",
    "**Option 2.**\n",
    "\n",
    "Using data of your choice, create a beautiful data visualization. Try experimenting with things we haven't yet covered in class: look up how to add a caption or include textures in your plot.\n",
    "\n",
    "Talk about the positives and negatives of your graph. How does it meet, not meet, or exceed the data visualization principles above?"
   ]
  },
  {
   "cell_type": "markdown",
   "id": "40ac54aa-4423-4453-9af9-bbea503f2fd3",
   "metadata": {},
   "source": [
    "Choice: Option 2\n",
    "\n",
    "Probably use OEWS to graph populations of the different major job categories."
   ]
  },
  {
   "cell_type": "code",
   "execution_count": 3,
   "id": "ac716060-0883-445a-9d5b-d954800ef1ce",
   "metadata": {},
   "outputs": [
    {
     "data": {
      "text/html": [
       "<table id=\"itables_c858af12_bf4e_4415_9fa4_46925994ba15\" class=\"display nowrap\" data-quarto-disable-processing=\"true\" style=\"table-layout:auto;width:auto;margin:auto;caption-side:bottom\">\n",
       "<thead>\n",
       "    <tr style=\"text-align: right;\">\n",
       "      \n",
       "      <th>AREA</th>\n",
       "      <th>AREA_TITLE</th>\n",
       "      <th>AREA_TYPE</th>\n",
       "      <th>PRIM_STATE</th>\n",
       "      <th>NAICS</th>\n",
       "      <th>NAICS_TITLE</th>\n",
       "      <th>I_GROUP</th>\n",
       "      <th>OWN_CODE</th>\n",
       "      <th>OCC_CODE</th>\n",
       "      <th>OCC_TITLE</th>\n",
       "      <th>O_GROUP</th>\n",
       "      <th>TOT_EMP</th>\n",
       "      <th>EMP_PRSE</th>\n",
       "      <th>JOBS_1000</th>\n",
       "      <th>LOC_QUOTIENT</th>\n",
       "      <th>PCT_TOTAL</th>\n",
       "      <th>PCT_RPT</th>\n",
       "      <th>H_MEAN</th>\n",
       "      <th>A_MEAN</th>\n",
       "      <th>MEAN_PRSE</th>\n",
       "      <th>H_PCT10</th>\n",
       "      <th>H_PCT25</th>\n",
       "      <th>H_MEDIAN</th>\n",
       "      <th>H_PCT75</th>\n",
       "      <th>H_PCT90</th>\n",
       "      <th>A_PCT10</th>\n",
       "      <th>A_PCT25</th>\n",
       "      <th>A_MEDIAN</th>\n",
       "      <th>A_PCT75</th>\n",
       "      <th>A_PCT90</th>\n",
       "      <th>ANNUAL</th>\n",
       "      <th>HOURLY</th>\n",
       "    </tr>\n",
       "  </thead><tbody><tr>\n",
       "<td style=\"vertical-align:middle; text-align:left\">\n",
       "<div style=\"float:left; margin-right: 10px;\">\n",
       "<a href=https://mwouts.github.io/itables/><svg class=\"main-svg\" xmlns=\"http://www.w3.org/2000/svg\" xmlns:xlink=\"http://www.w3.org/1999/xlink\"\n",
       "width=\"64\" viewBox=\"0 0 500 400\" style=\"font-family: 'Droid Sans', sans-serif;\">\n",
       "    <g style=\"fill:#d9d7fc\">\n",
       "        <path d=\"M100,400H500V357H100Z\" />\n",
       "        <path d=\"M100,300H400V257H100Z\" />\n",
       "        <path d=\"M0,200H400V157H0Z\" />\n",
       "        <path d=\"M100,100H500V57H100Z\" />\n",
       "        <path d=\"M100,350H500V307H100Z\" />\n",
       "        <path d=\"M100,250H400V207H100Z\" />\n",
       "        <path d=\"M0,150H400V107H0Z\" />\n",
       "        <path d=\"M100,50H500V7H100Z\" />\n",
       "    </g>\n",
       "    <g style=\"fill:#1a1366;stroke:#1a1366;\">\n",
       "   <rect x=\"100\" y=\"7\" width=\"400\" height=\"43\">\n",
       "    <animate\n",
       "      attributeName=\"width\"\n",
       "      values=\"0;400;0\"\n",
       "      dur=\"5s\"\n",
       "      repeatCount=\"indefinite\" />\n",
       "      <animate\n",
       "      attributeName=\"x\"\n",
       "      values=\"100;100;500\"\n",
       "      dur=\"5s\"\n",
       "      repeatCount=\"indefinite\" />\n",
       "  </rect>\n",
       "        <rect x=\"0\" y=\"107\" width=\"400\" height=\"43\">\n",
       "    <animate\n",
       "      attributeName=\"width\"\n",
       "      values=\"0;400;0\"\n",
       "      dur=\"3.5s\"\n",
       "      repeatCount=\"indefinite\" />\n",
       "    <animate\n",
       "      attributeName=\"x\"\n",
       "      values=\"0;0;400\"\n",
       "      dur=\"3.5s\"\n",
       "      repeatCount=\"indefinite\" />\n",
       "  </rect>\n",
       "        <rect x=\"100\" y=\"207\" width=\"300\" height=\"43\">\n",
       "    <animate\n",
       "      attributeName=\"width\"\n",
       "      values=\"0;300;0\"\n",
       "      dur=\"3s\"\n",
       "      repeatCount=\"indefinite\" />\n",
       "    <animate\n",
       "      attributeName=\"x\"\n",
       "      values=\"100;100;400\"\n",
       "      dur=\"3s\"\n",
       "      repeatCount=\"indefinite\" />\n",
       "  </rect>\n",
       "        <rect x=\"100\" y=\"307\" width=\"400\" height=\"43\">\n",
       "    <animate\n",
       "      attributeName=\"width\"\n",
       "      values=\"0;400;0\"\n",
       "      dur=\"4s\"\n",
       "      repeatCount=\"indefinite\" />\n",
       "      <animate\n",
       "      attributeName=\"x\"\n",
       "      values=\"100;100;500\"\n",
       "      dur=\"4s\"\n",
       "      repeatCount=\"indefinite\" />\n",
       "  </rect>\n",
       "        <g style=\"fill:transparent;stroke-width:8; stroke-linejoin:round\" rx=\"5\">\n",
       "            <g transform=\"translate(45 50) rotate(-45)\">\n",
       "                <circle r=\"33\" cx=\"0\" cy=\"0\" />\n",
       "                <rect x=\"-8\" y=\"32\" width=\"16\" height=\"30\" />\n",
       "            </g>\n",
       "\n",
       "            <g transform=\"translate(450 152)\">\n",
       "                <polyline points=\"-15,-20 -35,-20 -35,40 25,40 25,20\" />\n",
       "                <rect x=\"-15\" y=\"-40\" width=\"60\" height=\"60\" />\n",
       "            </g>\n",
       "\n",
       "            <g transform=\"translate(50 352)\">\n",
       "                <polygon points=\"-35,-5 0,-40 35,-5\" />\n",
       "                <polygon points=\"-35,10 0,45 35,10\" />\n",
       "            </g>\n",
       "\n",
       "            <g transform=\"translate(75 250)\">\n",
       "                <polyline points=\"-30,30 -60,0 -30,-30\" />\n",
       "                <polyline points=\"0,30 -30,0 0,-30\" />\n",
       "            </g>\n",
       "\n",
       "            <g transform=\"translate(425 250) rotate(180)\">\n",
       "                <polyline points=\"-30,30 -60,0 -30,-30\" />\n",
       "                <polyline points=\"0,30 -30,0 0,-30\" />\n",
       "            </g>\n",
       "        </g>\n",
       "    </g>\n",
       "</svg>\n",
       "</a>\n",
       "</div>\n",
       "<div>\n",
       "Loading ITables v2.1.4 from the internet...\n",
       "(need <a href=https://mwouts.github.io/itables/troubleshooting.html>help</a>?)</td>\n",
       "</div>\n",
       "</tr></tbody>\n",
       "\n",
       "</table>\n",
       "<link href=\"https://www.unpkg.com/dt_for_itables@2.0.11/dt_bundle.css\" rel=\"stylesheet\">\n",
       "<script type=\"module\">\n",
       "    import {DataTable, jQuery as $} from 'https://www.unpkg.com/dt_for_itables@2.0.11/dt_bundle.js';\n",
       "\n",
       "    document.querySelectorAll(\"#itables_c858af12_bf4e_4415_9fa4_46925994ba15:not(.dataTable)\").forEach(table => {\n",
       "        // Define the table data\n",
       "        const data = [[99, \"U.S.\", 1, \"US\", 0, \"Cross-industry\", \"cross-industry\", 1235, \"00-0000\", \"All Occupations\", \"total\", 151853870, 0.0, NaN, NaN, NaN, NaN, \" 31.48\", \"65470\", 0.3, \" 13.97\", \" 17.14\", \" 23.11\", \" 37.01\", \" 58.4\", \"29050\", \"35660\", \"48060\", \"76980\", \"121470\", \"NaN\", \"NaN\"], [99, \"U.S.\", 1, \"US\", 0, \"Cross-industry\", \"cross-industry\", 1235, \"11-0000\", \"Management Occupations\", \"major\", 10495770, 0.4, NaN, NaN, NaN, NaN, \" 66.23\", \"137750\", 0.5, \" 26.23\", \" 37.66\", \" 56.19\", \" 81.29\", \" 111.36\", \"54550\", \"78330\", \"116880\", \"169090\", \"231620\", \"NaN\", \"NaN\"], [99, \"U.S.\", 1, \"US\", 0, \"Cross-industry\", \"cross-industry\", 1235, \"11-1000\", \"Top Executives\", \"minor\", 3751510, 0.4, NaN, NaN, NaN, NaN, \" 65.43\", \"136100\", 0.9, \" 22.31\", \" 31.81\", \" 49.74\", \" 79.57\", \"#\", \"46400\", \"66170\", \"103460\", \"165500\", \"#\", \"NaN\", \"NaN\"], [99, \"U.S.\", 1, \"US\", 0, \"Cross-industry\", \"cross-industry\", 1235, \"11-1010\", \"Chief Executives\", \"broad\", 211230, 1.4, NaN, NaN, NaN, NaN, \" 124.47\", \"258900\", 0.7, \" 38.46\", \" 62.9\", \" 99.37\", \"#\", \"#\", \"80000\", \"130840\", \"206680\", \"#\", \"#\", \"NaN\", \"NaN\"], [99, \"U.S.\", 1, \"US\", 0, \"Cross-industry\", \"cross-industry\", 1235, \"11-1011\", \"Chief Executives\", \"detailed\", 211230, 1.4, NaN, NaN, NaN, NaN, \" 124.47\", \"258900\", 0.7, \" 38.46\", \" 62.9\", \" 99.37\", \"#\", \"#\", \"80000\", \"130840\", \"206680\", \"#\", \"#\", \"NaN\", \"NaN\"], [99, \"U.S.\", 1, \"US\", 0, \"Cross-industry\", \"cross-industry\", 1235, \"11-1020\", \"General and Operations Managers\", \"broad\", 3507810, 0.4, NaN, NaN, NaN, NaN, \" 62.18\", \"129330\", 0.9, \" 22.28\", \" 31.34\", \" 48.69\", \" 77.06\", \" 111.59\", \"46340\", \"65180\", \"101280\", \"160290\", \"232110\", \"NaN\", \"NaN\"], [99, \"U.S.\", 1, \"US\", 0, \"Cross-industry\", \"cross-industry\", 1235, \"11-1021\", \"General and Operations Managers\", \"detailed\", 3507810, 0.4, NaN, NaN, NaN, NaN, \" 62.18\", \"129330\", 0.9, \" 22.28\", \" 31.34\", \" 48.69\", \" 77.06\", \" 111.59\", \"46340\", \"65180\", \"101280\", \"160290\", \"232110\", \"NaN\", \"NaN\"], [99, \"U.S.\", 1, \"US\", 0, \"Cross-industry\", \"cross-industry\", 1235, \"11-1030\", \"Legislators\", \"broad\", 32460, 1.7, NaN, NaN, NaN, NaN, \"*\", \"68140\", 1.3, \"*\", \"*\", \"*\", \"*\", \"*\", \"21010\", \"28810\", \"47290\", \"82200\", \"129510\", \"True\", \"NaN\"], [99, \"U.S.\", 1, \"US\", 0, \"Cross-industry\", \"cross-industry\", 1235, \"11-1031\", \"Legislators\", \"detailed\", 32460, 1.7, NaN, NaN, NaN, NaN, \"*\", \"68140\", 1.3, \"*\", \"*\", \"*\", \"*\", \"*\", \"21010\", \"28810\", \"47290\", \"82200\", \"129510\", \"True\", \"NaN\"], [99, \"U.S.\", 1, \"US\", 0, \"Cross-industry\", \"cross-industry\", 1235, \"11-2000\", \"Advertising, Marketing, Promotions, Public Relations, and Sales Managers\", \"minor\", 1070030, 1.5, NaN, NaN, NaN, NaN, \" 76.9\", \"159960\", 0.3, \" 33.26\", \" 47.68\", \" 67.23\", \" 96.15\", \"#\", \"69170\", \"99180\", \"139850\", \"199990\", \"#\", \"NaN\", \"NaN\"], [99, \"U.S.\", 1, \"US\", 0, \"Cross-industry\", \"cross-industry\", 1235, \"11-2010\", \"Advertising and Promotions Managers\", \"broad\", 20630, 2.9, NaN, NaN, NaN, NaN, \" 73.38\", \"152620\", 2.7, \" 30.57\", \" 42.7\", \" 63.4\", \" 90.64\", \"#\", \"63580\", \"88810\", \"131870\", \"188530\", \"#\", \"NaN\", \"NaN\"], [99, \"U.S.\", 1, \"US\", 0, \"Cross-industry\", \"cross-industry\", 1235, \"11-2011\", \"Advertising and Promotions Managers\", \"detailed\", 20630, 2.9, NaN, NaN, NaN, NaN, \" 73.38\", \"152620\", 2.7, \" 30.57\", \" 42.7\", \" 63.4\", \" 90.64\", \"#\", \"63580\", \"88810\", \"131870\", \"188530\", \"#\", \"NaN\", \"NaN\"], [99, \"U.S.\", 1, \"US\", 0, \"Cross-industry\", \"cross-industry\", 1235, \"11-2020\", \"Marketing and Sales Managers\", \"broad\", 944820, 1.5, NaN, NaN, NaN, NaN, \" 77.43\", \"161040\", 0.3, \" 33.01\", \" 47.97\", \" 68.17\", \" 97.11\", \"#\", \"68660\", \"99780\", \"141780\", \"201990\", \"#\", \"NaN\", \"NaN\"], [99, \"U.S.\", 1, \"US\", 0, \"Cross-industry\", \"cross-industry\", 1235, \"11-2021\", \"Marketing Managers\", \"detailed\", 368940, 1.8, NaN, NaN, NaN, NaN, \"80\", \"166410\", 0.3, \" 38.27\", \" 51.92\", \" 75.78\", \"100\", \"#\", \"79600\", \"108000\", \"157620\", \"208000\", \"#\", \"NaN\", \"NaN\"], [99, \"U.S.\", 1, \"US\", 0, \"Cross-industry\", \"cross-industry\", 1235, \"11-2022\", \"Sales Managers\", \"detailed\", 575880, 1.3, NaN, NaN, NaN, NaN, \" 75.77\", \"157610\", 0.3, \" 30.62\", \" 44.97\", \" 64.98\", \" 94.57\", \"#\", \"63700\", \"93540\", \"135160\", \"196700\", \"#\", \"NaN\", \"NaN\"], [99, \"U.S.\", 1, \"US\", 0, \"Cross-industry\", \"cross-industry\", 1235, \"11-2030\", \"Public Relations and Fundraising Managers\", \"broad\", 104570, 2.7, NaN, NaN, NaN, NaN, \" 72.87\", \"151570\", 0.9, \" 35.59\", \" 46.24\", \" 62.73\", \" 85.66\", \"#\", \"74030\", \"96180\", \"130480\", \"178180\", \"#\", \"NaN\", \"NaN\"], [99, \"U.S.\", 1, \"US\", 0, \"Cross-industry\", \"cross-industry\", 1235, \"11-2032\", \"Public Relations Managers\", \"detailed\", 72760, 3.2, NaN, NaN, NaN, NaN, \" 76.65\", \"159420\", 1.0, \" 36.61\", \" 47.69\", \" 64.79\", \" 92.23\", \"#\", \"76160\", \"99180\", \"134760\", \"191840\", \"#\", \"NaN\", \"NaN\"], [99, \"U.S.\", 1, \"US\", 0, \"Cross-industry\", \"cross-industry\", 1235, \"11-2033\", \"Fundraising Managers\", \"detailed\", 31810, 1.9, NaN, NaN, NaN, NaN, \" 64.24\", \"133620\", 0.9, \" 33.08\", \" 41.77\", \" 57.31\", \" 78.2\", \" 102.27\", \"68800\", \"86880\", \"119200\", \"162660\", \"212730\", \"NaN\", \"NaN\"], [99, \"U.S.\", 1, \"US\", 0, \"Cross-industry\", \"cross-industry\", 1235, \"11-3000\", \"Operations Specialties Managers\", \"minor\", 2513900, 0.6, NaN, NaN, NaN, NaN, \" 74.59\", \"155150\", 0.3, \" 36.69\", \" 48.41\", \" 65.47\", \" 88.22\", \"#\", \"76320\", \"100690\", \"136170\", \"183500\", \"#\", \"NaN\", \"NaN\"], [99, \"U.S.\", 1, \"US\", 0, \"Cross-industry\", \"cross-industry\", 1235, \"11-3010\", \"Administrative Services and Facilities Managers\", \"broad\", 373920, 1.2, NaN, NaN, NaN, NaN, \" 56.56\", \"117650\", 0.3, \" 29.74\", \" 38.54\", \" 50.44\", \" 66.45\", \" 86.41\", \"61860\", \"80170\", \"104900\", \"138220\", \"179730\", \"NaN\", \"NaN\"], [99, \"U.S.\", 1, \"US\", 0, \"Cross-industry\", \"cross-industry\", 1235, \"11-3012\", \"Administrative Services Managers\", \"detailed\", 242520, 1.3, NaN, NaN, NaN, NaN, \" 58.27\", \"121200\", 0.4, \" 30.04\", \" 39.15\", \" 51.19\", \" 67.73\", \" 90.78\", \"62470\", \"81420\", \"106470\", \"140870\", \"188820\", \"NaN\", \"NaN\"], [99, \"U.S.\", 1, \"US\", 0, \"Cross-industry\", \"cross-industry\", 1235, \"11-3013\", \"Facilities Managers\", \"detailed\", 131400, 1.2, NaN, NaN, NaN, NaN, \" 53.42\", \"111110\", 0.4, \" 29.25\", \" 37.56\", \" 49.2\", \" 64.42\", \" 81.26\", \"60840\", \"78130\", \"102340\", \"133990\", \"169020\", \"NaN\", \"NaN\"], [99, \"U.S.\", 1, \"US\", 0, \"Cross-industry\", \"cross-industry\", 1235, \"11-3020\", \"Computer and Information Systems Managers\", \"broad\", 592600, 0.5, NaN, NaN, NaN, NaN, \" 86.88\", \"180720\", 0.3, \" 48.84\", \" 63.35\", \" 81.5\", \" 102.91\", \"#\", \"101590\", \"131770\", \"169510\", \"214050\", \"#\", \"NaN\", \"NaN\"], [99, \"U.S.\", 1, \"US\", 0, \"Cross-industry\", \"cross-industry\", 1235, \"11-3021\", \"Computer and Information Systems Managers\", \"detailed\", 592600, 0.5, NaN, NaN, NaN, NaN, \" 86.88\", \"180720\", 0.3, \" 48.84\", \" 63.35\", \" 81.5\", \" 102.91\", \"#\", \"101590\", \"131770\", \"169510\", \"214050\", \"#\", \"NaN\", \"NaN\"], [99, \"U.S.\", 1, \"US\", 0, \"Cross-industry\", \"cross-industry\", 1235, \"11-3030\", \"Financial Managers\", \"broad\", 787340, 1.0, NaN, NaN, NaN, NaN, \" 84.05\", \"174820\", 0.5, \" 39.84\", \" 52.98\", \" 75.05\", \" 101.36\", \"#\", \"82870\", \"110190\", \"156100\", \"210830\", \"#\", \"NaN\", \"NaN\"], [99, \"U.S.\", 1, \"US\", 0, \"Cross-industry\", \"cross-industry\", 1235, \"11-3031\", \"Financial Managers\", \"detailed\", 787340, 1.0, NaN, NaN, NaN, NaN, \" 84.05\", \"174820\", 0.5, \" 39.84\", \" 52.98\", \" 75.05\", \" 101.36\", \"#\", \"82870\", \"110190\", \"156100\", \"210830\", \"#\", \"NaN\", \"NaN\"], [99, \"U.S.\", 1, \"US\", 0, \"Cross-industry\", \"cross-industry\", 1235, \"11-3050\", \"Industrial Production Managers\", \"broad\", 222890, 0.7, NaN, NaN, NaN, NaN, \" 60.53\", \"125900\", 0.3, \" 34.62\", \" 44.03\", \" 56.24\", \" 72.7\", \" 91.58\", \"72010\", \"91590\", \"116970\", \"151220\", \"190480\", \"NaN\", \"NaN\"], [99, \"U.S.\", 1, \"US\", 0, \"Cross-industry\", \"cross-industry\", 1235, \"11-3051\", \"Industrial Production Managers\", \"detailed\", 222890, 0.7, NaN, NaN, NaN, NaN, \" 60.53\", \"125900\", 0.3, \" 34.62\", \" 44.03\", \" 56.24\", \" 72.7\", \" 91.58\", \"72010\", \"91590\", \"116970\", \"151220\", \"190480\", \"NaN\", \"NaN\"], [99, \"U.S.\", 1, \"US\", 0, \"Cross-industry\", \"cross-industry\", 1235, \"11-3060\", \"Purchasing Managers\", \"broad\", 77530, 1.2, NaN, NaN, NaN, NaN, \" 70.53\", \"146710\", 0.4, \" 40.15\", \" 50.62\", \" 65.57\", \" 82.75\", \" 103.45\", \"83510\", \"105300\", \"136380\", \"172110\", \"215170\", \"NaN\", \"NaN\"], [99, \"U.S.\", 1, \"US\", 0, \"Cross-industry\", \"cross-industry\", 1235, \"11-3061\", \"Purchasing Managers\", \"detailed\", 77530, 1.2, NaN, NaN, NaN, NaN, \" 70.53\", \"146710\", 0.4, \" 40.15\", \" 50.62\", \" 65.57\", \" 82.75\", \" 103.45\", \"83510\", \"105300\", \"136380\", \"172110\", \"215170\", \"NaN\", \"NaN\"], [99, \"U.S.\", 1, \"US\", 0, \"Cross-industry\", \"cross-industry\", 1235, \"11-3070\", \"Transportation, Storage, and Distribution Managers\", \"broad\", 198780, 0.7, NaN, NaN, NaN, NaN, \" 53.79\", \"111870\", 0.3, \" 28.27\", \" 36.6\", \" 47.69\", \" 63.99\", \" 84.39\", \"58810\", \"76120\", \"99200\", \"133090\", \"175530\", \"NaN\", \"NaN\"], [99, \"U.S.\", 1, \"US\", 0, \"Cross-industry\", \"cross-industry\", 1235, \"11-3071\", \"Transportation, Storage, and Distribution Managers\", \"detailed\", 198780, 0.7, NaN, NaN, NaN, NaN, \" 53.79\", \"111870\", 0.3, \" 28.27\", \" 36.6\", \" 47.69\", \" 63.99\", \" 84.39\", \"58810\", \"76120\", \"99200\", \"133090\", \"175530\", \"NaN\", \"NaN\"], [99, \"U.S.\", 1, \"US\", 0, \"Cross-industry\", \"cross-industry\", 1235, \"11-3110\", \"Compensation and Benefits Managers\", \"broad\", 18690, 2.6, NaN, NaN, NaN, NaN, \" 72.57\", \"150940\", 1.2, \" 36.81\", \" 49.3\", \" 65.57\", \" 87.03\", \" 110.56\", \"76550\", \"102540\", \"136380\", \"181030\", \"229970\", \"NaN\", \"NaN\"], [99, \"U.S.\", 1, \"US\", 0, \"Cross-industry\", \"cross-industry\", 1235, \"11-3111\", \"Compensation and Benefits Managers\", \"detailed\", 18690, 2.6, NaN, NaN, NaN, NaN, \" 72.57\", \"150940\", 1.2, \" 36.81\", \" 49.3\", \" 65.57\", \" 87.03\", \" 110.56\", \"76550\", \"102540\", \"136380\", \"181030\", \"229970\", \"NaN\", \"NaN\"], [99, \"U.S.\", 1, \"US\", 0, \"Cross-industry\", \"cross-industry\", 1235, \"11-3120\", \"Human Resources Managers\", \"broad\", 200600, 1.3, NaN, NaN, NaN, NaN, \" 74.39\", \"154740\", 0.4, \" 38.97\", \" 49.68\", \" 65.55\", \" 87.56\", \"#\", \"81060\", \"103340\", \"136350\", \"182120\", \"#\", \"NaN\", \"NaN\"], [99, \"U.S.\", 1, \"US\", 0, \"Cross-industry\", \"cross-industry\", 1235, \"11-3121\", \"Human Resources Managers\", \"detailed\", 200600, 1.3, NaN, NaN, NaN, NaN, \" 74.39\", \"154740\", 0.4, \" 38.97\", \" 49.68\", \" 65.55\", \" 87.56\", \"#\", \"81060\", \"103340\", \"136350\", \"182120\", \"#\", \"NaN\", \"NaN\"], [99, \"U.S.\", 1, \"US\", 0, \"Cross-industry\", \"cross-industry\", 1235, \"11-3130\", \"Training and Development Managers\", \"broad\", 41540, 2.4, NaN, NaN, NaN, NaN, \" 66.56\", \"138450\", 0.4, \" 35.29\", \" 45.31\", \" 60.12\", \" 80.19\", \" 105.8\", \"73410\", \"94240\", \"125040\", \"166780\", \"220060\", \"NaN\", \"NaN\"], [99, \"U.S.\", 1, \"US\", 0, \"Cross-industry\", \"cross-industry\", 1235, \"11-3131\", \"Training and Development Managers\", \"detailed\", 41540, 2.4, NaN, NaN, NaN, NaN, \" 66.56\", \"138450\", 0.4, \" 35.29\", \" 45.31\", \" 60.12\", \" 80.19\", \" 105.8\", \"73410\", \"94240\", \"125040\", \"166780\", \"220060\", \"NaN\", \"NaN\"], [99, \"U.S.\", 1, \"US\", 0, \"Cross-industry\", \"cross-industry\", 1235, \"11-9000\", \"Other Management Occupations\", \"minor\", 3160340, 0.8, NaN, NaN, NaN, NaN, \" 56.91\", \"118370\", 0.4, \" 24.85\", \" 35.29\", \" 49.28\", \" 69.68\", \" 96.34\", \"51690\", \"73390\", \"102510\", \"144930\", \"200390\", \"NaN\", \"NaN\"], [99, \"U.S.\", 1, \"US\", 0, \"Cross-industry\", \"cross-industry\", 1235, \"11-9010\", \"Farmers, Ranchers, and Other Agricultural Managers\", \"broad\", 6150, 4.7, NaN, NaN, NaN, NaN, \" 43.35\", \"90160\", 1.4, \" 22.98\", \" 30.54\", \" 40.27\", \" 52.45\", \" 65.58\", \"47800\", \"63510\", \"83770\", \"109090\", \"136410\", \"NaN\", \"NaN\"], [99, \"U.S.\", 1, \"US\", 0, \"Cross-industry\", \"cross-industry\", 1235, \"11-9013\", \"Farmers, Ranchers, and Other Agricultural Managers\", \"detailed\", 6150, 4.7, NaN, NaN, NaN, NaN, \" 43.35\", \"90160\", 1.4, \" 22.98\", \" 30.54\", \" 40.27\", \" 52.45\", \" 65.58\", \"47800\", \"63510\", \"83770\", \"109090\", \"136410\", \"NaN\", \"NaN\"], [99, \"U.S.\", 1, \"US\", 0, \"Cross-industry\", \"cross-industry\", 1235, \"11-9020\", \"Construction Managers\", \"broad\", 329190, 2.9, NaN, NaN, NaN, NaN, \" 56.23\", \"116960\", 0.5, \"31\", \" 39.25\", \" 50.43\", \" 65.17\", \" 82.71\", \"64480\", \"81640\", \"104900\", \"135550\", \"172040\", \"NaN\", \"NaN\"], [99, \"U.S.\", 1, \"US\", 0, \"Cross-industry\", \"cross-industry\", 1235, \"11-9021\", \"Construction Managers\", \"detailed\", 329190, 2.9, NaN, NaN, NaN, NaN, \" 56.23\", \"116960\", 0.5, \"31\", \" 39.25\", \" 50.43\", \" 65.17\", \" 82.71\", \"64480\", \"81640\", \"104900\", \"135550\", \"172040\", \"NaN\", \"NaN\"], [99, \"U.S.\", 1, \"US\", 0, \"Cross-industry\", \"cross-industry\", 1235, \"11-9030\", \"Education and Childcare Administrators\", \"broad\", 584630, 0.4, NaN, NaN, NaN, NaN, \" 51.84\", \"107830\", 0.3, \" 26.49\", \" 36.92\", \" 48.05\", \" 62.53\", \" 80.49\", \"55100\", \"76790\", \"99940\", \"130070\", \"167430\", \"NaN\", \"NaN\"], [99, \"U.S.\", 1, \"US\", 0, \"Cross-industry\", \"cross-industry\", 1235, \"11-9031\", \"Education and Childcare Administrators, Preschool and Daycare\", \"detailed\", 64090, 1.7, NaN, NaN, NaN, NaN, \" 29.48\", \"61320\", 1.1, \" 17.57\", \" 21.36\", \" 26.1\", \" 33.34\", \" 45.62\", \"36550\", \"44420\", \"54290\", \"69350\", \"94890\", \"NaN\", \"NaN\"], [99, \"U.S.\", 1, \"US\", 0, \"Cross-industry\", \"cross-industry\", 1235, \"11-9032\", \"Education Administrators, Kindergarten through Secondary\", \"detailed\", 302580, 0.6, NaN, NaN, NaN, NaN, \"*\", \"111020\", 0.3, \"*\", \"*\", \"*\", \"*\", \"*\", \"70050\", \"83050\", \"103460\", \"131180\", \"163010\", \"True\", \"NaN\"], [99, \"U.S.\", 1, \"US\", 0, \"Cross-industry\", \"cross-industry\", 1235, \"11-9033\", \"Education Administrators, Postsecondary\", \"detailed\", 167270, 0.3, NaN, NaN, NaN, NaN, \" 58.66\", \"122010\", 0.3, \" 30.27\", \" 38.32\", \" 49.33\", \" 65.97\", \" 100.9\", \"62970\", \"79700\", \"102610\", \"137230\", \"209870\", \"NaN\", \"NaN\"], [99, \"U.S.\", 1, \"US\", 0, \"Cross-industry\", \"cross-industry\", 1235, \"11-9039\", \"Education Administrators, All Other\", \"detailed\", 50690, 1.3, NaN, NaN, NaN, NaN, \" 48.42\", \"100720\", 0.7, \" 23.78\", \" 31.16\", \" 42.53\", \" 57.75\", \" 76.06\", \"49470\", \"64800\", \"88460\", \"120120\", \"158200\", \"NaN\", \"NaN\"], [99, \"U.S.\", 1, \"US\", 0, \"Cross-industry\", \"cross-industry\", 1235, \"11-9040\", \"Architectural and Engineering Managers\", \"broad\", 207800, 2.1, NaN, NaN, NaN, NaN, \" 82.83\", \"172290\", 0.5, \" 51.63\", \" 63.89\", \" 79.5\", \" 97.61\", \" 112.31\", \"107390\", \"132890\", \"165370\", \"203030\", \"233590\", \"NaN\", \"NaN\"], [99, \"U.S.\", 1, \"US\", 0, \"Cross-industry\", \"cross-industry\", 1235, \"11-9041\", \"Architectural and Engineering Managers\", \"detailed\", 207800, 2.1, NaN, NaN, NaN, NaN, \" 82.83\", \"172290\", 0.5, \" 51.63\", \" 63.89\", \" 79.5\", \" 97.61\", \" 112.31\", \"107390\", \"132890\", \"165370\", \"203030\", \"233590\", \"NaN\", \"NaN\"], [99, \"U.S.\", 1, \"US\", 0, \"Cross-industry\", \"cross-industry\", 1235, \"11-9050\", \"Food Service Managers\", \"broad\", 246070, 2.1, NaN, NaN, NaN, NaN, \" 33.45\", \"69580\", 0.8, \" 20.67\", \" 24.22\", \" 30.32\", \" 38.29\", \" 48.67\", \"42990\", \"50390\", \"63060\", \"79630\", \"101240\", \"NaN\", \"NaN\"], [99, \"U.S.\", 1, \"US\", 0, \"Cross-industry\", \"cross-industry\", 1235, \"11-9051\", \"Food Service Managers\", \"detailed\", 246070, 2.1, NaN, NaN, NaN, NaN, \" 33.45\", \"69580\", 0.8, \" 20.67\", \" 24.22\", \" 30.32\", \" 38.29\", \" 48.67\", \"42990\", \"50390\", \"63060\", \"79630\", \"101240\", \"NaN\", \"NaN\"], [99, \"U.S.\", 1, \"US\", 0, \"Cross-industry\", \"cross-industry\", 1235, \"11-9070\", \"Entertainment and Recreation Managers\", \"broad\", 34290, 1.9, NaN, NaN, NaN, NaN, \" 41.34\", \"85980\", 1.1, \" 21.04\", \" 26.64\", \" 36.16\", \" 48.43\", \" 65.39\", \"43760\", \"55400\", \"75210\", \"100730\", \"136020\", \"NaN\", \"NaN\"], [99, \"U.S.\", 1, \"US\", 0, \"Cross-industry\", \"cross-industry\", 1235, \"11-9071\", \"Gambling Managers\", \"detailed\", 4590, 1.6, NaN, NaN, NaN, NaN, \" 47.24\", \"98270\", 1.1, \" 24.01\", \" 31.35\", \" 39.61\", \" 54.67\", \" 76.66\", \"49940\", \"65210\", \"82380\", \"113720\", \"159440\", \"NaN\", \"NaN\"], [99, \"U.S.\", 1, \"US\", 0, \"Cross-industry\", \"cross-industry\", 1235, \"11-9072\", \"Entertainment and Recreation Managers, Except Gambling\", \"detailed\", 29690, 2.1, NaN, NaN, NaN, NaN, \" 40.42\", \"84080\", 1.2, \" 20.54\", \" 25.71\", \" 35.32\", \" 47.68\", \" 64.27\", \"42730\", \"53480\", \"73460\", \"99170\", \"133680\", \"NaN\", \"NaN\"], [99, \"U.S.\", 1, \"US\", 0, \"Cross-industry\", \"cross-industry\", 1235, \"11-9080\", \"Lodging Managers\", \"broad\", 41980, 1.7, NaN, NaN, NaN, NaN, \" 36.92\", \"76790\", 1.1, \" 18.88\", \" 23.74\", \" 31.42\", \" 42.27\", \" 61.1\", \"39270\", \"49380\", \"65360\", \"87930\", \"127090\", \"NaN\", \"NaN\"], [99, \"U.S.\", 1, \"US\", 0, \"Cross-industry\", \"cross-industry\", 1235, \"11-9081\", \"Lodging Managers\", \"detailed\", 41980, 1.7, NaN, NaN, NaN, NaN, \" 36.92\", \"76790\", 1.1, \" 18.88\", \" 23.74\", \" 31.42\", \" 42.27\", \" 61.1\", \"39270\", \"49380\", \"65360\", \"87930\", \"127090\", \"NaN\", \"NaN\"], [99, \"U.S.\", 1, \"US\", 0, \"Cross-industry\", \"cross-industry\", 1235, \"11-9110\", \"Medical and Health Services Managers\", \"broad\", 515100, 0.6, NaN, NaN, NaN, NaN, \" 64.64\", \"134440\", 0.5, \" 32.65\", \" 41.38\", \" 53.21\", \" 75.79\", \" 104.21\", \"67900\", \"86080\", \"110680\", \"157640\", \"216750\", \"NaN\", \"NaN\"], [99, \"U.S.\", 1, \"US\", 0, \"Cross-industry\", \"cross-industry\", 1235, \"11-9111\", \"Medical and Health Services Managers\", \"detailed\", 515100, 0.6, NaN, NaN, NaN, NaN, \" 64.64\", \"134440\", 0.5, \" 32.65\", \" 41.38\", \" 53.21\", \" 75.79\", \" 104.21\", \"67900\", \"86080\", \"110680\", \"157640\", \"216750\", \"NaN\", \"NaN\"], [99, \"U.S.\", 1, \"US\", 0, \"Cross-industry\", \"cross-industry\", 1235, \"11-9120\", \"Natural Sciences Managers\", \"broad\", 96520, 1.5, NaN, NaN, NaN, NaN, \" 81.31\", \"169120\", 1.1, \" 37.27\", \" 52.55\", \" 75.84\", \" 101.96\", \"#\", \"77520\", \"109300\", \"157740\", \"212080\", \"#\", \"NaN\", \"NaN\"], [99, \"U.S.\", 1, \"US\", 0, \"Cross-industry\", \"cross-industry\", 1235, \"11-9121\", \"Natural Sciences Managers\", \"detailed\", 96520, 1.5, NaN, NaN, NaN, NaN, \" 81.31\", \"169120\", 1.1, \" 37.27\", \" 52.55\", \" 75.84\", \" 101.96\", \"#\", \"77520\", \"109300\", \"157740\", \"212080\", \"#\", \"NaN\", \"NaN\"], [99, \"U.S.\", 1, \"US\", 0, \"Cross-industry\", \"cross-industry\", 1235, \"11-9130\", \"Postmasters and Mail Superintendents\", \"broad\", 13810, 0.0, NaN, NaN, NaN, NaN, \" 43.16\", \"89770\", 0.0, \" 38.01\", \" 39.9\", \" 42.63\", \" 45.99\", \" 50.45\", \"79060\", \"82990\", \"88670\", \"95660\", \"104940\", \"NaN\", \"NaN\"], [99, \"U.S.\", 1, \"US\", 0, \"Cross-industry\", \"cross-industry\", 1235, \"11-9131\", \"Postmasters and Mail Superintendents\", \"detailed\", 13810, 0.0, NaN, NaN, NaN, NaN, \" 43.16\", \"89770\", 0.0, \" 38.01\", \" 39.9\", \" 42.63\", \" 45.99\", \" 50.45\", \"79060\", \"82990\", \"88670\", \"95660\", \"104940\", \"NaN\", \"NaN\"], [99, \"U.S.\", 1, \"US\", 0, \"Cross-industry\", \"cross-industry\", 1235, \"11-9140\", \"Property, Real Estate, and Community Association Managers\", \"broad\", 284120, 1.1, NaN, NaN, NaN, NaN, \" 37.69\", \"78400\", 1.2, \" 18.05\", \" 23.05\", \" 30.22\", \" 44.5\", \" 65.38\", \"37540\", \"47940\", \"62850\", \"92560\", \"135990\", \"NaN\", \"NaN\"], [99, \"U.S.\", 1, \"US\", 0, \"Cross-industry\", \"cross-industry\", 1235, \"11-9141\", \"Property, Real Estate, and Community Association Managers\", \"detailed\", 284120, 1.1, NaN, NaN, NaN, NaN, \" 37.69\", \"78400\", 1.2, \" 18.05\", \" 23.05\", \" 30.22\", \" 44.5\", \" 65.38\", \"37540\", \"47940\", \"62850\", \"92560\", \"135990\", \"NaN\", \"NaN\"], [99, \"U.S.\", 1, \"US\", 0, \"Cross-industry\", \"cross-industry\", 1235, \"11-9150\", \"Social and Community Service Managers\", \"broad\", 173650, 0.8, NaN, NaN, NaN, NaN, \" 40.1\", \"83400\", 0.7, \" 23.5\", \" 29.26\", \" 37.03\", \" 47.47\", \" 61.32\", \"48880\", \"60860\", \"77030\", \"98740\", \"127550\", \"NaN\", \"NaN\"], [99, \"U.S.\", 1, \"US\", 0, \"Cross-industry\", \"cross-industry\", 1235, \"11-9151\", \"Social and Community Service Managers\", \"detailed\", 173650, 0.8, NaN, NaN, NaN, NaN, \" 40.1\", \"83400\", 0.7, \" 23.5\", \" 29.26\", \" 37.03\", \" 47.47\", \" 61.32\", \"48880\", \"60860\", \"77030\", \"98740\", \"127550\", \"NaN\", \"NaN\"], [99, \"U.S.\", 1, \"US\", 0, \"Cross-industry\", \"cross-industry\", 1235, \"11-9160\", \"Emergency Management Directors\", \"broad\", 11910, 2.4, NaN, NaN, NaN, NaN, \" 45.05\", \"93690\", 0.5, \" 24.2\", \" 30.11\", \" 40.37\", \" 53.94\", \" 72.87\", \"50340\", \"62630\", \"83960\", \"112190\", \"151560\", \"NaN\", \"NaN\"], [99, \"U.S.\", 1, \"US\", 0, \"Cross-industry\", \"cross-industry\", 1235, \"11-9161\", \"Emergency Management Directors\", \"detailed\", 11910, 2.4, NaN, NaN, NaN, NaN, \" 45.05\", \"93690\", 0.5, \" 24.2\", \" 30.11\", \" 40.37\", \" 53.94\", \" 72.87\", \"50340\", \"62630\", \"83960\", \"112190\", \"151560\", \"NaN\", \"NaN\"], [99, \"U.S.\", 1, \"US\", 0, \"Cross-industry\", \"cross-industry\", 1235, \"11-9170\", \"Personal Service Managers\", \"broad\", 25370, 2.4, NaN, NaN, NaN, NaN, \" 36.15\", \"75190\", 1.5, \" 17.72\", \" 23.57\", \" 31.02\", \" 43.43\", \" 57.57\", \"36860\", \"49020\", \"64520\", \"90330\", \"119750\", \"NaN\", \"NaN\"], [99, \"U.S.\", 1, \"US\", 0, \"Cross-industry\", \"cross-industry\", 1235, \"11-9171\", \"Funeral Home Managers\", \"detailed\", 14200, 2.5, NaN, NaN, NaN, NaN, \" 40.77\", \"84800\", 1.0, \" 21.56\", \" 28.68\", \" 36.37\", \" 47.39\", \" 63.16\", \"44830\", \"59650\", \"75660\", \"98560\", \"131360\", \"NaN\", \"NaN\"], [99, \"U.S.\", 1, \"US\", 0, \"Cross-industry\", \"cross-industry\", 1235, \"11-9179\", \"Personal Service Managers, All Other\", \"detailed\", 11170, 6.6, NaN, NaN, NaN, NaN, \" 30.28\", \"62980\", 2.6, \" 14.9\", \" 19.91\", \" 27.68\", \" 35.41\", \" 48.03\", \"31000\", \"41410\", \"57570\", \"73650\", \"99900\", \"NaN\", \"NaN\"], [99, \"U.S.\", 1, \"US\", 0, \"Cross-industry\", \"cross-industry\", 1235, \"11-9190\", \"Miscellaneous Managers\", \"broad\", 589750, 1.3, NaN, NaN, NaN, NaN, \" 70.35\", \"146320\", 0.3, \" 32.39\", \" 47.11\", \" 64.21\", \" 83.9\", \" 108.23\", \"67370\", \"97990\", \"133560\", \"174510\", \"225120\", \"NaN\", \"NaN\"], [99, \"U.S.\", 1, \"US\", 0, \"Cross-industry\", \"cross-industry\", 1235, \"11-9199\", \"Managers, All Other\", \"detailed\", 589750, 1.3, NaN, NaN, NaN, NaN, \" 70.35\", \"146320\", 0.3, \" 32.39\", \" 47.11\", \" 64.21\", \" 83.9\", \" 108.23\", \"67370\", \"97990\", \"133560\", \"174510\", \"225120\", \"NaN\", \"NaN\"], [99, \"U.S.\", 1, \"US\", 0, \"Cross-industry\", \"cross-industry\", 1235, \"13-0000\", \"Business and Financial Operations Occupations\", \"major\", 10087830, 0.6, NaN, NaN, NaN, NaN, \" 43.55\", \"90580\", 0.3, \" 21.86\", \" 28.65\", \"38\", \" 50.66\", \" 67.55\", \"45480\", \"59590\", \"79050\", \"105360\", \"140490\", \"NaN\", \"NaN\"], [99, \"U.S.\", 1, \"US\", 0, \"Cross-industry\", \"cross-industry\", 1235, \"13-1000\", \"Business Operations Specialists\", \"minor\", 7048350, 0.8, NaN, NaN, NaN, NaN, \" 42.33\", \"88040\", 0.3, \" 21.55\", \" 28.2\", \" 37.74\", \" 50.33\", \" 65.78\", \"44810\", \"58660\", \"78500\", \"104690\", \"136820\", \"NaN\", \"NaN\"], [99, \"U.S.\", 1, \"US\", 0, \"Cross-industry\", \"cross-industry\", 1235, \"13-1010\", \"Agents and Business Managers of Artists, Performers, and Athletes\", \"broad\", 12870, 7.0, NaN, NaN, NaN, NaN, \" 63.85\", \"132810\", 4.5, \" 22.65\", \" 29.94\", \" 40.82\", \" 62.46\", \"#\", \"47100\", \"62280\", \"84900\", \"129930\", \"#\", \"NaN\", \"NaN\"], [99, \"U.S.\", 1, \"US\", 0, \"Cross-industry\", \"cross-industry\", 1235, \"13-1011\", \"Agents and Business Managers of Artists, Performers, and Athletes\", \"detailed\", 12870, 7.0, NaN, NaN, NaN, NaN, \" 63.85\", \"132810\", 4.5, \" 22.65\", \" 29.94\", \" 40.82\", \" 62.46\", \"#\", \"47100\", \"62280\", \"84900\", \"129930\", \"#\", \"NaN\", \"NaN\"], [99, \"U.S.\", 1, \"US\", 0, \"Cross-industry\", \"cross-industry\", 1235, \"13-1020\", \"Buyers and Purchasing Agents\", \"broad\", 477980, 1.0, NaN, NaN, NaN, NaN, \" 37.43\", \"77850\", 0.4, \"21\", \" 26.4\", \" 34.59\", \" 45.63\", \" 58.5\", \"43680\", \"54910\", \"71950\", \"94910\", \"121680\", \"NaN\", \"NaN\"], [99, \"U.S.\", 1, \"US\", 0, \"Cross-industry\", \"cross-industry\", 1235, \"13-1020\", \"Buyers and Purchasing Agents\", \"detailed\", 477980, 1.0, NaN, NaN, NaN, NaN, \" 37.43\", \"77850\", 0.4, \"21\", \" 26.4\", \" 34.59\", \" 45.63\", \" 58.5\", \"43680\", \"54910\", \"71950\", \"94910\", \"121680\", \"NaN\", \"NaN\"], [99, \"U.S.\", 1, \"US\", 0, \"Cross-industry\", \"cross-industry\", 1235, \"13-1030\", \"Claims Adjusters, Appraisers, Examiners, and Investigators\", \"broad\", 302450, 0.9, NaN, NaN, NaN, NaN, \" 36.43\", \"75760\", 0.3, \" 22.84\", \" 28.33\", \" 36.07\", \" 43.59\", \" 50.61\", \"47510\", \"58920\", \"75020\", \"90670\", \"105260\", \"NaN\", \"NaN\"], [99, \"U.S.\", 1, \"US\", 0, \"Cross-industry\", \"cross-industry\", 1235, \"13-1031\", \"Claims Adjusters, Examiners, and Investigators\", \"detailed\", 293780, 0.9, NaN, NaN, NaN, NaN, \" 36.43\", \"75770\", 0.3, \" 22.79\", \" 28.26\", \" 36.08\", \" 43.8\", \" 50.69\", \"47390\", \"58770\", \"75050\", \"91100\", \"105440\", \"NaN\", \"NaN\"], [99, \"U.S.\", 1, \"US\", 0, \"Cross-industry\", \"cross-industry\", 1235, \"13-1032\", \"Insurance Appraisers, Auto Damage\", \"detailed\", 8670, 4.7, NaN, NaN, NaN, NaN, \" 36.37\", \"75660\", 0.8, \" 27.35\", \" 30.62\", \" 35.83\", \" 39.78\", \" 48.19\", \"56890\", \"63690\", \"74520\", \"82740\", \"100240\", \"NaN\", \"NaN\"], [99, \"U.S.\", 1, \"US\", 0, \"Cross-industry\", \"cross-industry\", 1235, \"13-1040\", \"Compliance Officers\", \"broad\", 383620, 0.4, NaN, NaN, NaN, NaN, \" 38.55\", \"80190\", 0.3, \" 21.05\", \" 27.01\", \" 36.38\", \" 48.24\", \" 59.48\", \"43790\", \"56180\", \"75670\", \"100340\", \"123710\", \"NaN\", \"NaN\"], [99, \"U.S.\", 1, \"US\", 0, \"Cross-industry\", \"cross-industry\", 1235, \"13-1041\", \"Compliance Officers\", \"detailed\", 383620, 0.4, NaN, NaN, NaN, NaN, \" 38.55\", \"80190\", 0.3, \" 21.05\", \" 27.01\", \" 36.38\", \" 48.24\", \" 59.48\", \"43790\", \"56180\", \"75670\", \"100340\", \"123710\", \"NaN\", \"NaN\"], [99, \"U.S.\", 1, \"US\", 0, \"Cross-industry\", \"cross-industry\", 1235, \"13-1050\", \"Cost Estimators\", \"broad\", 220970, 0.8, NaN, NaN, NaN, NaN, \" 38.23\", \"79520\", 0.5, \" 21.55\", \" 27.47\", \" 35.94\", \" 46.51\", \" 59.87\", \"44820\", \"57130\", \"74740\", \"96740\", \"124520\", \"NaN\", \"NaN\"], [99, \"U.S.\", 1, \"US\", 0, \"Cross-industry\", \"cross-industry\", 1235, \"13-1051\", \"Cost Estimators\", \"detailed\", 220970, 0.8, NaN, NaN, NaN, NaN, \" 38.23\", \"79520\", 0.5, \" 21.55\", \" 27.47\", \" 35.94\", \" 46.51\", \" 59.87\", \"44820\", \"57130\", \"74740\", \"96740\", \"124520\", \"NaN\", \"NaN\"], [99, \"U.S.\", 1, \"US\", 0, \"Cross-industry\", \"cross-industry\", 1235, \"13-1070\", \"Human Resources Workers\", \"broad\", 959230, 1.5, NaN, NaN, NaN, NaN, \" 37.15\", \"77260\", 0.3, \" 20.75\", \" 25.07\", \" 33.42\", \" 45.55\", \" 59.78\", \"43160\", \"52140\", \"69520\", \"94730\", \"124330\", \"NaN\", \"NaN\"], [99, \"U.S.\", 1, \"US\", 0, \"Cross-industry\", \"cross-industry\", 1235, \"13-1071\", \"Human Resources Specialists\", \"detailed\", 895970, 1.6, NaN, NaN, NaN, NaN, \" 36.57\", \"76060\", 0.3, \" 20.62\", \" 24.76\", \" 32.53\", \" 44.42\", \" 58.56\", \"42900\", \"51510\", \"67650\", \"92390\", \"121800\", \"NaN\", \"NaN\"], [99, \"U.S.\", 1, \"US\", 0, \"Cross-industry\", \"cross-industry\", 1235, \"13-1074\", \"Farm Labor Contractors\", \"detailed\", 460, 24.9, NaN, NaN, NaN, NaN, \" 24.71\", \"51400\", 10.9, \" 12.84\", \" 15.37\", \" 21.98\", \" 30.76\", \" 43.1\", \"26700\", \"31970\", \"45730\", \"63980\", \"89640\", \"NaN\", \"NaN\"], [99, \"U.S.\", 1, \"US\", 0, \"Cross-industry\", \"cross-industry\", 1235, \"13-1075\", \"Labor Relations Specialists\", \"detailed\", 62800, 1.1, NaN, NaN, NaN, NaN, \" 45.49\", \"94620\", 0.9, \" 23.25\", \" 31.56\", \" 43.26\", \" 57.99\", \" 67.08\", \"48360\", \"65650\", \"89980\", \"120610\", \"139520\", \"NaN\", \"NaN\"], [99, \"U.S.\", 1, \"US\", 0, \"Cross-industry\", \"cross-industry\", 1235, \"13-1080\", \"Logisticians and Project Management Specialists\", \"broad\", 1176100, 1.1, NaN, NaN, NaN, NaN, \" 48.55\", \"100980\", 0.5, \" 26.13\", \" 33.62\", \" 45.49\", \" 60.81\", \" 76.58\", \"54350\", \"69920\", \"94630\", \"126480\", \"159290\", \"NaN\", \"NaN\"], [99, \"U.S.\", 1, \"US\", 0, \"Cross-industry\", \"cross-industry\", 1235, \"13-1081\", \"Logisticians\", \"detailed\", 228470, 0.9, NaN, NaN, NaN, NaN, \" 40.69\", \"84640\", 0.4, \" 23.07\", \" 29.54\", \" 38.17\", \" 48.99\", \" 61.8\", \"47990\", \"61440\", \"79400\", \"101890\", \"128550\", \"NaN\", \"NaN\"], [99, \"U.S.\", 1, \"US\", 0, \"Cross-industry\", \"cross-industry\", 1235, \"13-1082\", \"Project Management Specialists\", \"detailed\", 947630, 1.2, NaN, NaN, NaN, NaN, \" 50.44\", \"104920\", 0.5, \" 27.65\", \" 35.62\", \" 47.39\", \" 62.35\", \" 78.39\", \"57500\", \"74100\", \"98580\", \"129690\", \"163040\", \"NaN\", \"NaN\"], [99, \"U.S.\", 1, \"US\", 0, \"Cross-industry\", \"cross-industry\", 1235, \"13-1110\", \"Management Analysts\", \"broad\", 838140, 1.6, NaN, NaN, NaN, NaN, \" 55.54\", \"115530\", 1.4, \" 27.81\", \" 35.84\", \" 47.8\", \" 62.89\", \" 82.83\", \"57840\", \"74540\", \"99410\", \"130800\", \"172280\", \"NaN\", \"NaN\"], [99, \"U.S.\", 1, \"US\", 0, \"Cross-industry\", \"cross-industry\", 1235, \"13-1111\", \"Management Analysts\", \"detailed\", 838140, 1.6, NaN, NaN, NaN, NaN, \" 55.54\", \"115530\", 1.4, \" 27.81\", \" 35.84\", \" 47.8\", \" 62.89\", \" 82.83\", \"57840\", \"74540\", \"99410\", \"130800\", \"172280\", \"NaN\", \"NaN\"], [99, \"U.S.\", 1, \"US\", 0, \"Cross-industry\", \"cross-industry\", 1235, \"13-1120\", \"Meeting, Convention, and Event Planners\", \"broad\", 122130, 1.3, NaN, NaN, NaN, NaN, \" 29.94\", \"62280\", 0.7, \" 16.54\", \" 20.89\", \" 27.36\", \" 35.82\", \" 47.6\", \"34410\", \"43450\", \"56920\", \"74510\", \"99010\", \"NaN\", \"NaN\"], [99, \"U.S.\", 1, \"US\", 0, \"Cross-industry\", \"cross-industry\", 1235, \"13-1121\", \"Meeting, Convention, and Event Planners\", \"detailed\", 122130, 1.3, NaN, NaN, NaN, NaN, \" 29.94\", \"62280\", 0.7, \" 16.54\", \" 20.89\", \" 27.36\", \" 35.82\", \" 47.6\", \"34410\", \"43450\", \"56920\", \"74510\", \"99010\", \"NaN\", \"NaN\"], [99, \"U.S.\", 1, \"US\", 0, \"Cross-industry\", \"cross-industry\", 1235, \"13-1130\", \"Fundraisers\", \"broad\", 101730, 2.3, NaN, NaN, NaN, NaN, \" 34.02\", \"70760\", 0.8, \" 18.96\", \" 23.83\", \" 30.85\", \" 39.96\", \" 51.3\", \"39440\", \"49560\", \"64160\", \"83120\", \"106700\", \"NaN\", \"NaN\"], [99, \"U.S.\", 1, \"US\", 0, \"Cross-industry\", \"cross-industry\", 1235, \"13-1131\", \"Fundraisers\", \"detailed\", 101730, 2.3, NaN, NaN, NaN, NaN, \" 34.02\", \"70760\", 0.8, \" 18.96\", \" 23.83\", \" 30.85\", \" 39.96\", \" 51.3\", \"39440\", \"49560\", \"64160\", \"83120\", \"106700\", \"NaN\", \"NaN\"], [99, \"U.S.\", 1, \"US\", 0, \"Cross-industry\", \"cross-industry\", 1235, \"13-1140\", \"Compensation, Benefits, and Job Analysis Specialists\", \"broad\", 99850, 1.3, NaN, NaN, NaN, NaN, \" 38.76\", \"80620\", 0.9, \" 22.14\", \" 27.35\", \" 35.83\", \" 47.1\", \" 61.22\", \"46050\", \"56890\", \"74530\", \"97960\", \"127340\", \"NaN\", \"NaN\"], [99, \"U.S.\", 1, \"US\", 0, \"Cross-industry\", \"cross-industry\", 1235, \"13-1141\", \"Compensation, Benefits, and Job Analysis Specialists\", \"detailed\", 99850, 1.3, NaN, NaN, NaN, NaN, \" 38.76\", \"80620\", 0.9, \" 22.14\", \" 27.35\", \" 35.83\", \" 47.1\", \" 61.22\", \"46050\", \"56890\", \"74530\", \"97960\", \"127340\", \"NaN\", \"NaN\"], [99, \"U.S.\", 1, \"US\", 0, \"Cross-industry\", \"cross-industry\", 1235, \"13-1150\", \"Training and Development Specialists\", \"broad\", 403480, 0.7, NaN, NaN, NaN, NaN, \" 34.6\", \"71980\", 0.5, \" 17.33\", \" 22.84\", \" 30.94\", \" 42.26\", \" 55.84\", \"36050\", \"47510\", \"64340\", \"87890\", \"116140\", \"NaN\", \"NaN\"], [99, \"U.S.\", 1, \"US\", 0, \"Cross-industry\", \"cross-industry\", 1235, \"13-1151\", \"Training and Development Specialists\", \"detailed\", 403480, 0.7, NaN, NaN, NaN, NaN, \" 34.6\", \"71980\", 0.5, \" 17.33\", \" 22.84\", \" 30.94\", \" 42.26\", \" 55.84\", \"36050\", \"47510\", \"64340\", \"87890\", \"116140\", \"NaN\", \"NaN\"], [99, \"U.S.\", 1, \"US\", 0, \"Cross-industry\", \"cross-industry\", 1235, \"13-1160\", \"Market Research Analysts and Marketing Specialists\", \"broad\", 846370, 0.9, NaN, NaN, NaN, NaN, \"40\", \"83190\", 0.4, \" 19.25\", \" 25.4\", \" 35.9\", \" 49.26\", \" 65.89\", \"40040\", \"52840\", \"74680\", \"102450\", \"137040\", \"NaN\", \"NaN\"], [99, \"U.S.\", 1, \"US\", 0, \"Cross-industry\", \"cross-industry\", 1235, \"13-1161\", \"Market Research Analysts and Marketing Specialists\", \"detailed\", 846370, 0.9, NaN, NaN, NaN, NaN, \"40\", \"83190\", 0.4, \" 19.25\", \" 25.4\", \" 35.9\", \" 49.26\", \" 65.89\", \"40040\", \"52840\", \"74680\", \"102450\", \"137040\", \"NaN\", \"NaN\"], [99, \"U.S.\", 1, \"US\", 0, \"Cross-industry\", \"cross-industry\", 1235, \"13-1190\", \"Miscellaneous Business Operations Specialists\", \"broad\", 1103440, 0.4, NaN, NaN, NaN, NaN, \" 42.85\", \"89130\", 0.4, \" 21.33\", \" 28.37\", \" 38.26\", \" 51.1\", \" 67.45\", \"44370\", \"59010\", \"79590\", \"106300\", \"140300\", \"NaN\", \"NaN\"], [99, \"U.S.\", 1, \"US\", 0, \"Cross-industry\", \"cross-industry\", 1235, \"13-1199\", \"Business Operations Specialists, All Other\", \"detailed\", 1103440, 0.4, NaN, NaN, NaN, NaN, \" 42.85\", \"89130\", 0.4, \" 21.33\", \" 28.37\", \" 38.26\", \" 51.1\", \" 67.45\", \"44370\", \"59010\", \"79590\", \"106300\", \"140300\", \"NaN\", \"NaN\"], [99, \"U.S.\", 1, \"US\", 0, \"Cross-industry\", \"cross-industry\", 1235, \"13-2000\", \"Financial Specialists\", \"minor\", 3039480, 0.5, NaN, NaN, NaN, NaN, \" 46.37\", \"96460\", 0.4, \" 22.6\", \" 29.44\", \" 38.5\", \" 51.69\", \" 76.14\", \"47000\", \"61240\", \"80090\", \"107520\", \"158360\", \"NaN\", \"NaN\"], [99, \"U.S.\", 1, \"US\", 0, \"Cross-industry\", \"cross-industry\", 1235, \"13-2010\", \"Accountants and Auditors\", \"broad\", 1435770, 0.4, NaN, NaN, NaN, NaN, \" 43.65\", \"90780\", 0.3, \" 24.25\", \" 30.15\", \" 38.41\", \" 49.99\", \"66\", \"50440\", \"62720\", \"79880\", \"103990\", \"137280\", \"NaN\", \"NaN\"], [99, \"U.S.\", 1, \"US\", 0, \"Cross-industry\", \"cross-industry\", 1235, \"13-2011\", \"Accountants and Auditors\", \"detailed\", 1435770, 0.4, NaN, NaN, NaN, NaN, \" 43.65\", \"90780\", 0.3, \" 24.25\", \" 30.15\", \" 38.41\", \" 49.99\", \"66\", \"50440\", \"62720\", \"79880\", \"103990\", \"137280\", \"NaN\", \"NaN\"], [99, \"U.S.\", 1, \"US\", 0, \"Cross-industry\", \"cross-industry\", 1235, \"13-2020\", \"Property Appraisers and Assessors\", \"broad\", 62090, 6.0, NaN, NaN, NaN, NaN, \" 36.59\", \"76110\", 4.7, \" 17.42\", \" 22.39\", \" 29.63\", \" 40.19\", \" 56.05\", \"36230\", \"46560\", \"61630\", \"83600\", \"116580\", \"NaN\", \"NaN\"], [99, \"U.S.\", 1, \"US\", 0, \"Cross-industry\", \"cross-industry\", 1235, \"13-2020\", \"Property Appraisers and Assessors\", \"detailed\", 62090, 6.0, NaN, NaN, NaN, NaN, \" 36.59\", \"76110\", 4.7, \" 17.42\", \" 22.39\", \" 29.63\", \" 40.19\", \" 56.05\", \"36230\", \"46560\", \"61630\", \"83600\", \"116580\", \"NaN\", \"NaN\"], [99, \"U.S.\", 1, \"US\", 0, \"Cross-industry\", \"cross-industry\", 1235, \"13-2030\", \"Budget Analysts\", \"broad\", 47310, 0.6, NaN, NaN, NaN, NaN, \" 43.69\", \"90880\", 0.4, \" 27.29\", \" 32.95\", \" 40.84\", \" 51.67\", \" 63.29\", \"56760\", \"68540\", \"84940\", \"107470\", \"131630\", \"NaN\", \"NaN\"], [99, \"U.S.\", 1, \"US\", 0, \"Cross-industry\", \"cross-industry\", 1235, \"13-2031\", \"Budget Analysts\", \"detailed\", 47310, 0.6, NaN, NaN, NaN, NaN, \" 43.69\", \"90880\", 0.4, \" 27.29\", \" 32.95\", \" 40.84\", \" 51.67\", \" 63.29\", \"56760\", \"68540\", \"84940\", \"107470\", \"131630\", \"NaN\", \"NaN\"], [99, \"U.S.\", 1, \"US\", 0, \"Cross-industry\", \"cross-industry\", 1235, \"13-2040\", \"Credit Analysts\", \"broad\", 73200, 1.2, NaN, NaN, NaN, NaN, \" 45.56\", \"94750\", 0.6, \" 24.07\", \" 29.62\", \" 38.18\", \" 52.13\", \" 79.21\", \"50060\", \"61600\", \"79420\", \"108430\", \"164750\", \"NaN\", \"NaN\"], [99, \"U.S.\", 1, \"US\", 0, \"Cross-industry\", \"cross-industry\", 1235, \"13-2041\", \"Credit Analysts\", \"detailed\", 73200, 1.2, NaN, NaN, NaN, NaN, \" 45.56\", \"94750\", 0.6, \" 24.07\", \" 29.62\", \" 38.18\", \" 52.13\", \" 79.21\", \"50060\", \"61600\", \"79420\", \"108430\", \"164750\", \"NaN\", \"NaN\"], [99, \"U.S.\", 1, \"US\", 0, \"Cross-industry\", \"cross-industry\", 1235, \"13-2050\", \"Financial Analysts and Advisors\", \"broad\", 753990, 0.8, NaN, NaN, NaN, NaN, \" 59.29\", \"123330\", 0.8, \" 25.74\", \" 33.65\", \" 46.85\", \" 64.38\", \" 101.7\", \"53540\", \"69990\", \"97450\", \"133910\", \"211540\", \"NaN\", \"NaN\"], [99, \"U.S.\", 1, \"US\", 0, \"Cross-industry\", \"cross-industry\", 1235, \"13-2051\", \"Financial and Investment Analysts\", \"detailed\", 325220, 0.8, NaN, NaN, NaN, NaN, \" 54.3\", \"112950\", 0.6, \" 29.25\", \" 36.96\", \" 47.6\", \" 62.49\", \" 84.54\", \"60830\", \"76880\", \"99010\", \"129970\", \"175840\", \"NaN\", \"NaN\"], [99, \"U.S.\", 1, \"US\", 0, \"Cross-industry\", \"cross-industry\", 1235, \"13-2052\", \"Personal Financial Advisors\", \"detailed\", 272190, 1.4, NaN, NaN, NaN, NaN, \" 72.44\", \"150670\", 1.7, \" 23.43\", \" 31.41\", \" 47.88\", \" 81.69\", \"#\", \"48730\", \"65320\", \"99580\", \"169910\", \"#\", \"NaN\", \"NaN\"], [99, \"U.S.\", 1, \"US\", 0, \"Cross-industry\", \"cross-industry\", 1235, \"13-2053\", \"Insurance Underwriters\", \"detailed\", 101310, 3.5, NaN, NaN, NaN, NaN, \" 41.16\", \"85610\", 0.7, \" 23.31\", \" 29.5\", \" 37.44\", \" 49.04\", \" 63.47\", \"48480\", \"61370\", \"77860\", \"102000\", \"132010\", \"NaN\", \"NaN\"], [99, \"U.S.\", 1, \"US\", 0, \"Cross-industry\", \"cross-industry\", 1235, \"13-2054\", \"Financial Risk Specialists\", \"detailed\", 55290, 1.3, NaN, NaN, NaN, NaN, \" 57.19\", \"118950\", 0.6, \" 29.37\", \" 38.05\", \" 51.01\", \" 67.8\", \" 88.62\", \"61090\", \"79140\", \"106090\", \"141030\", \"184330\", \"NaN\", \"NaN\"], [99, \"U.S.\", 1, \"US\", 0, \"Cross-industry\", \"cross-industry\", 1235, \"13-2060\", \"Financial Examiners\", \"broad\", 63440, 1.3, NaN, NaN, NaN, NaN, \" 47.18\", \"98140\", 0.4, \" 23.9\", \" 30.49\", \" 40.53\", \" 58.31\", \" 79.65\", \"49710\", \"63430\", \"84300\", \"121280\", \"165670\", \"NaN\", \"NaN\"], [99, \"U.S.\", 1, \"US\", 0, \"Cross-industry\", \"cross-industry\", 1235, \"13-2061\", \"Financial Examiners\", \"detailed\", 63440, 1.3, NaN, NaN, NaN, NaN, \" 47.18\", \"98140\", 0.4, \" 23.9\", \" 30.49\", \" 40.53\", \" 58.31\", \" 79.65\", \"49710\", \"63430\", \"84300\", \"121280\", \"165670\", \"NaN\", \"NaN\"], [99, \"U.S.\", 1, \"US\", 0, \"Cross-industry\", \"cross-industry\", 1235, \"13-2070\", \"Credit Counselors and Loan Officers\", \"broad\", 349040, 0.8, NaN, NaN, NaN, NaN, \" 39.43\", \"82000\", 0.5, \" 17.84\", \" 23.19\", \" 31.39\", \" 47.15\", \" 65.1\", \"37120\", \"48230\", \"65280\", \"98080\", \"135400\", \"NaN\", \"NaN\"], [99, \"U.S.\", 1, \"US\", 0, \"Cross-industry\", \"cross-industry\", 1235, \"13-2071\", \"Credit Counselors\", \"detailed\", 27950, 2.1, NaN, NaN, NaN, NaN, \" 25.69\", \"53440\", 0.6, \" 18.01\", \" 20.18\", \" 23.35\", \" 28.84\", \" 36.07\", \"37460\", \"41980\", \"48570\", \"59990\", \"75030\", \"NaN\", \"NaN\"], [99, \"U.S.\", 1, \"US\", 0, \"Cross-industry\", \"cross-industry\", 1235, \"13-2072\", \"Loan Officers\", \"detailed\", 321090, 0.8, NaN, NaN, NaN, NaN, \" 40.62\", \"84490\", 0.5, \" 17.8\", \" 23.62\", \" 33.65\", \" 48.09\", \" 67.05\", \"37020\", \"49130\", \"69990\", \"100020\", \"139470\", \"NaN\", \"NaN\"], [99, \"U.S.\", 1, \"US\", 0, \"Cross-industry\", \"cross-industry\", 1235, \"13-2080\", \"Tax Examiners, Collectors and Preparers, and Revenue Agents\", \"broad\", 131910, 1.5, NaN, NaN, NaN, NaN, \" 29.28\", \"60900\", 0.7, \" 14.85\", \" 18.46\", \"26\", \" 36.92\", \" 48.82\", \"30880\", \"38390\", \"54080\", \"76800\", \"101550\", \"NaN\", \"NaN\"], [99, \"U.S.\", 1, \"US\", 0, \"Cross-industry\", \"cross-industry\", 1235, \"51-9030\", \"Cutting Workers\", \"broad\", 59950, 1.6, NaN, NaN, NaN, NaN, \" 21.18\", \"44050\", 0.5, \" 15.37\", \" 17.62\", \" 20.82\", \" 23.98\", \" 27.93\", \"31960\", \"36650\", \"43300\", \"49880\", \"58100\", \"NaN\", \"NaN\"], [99, \"U.S.\", 1, \"US\", 0, \"Cross-industry\", \"cross-industry\", 1235, \"51-9031\", \"Cutters and Trimmers, Hand\", \"detailed\", 7220, 4.2, NaN, NaN, NaN, NaN, \" 18.88\", \"39260\", 0.8, \" 13.83\", \" 15.43\", \" 17.81\", \" 20.86\", \" 26.13\", \"28770\", \"32090\", \"37040\", \"43400\", \"54350\", \"NaN\", \"NaN\"], [99, \"U.S.\", 1, \"US\", 0, \"Cross-industry\", \"cross-industry\", 1235, \"51-9032\", \"Cutting and Slicing Machine Setters, Operators, and Tenders\", \"detailed\", 52720, 1.8, NaN, NaN, NaN, NaN, \" 21.49\", \"44700\", 0.6, \" 15.75\", \"18\", \" 21.31\", \" 24.31\", \"28\", \"32760\", \"37430\", \"44310\", \"50570\", \"58240\", \"NaN\", \"NaN\"], [99, \"U.S.\", 1, \"US\", 0, \"Cross-industry\", \"cross-industry\", 1235, \"51-9040\", \"Extruding, Forming, Pressing, and Compacting Machine Setters, Operators, and Tenders\", \"broad\", 57080, 1.8, NaN, NaN, NaN, NaN, \" 21.45\", \"44610\", 0.4, \" 15.43\", \" 17.7\", \" 20.52\", \" 23.91\", \" 29.5\", \"32100\", \"36810\", \"42670\", \"49730\", \"61350\", \"NaN\", \"NaN\"], [99, \"U.S.\", 1, \"US\", 0, \"Cross-industry\", \"cross-industry\", 1235, \"51-9041\", \"Extruding, Forming, Pressing, and Compacting Machine Setters, Operators, and Tenders\", \"detailed\", 57080, 1.8, NaN, NaN, NaN, NaN, \" 21.45\", \"44610\", 0.4, \" 15.43\", \" 17.7\", \" 20.52\", \" 23.91\", \" 29.5\", \"32100\", \"36810\", \"42670\", \"49730\", \"61350\", \"NaN\", \"NaN\"], [99, \"U.S.\", 1, \"US\", 0, \"Cross-industry\", \"cross-industry\", 1235, \"51-9050\", \"Furnace, Kiln, Oven, Drier, and Kettle Operators and Tenders\", \"broad\", 14820, 3.1, NaN, NaN, NaN, NaN, \" 22.86\", \"47540\", 0.7, \" 16.55\", \" 18.37\", \" 21.94\", \" 26.28\", \" 30.45\", \"34430\", \"38200\", \"45640\", \"54660\", \"63340\", \"NaN\", \"NaN\"], [99, \"U.S.\", 1, \"US\", 0, \"Cross-industry\", \"cross-industry\", 1235, \"51-9051\", \"Furnace, Kiln, Oven, Drier, and Kettle Operators and Tenders\", \"detailed\", 14820, 3.1, NaN, NaN, NaN, NaN, \" 22.86\", \"47540\", 0.7, \" 16.55\", \" 18.37\", \" 21.94\", \" 26.28\", \" 30.45\", \"34430\", \"38200\", \"45640\", \"54660\", \"63340\", \"NaN\", \"NaN\"], [99, \"U.S.\", 1, \"US\", 0, \"Cross-industry\", \"cross-industry\", 1235, \"51-9060\", \"Inspectors, Testers, Sorters, Samplers, and Weighers\", \"broad\", 584630, 1.0, NaN, NaN, NaN, NaN, \" 23.68\", \"49260\", 0.3, \" 15.36\", \" 17.88\", \" 22.04\", \" 27.9\", \" 34.72\", \"31950\", \"37190\", \"45850\", \"58030\", \"72210\", \"NaN\", \"NaN\"], [99, \"U.S.\", 1, \"US\", 0, \"Cross-industry\", \"cross-industry\", 1235, \"51-9061\", \"Inspectors, Testers, Sorters, Samplers, and Weighers\", \"detailed\", 584630, 1.0, NaN, NaN, NaN, NaN, \" 23.68\", \"49260\", 0.3, \" 15.36\", \" 17.88\", \" 22.04\", \" 27.9\", \" 34.72\", \"31950\", \"37190\", \"45850\", \"58030\", \"72210\", \"NaN\", \"NaN\"], [99, \"U.S.\", 1, \"US\", 0, \"Cross-industry\", \"cross-industry\", 1235, \"51-9070\", \"Jewelers and Precious Stone and Metal Workers\", \"broad\", 24060, 4.1, NaN, NaN, NaN, NaN, \"25\", \"52000\", 1.1, \" 14.81\", \" 17.56\", \" 22.81\", \" 29.84\", \" 37.74\", \"30790\", \"36510\", \"47450\", \"62070\", \"78500\", \"NaN\", \"NaN\"], [99, \"U.S.\", 1, \"US\", 0, \"Cross-industry\", \"cross-industry\", 1235, \"51-9071\", \"Jewelers and Precious Stone and Metal Workers\", \"detailed\", 24060, 4.1, NaN, NaN, NaN, NaN, \"25\", \"52000\", 1.1, \" 14.81\", \" 17.56\", \" 22.81\", \" 29.84\", \" 37.74\", \"30790\", \"36510\", \"47450\", \"62070\", \"78500\", \"NaN\", \"NaN\"], [99, \"U.S.\", 1, \"US\", 0, \"Cross-industry\", \"cross-industry\", 1235, \"51-9080\", \"Dental and Ophthalmic Laboratory Technicians and Medical Appliance Technicians\", \"broad\", 64970, 1.9, NaN, NaN, NaN, NaN, \" 23.36\", \"48590\", 0.6, \" 15.36\", \" 17.67\", \" 21.46\", \" 27.06\", \" 34.84\", \"31950\", \"36760\", \"44640\", \"56280\", \"72470\", \"NaN\", \"NaN\"], [99, \"U.S.\", 1, \"US\", 0, \"Cross-industry\", \"cross-industry\", 1235, \"51-9081\", \"Dental Laboratory Technicians\", \"detailed\", 34190, 2.0, NaN, NaN, NaN, NaN, \" 25.19\", \"52390\", 0.6, \" 16.32\", \" 18.39\", \" 22.93\", \" 29.27\", \" 37.24\", \"33940\", \"38250\", \"47690\", \"60880\", \"77460\", \"NaN\", \"NaN\"], [99, \"U.S.\", 1, \"US\", 0, \"Cross-industry\", \"cross-industry\", 1235, \"51-9082\", \"Medical Appliance Technicians\", \"detailed\", 12550, 5.9, NaN, NaN, NaN, NaN, \" 23.49\", \"48860\", 1.2, \" 16.9\", \" 18.38\", \" 21.62\", \" 25.42\", \" 33.68\", \"35160\", \"38220\", \"44960\", \"52880\", \"70060\", \"NaN\", \"NaN\"], [99, \"U.S.\", 1, \"US\", 0, \"Cross-industry\", \"cross-industry\", 1235, \"51-9083\", \"Ophthalmic Laboratory Technicians\", \"detailed\", 18240, 5.4, NaN, NaN, NaN, NaN, \" 19.85\", \"41280\", 1.2, \" 14.44\", \" 16.65\", \" 18.13\", \" 21.9\", \" 26.72\", \"30030\", \"34630\", \"37720\", \"45540\", \"55580\", \"NaN\", \"NaN\"], [99, \"U.S.\", 1, \"US\", 0, \"Cross-industry\", \"cross-industry\", 1235, \"51-9110\", \"Packaging and Filling Machine Operators and Tenders\", \"broad\", 371600, 0.8, NaN, NaN, NaN, NaN, \" 19.81\", \"41200\", 0.3, \" 14.45\", \" 16.56\", \" 18.43\", \" 22.38\", \" 26.96\", \"30050\", \"34440\", \"38330\", \"46540\", \"56070\", \"NaN\", \"NaN\"], [99, \"U.S.\", 1, \"US\", 0, \"Cross-industry\", \"cross-industry\", 1235, \"51-9111\", \"Packaging and Filling Machine Operators and Tenders\", \"detailed\", 371600, 0.8, NaN, NaN, NaN, NaN, \" 19.81\", \"41200\", 0.3, \" 14.45\", \" 16.56\", \" 18.43\", \" 22.38\", \" 26.96\", \"30050\", \"34440\", \"38330\", \"46540\", \"56070\", \"NaN\", \"NaN\"], [99, \"U.S.\", 1, \"US\", 0, \"Cross-industry\", \"cross-industry\", 1235, \"51-9120\", \"Painting Workers\", \"broad\", 166570, 1.5, NaN, NaN, NaN, NaN, \" 23.17\", \"48200\", 0.3, \" 15.81\", \" 18.07\", \" 21.8\", \" 25.9\", \" 31.72\", \"32890\", \"37580\", \"45340\", \"53880\", \"65980\", \"NaN\", \"NaN\"], [99, \"U.S.\", 1, \"US\", 0, \"Cross-industry\", \"cross-industry\", 1235, \"51-9123\", \"Painting, Coating, and Decorating Workers\", \"detailed\", 10700, 3.7, NaN, NaN, NaN, NaN, \" 21.18\", \"44050\", 1.4, \" 14.74\", \" 16.82\", \" 19.34\", \" 23.55\", \" 28.44\", \"30660\", \"34980\", \"40230\", \"48980\", \"59160\", \"NaN\", \"NaN\"], [99, \"U.S.\", 1, \"US\", 0, \"Cross-industry\", \"cross-industry\", 1235, \"51-9124\", \"Coating, Painting, and Spraying Machine Setters, Operators, and Tenders\", \"detailed\", 155880, 1.5, NaN, NaN, NaN, NaN, \" 23.31\", \"48480\", 0.3, \" 16.01\", \" 18.17\", \" 21.9\", \" 26.17\", \" 31.92\", \"33300\", \"37790\", \"45560\", \"54440\", \"66390\", \"NaN\", \"NaN\"], [99, \"U.S.\", 1, \"US\", 0, \"Cross-industry\", \"cross-industry\", 1235, \"51-9140\", \"Semiconductor Processing Technicians\", \"broad\", 26450, 2.7, NaN, NaN, NaN, NaN, \" 23.54\", \"48970\", 0.3, \" 15.2\", \" 18.51\", \" 22.04\", \" 27.24\", \" 32.63\", \"31610\", \"38510\", \"45850\", \"56660\", \"67870\", \"NaN\", \"NaN\"], [99, \"U.S.\", 1, \"US\", 0, \"Cross-industry\", \"cross-industry\", 1235, \"51-9141\", \"Semiconductor Processing Technicians\", \"detailed\", 26450, 2.7, NaN, NaN, NaN, NaN, \" 23.54\", \"48970\", 0.3, \" 15.2\", \" 18.51\", \" 22.04\", \" 27.24\", \" 32.63\", \"31610\", \"38510\", \"45850\", \"56660\", \"67870\", \"NaN\", \"NaN\"], [99, \"U.S.\", 1, \"US\", 0, \"Cross-industry\", \"cross-industry\", 1235, \"51-9150\", \"Photographic Process Workers and Processing Machine Operators\", \"broad\", 5770, 9.4, NaN, NaN, NaN, NaN, \" 20.14\", \"41900\", 2.6, \" 14.13\", \" 15.36\", \" 17.12\", \" 21.47\", \" 31.48\", \"29390\", \"31950\", \"35620\", \"44650\", \"65480\", \"NaN\", \"NaN\"], [99, \"U.S.\", 1, \"US\", 0, \"Cross-industry\", \"cross-industry\", 1235, \"51-9151\", \"Photographic Process Workers and Processing Machine Operators\", \"detailed\", 5770, 9.4, NaN, NaN, NaN, NaN, \" 20.14\", \"41900\", 2.6, \" 14.13\", \" 15.36\", \" 17.12\", \" 21.47\", \" 31.48\", \"29390\", \"31950\", \"35620\", \"44650\", \"65480\", \"NaN\", \"NaN\"], [99, \"U.S.\", 1, \"US\", 0, \"Cross-industry\", \"cross-industry\", 1235, \"51-9160\", \"Computer Numerically Controlled Tool Operators and Programmers\", \"broad\", 215710, 1.4, NaN, NaN, NaN, NaN, \" 25.58\", \"53200\", 0.3, \" 17.61\", \" 20.2\", \" 23.89\", \" 29.44\", \" 35.54\", \"36630\", \"42010\", \"49690\", \"61220\", \"73930\", \"NaN\", \"NaN\"], [99, \"U.S.\", 1, \"US\", 0, \"Cross-industry\", \"cross-industry\", 1235, \"51-9161\", \"Computer Numerically Controlled Tool Operators\", \"detailed\", 187670, 1.5, NaN, NaN, NaN, NaN, \" 24.54\", \"51030\", 0.3, \" 17.49\", \" 19.42\", \" 23.34\", \" 28.67\", \" 32.2\", \"36380\", \"40390\", \"48550\", \"59630\", \"66970\", \"NaN\", \"NaN\"], [99, \"U.S.\", 1, \"US\", 0, \"Cross-industry\", \"cross-industry\", 1235, \"51-9162\", \"Computer Numerically Controlled Tool Programmers\", \"detailed\", 28030, 1.9, NaN, NaN, NaN, NaN, \" 32.52\", \"67650\", 0.6, \" 22.11\", \" 25.84\", \" 30.5\", \" 37.6\", \" 45.61\", \"45980\", \"53750\", \"63440\", \"78200\", \"94880\", \"NaN\", \"NaN\"], [99, \"U.S.\", 1, \"US\", 0, \"Cross-industry\", \"cross-industry\", 1235, \"51-9190\", \"Miscellaneous Production Workers\", \"broad\", 623280, 0.6, NaN, NaN, NaN, NaN, \" 20.36\", \"42360\", 0.3, \" 14.33\", \" 16.5\", \" 18.63\", \" 23.09\", \" 28.53\", \"29800\", \"34310\", \"38750\", \"48020\", \"59350\", \"NaN\", \"NaN\"], [99, \"U.S.\", 1, \"US\", 0, \"Cross-industry\", \"cross-industry\", 1235, \"51-9191\", \"Adhesive Bonding Machine Operators and Tenders\", \"detailed\", 12510, 3.3, NaN, NaN, NaN, NaN, \" 21.35\", \"44400\", 0.7, \"15\", \" 17.15\", \" 20.93\", \" 24.21\", \" 28.29\", \"31200\", \"35660\", \"43540\", \"50350\", \"58840\", \"NaN\", \"NaN\"], [99, \"U.S.\", 1, \"US\", 0, \"Cross-industry\", \"cross-industry\", 1235, \"51-9192\", \"Cleaning, Washing, and Metal Pickling Equipment Operators and Tenders\", \"detailed\", 15210, 2.7, NaN, NaN, NaN, NaN, \" 19.95\", \"41500\", 0.6, \" 15.08\", \" 17.01\", \" 18.92\", \" 22.37\", \" 26.05\", \"31370\", \"35370\", \"39340\", \"46530\", \"54180\", \"NaN\", \"NaN\"], [99, \"U.S.\", 1, \"US\", 0, \"Cross-industry\", \"cross-industry\", 1235, \"51-9193\", \"Cooling and Freezing Equipment Operators and Tenders\", \"detailed\", 6500, 2.3, NaN, NaN, NaN, NaN, \" 21.56\", \"44840\", 0.8, \" 15.08\", \" 17.67\", \" 20.4\", \" 24.77\", \" 29.86\", \"31370\", \"36760\", \"42420\", \"51530\", \"62120\", \"NaN\", \"NaN\"], [99, \"U.S.\", 1, \"US\", 0, \"Cross-industry\", \"cross-industry\", 1235, \"51-9194\", \"Etchers and Engravers\", \"detailed\", 8140, 6.2, NaN, NaN, NaN, NaN, \" 20.57\", \"42780\", 2.1, \"14\", \"16\", \" 19.25\", \" 23.04\", \" 29.5\", \"29120\", \"33280\", \"40040\", \"47920\", \"61360\", \"NaN\", \"NaN\"], [99, \"U.S.\", 1, \"US\", 0, \"Cross-industry\", \"cross-industry\", 1235, \"51-9195\", \"Molders, Shapers, and Casters, Except Metal and Plastic\", \"detailed\", 38480, 2.3, NaN, NaN, NaN, NaN, \" 21.5\", \"44710\", 0.6, \" 15.64\", \" 17.86\", \" 20.82\", \" 23.71\", \" 28.72\", \"32540\", \"37150\", \"43310\", \"49330\", \"59740\", \"NaN\", \"NaN\"], [99, \"U.S.\", 1, \"US\", 0, \"Cross-industry\", \"cross-industry\", 1235, \"51-9196\", \"Paper Goods Machine Setters, Operators, and Tenders\", \"detailed\", 96460, 1.1, NaN, NaN, NaN, NaN, \" 23.52\", \"48910\", 0.3, \" 17.11\", \" 18.77\", \" 22.71\", \" 27.25\", \" 30.91\", \"35590\", \"39040\", \"47250\", \"56690\", \"64290\", \"NaN\", \"NaN\"], [99, \"U.S.\", 1, \"US\", 0, \"Cross-industry\", \"cross-industry\", 1235, \"51-9197\", \"Tire Builders\", \"detailed\", 20660, 1.5, NaN, NaN, NaN, NaN, \" 25.93\", \"53930\", 0.6, \" 18.24\", \" 22.25\", \"26\", \" 29.97\", \" 32.07\", \"37940\", \"46280\", \"54080\", \"62330\", \"66700\", \"NaN\", \"NaN\"], [99, \"U.S.\", 1, \"US\", 0, \"Cross-industry\", \"cross-industry\", 1235, \"51-9198\", \"Helpers--Production Workers\", \"detailed\", 181810, 1.0, NaN, NaN, NaN, NaN, \" 18.35\", \"38160\", 0.4, \" 13.76\", \" 15.58\", \" 17.65\", \" 20.48\", \"24\", \"28630\", \"32400\", \"36700\", \"42600\", \"49910\", \"NaN\", \"NaN\"], [99, \"U.S.\", 1, \"US\", 0, \"Cross-industry\", \"cross-industry\", 1235, \"51-9199\", \"Production Workers, All Other\", \"detailed\", 243500, 1.1, NaN, NaN, NaN, NaN, \" 19.9\", \"41400\", 0.3, \" 14.05\", \" 15.9\", \"18\", \" 22.36\", \" 28.41\", \"29220\", \"33070\", \"37430\", \"46520\", \"59090\", \"NaN\", \"NaN\"], [99, \"U.S.\", 1, \"US\", 0, \"Cross-industry\", \"cross-industry\", 1235, \"53-0000\", \"Transportation and Material Moving Occupations\", \"major\", 13752760, 0.1, NaN, NaN, NaN, NaN, \" 22.45\", \"46690\", 0.2, \" 14.07\", \" 16.6\", \" 19.26\", \" 24.46\", \" 32.46\", \"29270\", \"34520\", \"40050\", \"50880\", \"67510\", \"NaN\", \"NaN\"], [99, \"U.S.\", 1, \"US\", 0, \"Cross-industry\", \"cross-industry\", 1235, \"53-1000\", \"Supervisors of Transportation and Material Moving Workers\", \"minor\", 603350, 0.6, NaN, NaN, NaN, NaN, \" 30.7\", \"63860\", 0.2, \"19\", \" 22.89\", \" 29.09\", \" 36.52\", \" 44.28\", \"39510\", \"47600\", \"60500\", \"75950\", \"92110\", \"NaN\", \"NaN\"], [99, \"U.S.\", 1, \"US\", 0, \"Cross-industry\", \"cross-industry\", 1235, \"53-1040\", \"First-Line Supervisors of Transportation and Material Moving Workers\", \"broad\", 603350, 0.6, NaN, NaN, NaN, NaN, \" 30.7\", \"63860\", 0.2, \"19\", \" 22.89\", \" 29.09\", \" 36.52\", \" 44.28\", \"39510\", \"47600\", \"60500\", \"75950\", \"92110\", \"NaN\", \"NaN\"], [99, \"U.S.\", 1, \"US\", 0, \"Cross-industry\", \"cross-industry\", 1235, \"53-1041\", \"Aircraft Cargo Handling Supervisors\", \"detailed\", 9020, 2.9, NaN, NaN, NaN, NaN, \" 31.23\", \"64950\", 0.6, \" 22.01\", \" 24.23\", \" 28.33\", \" 36.67\", \" 43.94\", \"45770\", \"50390\", \"58920\", \"76270\", \"91400\", \"NaN\", \"NaN\"], [99, \"U.S.\", 1, \"US\", 0, \"Cross-industry\", \"cross-industry\", 1235, \"53-1047\", \"First-Line Supervisors of Transportation and Material Moving Workers, Except Aircraft Cargo Handling Supervisors\", \"detailed\", 594330, 0.6, NaN, NaN, NaN, NaN, \" 30.69\", \"63840\", 0.2, \" 18.96\", \" 22.86\", \" 29.09\", \" 36.51\", \" 44.3\", \"39440\", \"47560\", \"60510\", \"75940\", \"92140\", \"NaN\", \"NaN\"], [99, \"U.S.\", 1, \"US\", 0, \"Cross-industry\", \"cross-industry\", 1235, \"53-2000\", \"Air Transportation Workers\", \"minor\", 313070, 0.9, NaN, NaN, NaN, NaN, \"*\", \"140030\", 0.9, \"*\", \"*\", \"*\", \"*\", \"*\", \"45190\", \"65040\", \"97320\", \"175250\", \"#\", \"True\", \"NaN\"], [99, \"U.S.\", 1, \"US\", 0, \"Cross-industry\", \"cross-industry\", 1235, \"53-2010\", \"Aircraft Pilots and Flight Engineers\", \"broad\", 146420, 1.1, NaN, NaN, NaN, NaN, \"*\", \"209680\", 1.3, \"*\", \"*\", \"*\", \"*\", \"*\", \"76270\", \"107780\", \"171210\", \"#\", \"#\", \"True\", \"NaN\"], [99, \"U.S.\", 1, \"US\", 0, \"Cross-industry\", \"cross-industry\", 1235, \"53-2011\", \"Airline Pilots, Copilots, and Flight Engineers\", \"detailed\", 93670, 1.3, NaN, NaN, NaN, NaN, \"*\", \"250050\", 1.6, \"*\", \"*\", \"*\", \"*\", \"*\", \"101710\", \"142770\", \"219140\", \"#\", \"#\", \"True\", \"NaN\"], [99, \"U.S.\", 1, \"US\", 0, \"Cross-industry\", \"cross-industry\", 1235, \"53-2012\", \"Commercial Pilots\", \"detailed\", 52750, 2.0, NaN, NaN, NaN, NaN, \"*\", \"138010\", 1.2, \"*\", \"*\", \"*\", \"*\", \"*\", \"56260\", \"79440\", \"113080\", \"168700\", \"#\", \"True\", \"NaN\"], [99, \"U.S.\", 1, \"US\", 0, \"Cross-industry\", \"cross-industry\", 1235, \"53-2020\", \"Air Traffic Controllers and Airfield Operations Specialists\", \"broad\", 40630, 1.5, NaN, NaN, NaN, NaN, \" 49.59\", \"103140\", 0.8, \" 18.76\", \" 24.82\", \" 43.89\", \" 73.14\", \" 90.33\", \"39020\", \"51620\", \"91290\", \"152130\", \"187890\", \"NaN\", \"NaN\"], [99, \"U.S.\", 1, \"US\", 0, \"Cross-industry\", \"cross-industry\", 1235, \"53-2021\", \"Air Traffic Controllers\", \"detailed\", 22310, 0.7, NaN, NaN, NaN, NaN, \" 65.77\", \"136790\", 0.3, \" 36.63\", \" 46.57\", \" 66.05\", \" 84.96\", \" 96.63\", \"76190\", \"96870\", \"137380\", \"176720\", \"200990\", \"NaN\", \"NaN\"], [99, \"U.S.\", 1, \"US\", 0, \"Cross-industry\", \"cross-industry\", 1235, \"53-2022\", \"Airfield Operations Specialists\", \"detailed\", 18320, 3.2, NaN, NaN, NaN, NaN, \" 29.88\", \"62140\", 1.2, \" 16.28\", \" 19.09\", \" 24.59\", \" 35.77\", \" 51.38\", \"33870\", \"39700\", \"51140\", \"74410\", \"106860\", \"NaN\", \"NaN\"], [99, \"U.S.\", 1, \"US\", 0, \"Cross-industry\", \"cross-industry\", 1235, \"53-2030\", \"Flight Attendants\", \"broad\", 126020, 1.1, NaN, NaN, NaN, NaN, \"*\", \"70980\", 0.4, \"*\", \"*\", \"*\", \"*\", \"*\", \"39580\", \"49690\", \"68370\", \"86610\", \"104100\", \"True\", \"NaN\"], [99, \"U.S.\", 1, \"US\", 0, \"Cross-industry\", \"cross-industry\", 1235, \"53-2031\", \"Flight Attendants\", \"detailed\", 126020, 1.1, NaN, NaN, NaN, NaN, \"*\", \"70980\", 0.4, \"*\", \"*\", \"*\", \"*\", \"*\", \"39580\", \"49690\", \"68370\", \"86610\", \"104100\", \"True\", \"NaN\"], [99, \"U.S.\", 1, \"US\", 0, \"Cross-industry\", \"cross-industry\", 1235, \"53-3000\", \"Motor Vehicle Operators\", \"minor\", 4353340, 0.4, NaN, NaN, NaN, NaN, \" 23.96\", \"49830\", 0.2, \" 13.99\", \" 17.95\", \" 22.83\", \" 28.81\", \" 35.77\", \"29100\", \"37340\", \"47490\", \"59920\", \"74410\", \"NaN\", \"NaN\"], [99, \"U.S.\", 1, \"US\", 0, \"Cross-industry\", \"cross-industry\", 1235, \"53-3010\", \"Ambulance Drivers and Attendants, Except Emergency Medical Technicians\", \"broad\", 11520, 3.2, NaN, NaN, NaN, NaN, \" 16.55\", \"34420\", 0.9, \" 11.26\", \" 13.39\", \" 15.66\", \" 17.74\", \" 22.08\", \"23410\", \"27850\", \"32580\", \"36900\", \"45930\", \"NaN\", \"NaN\"], [99, \"U.S.\", 1, \"US\", 0, \"Cross-industry\", \"cross-industry\", 1235, \"53-3011\", \"Ambulance Drivers and Attendants, Except Emergency Medical Technicians\", \"detailed\", 11520, 3.2, NaN, NaN, NaN, NaN, \" 16.55\", \"34420\", 0.9, \" 11.26\", \" 13.39\", \" 15.66\", \" 17.74\", \" 22.08\", \"23410\", \"27850\", \"32580\", \"36900\", \"45930\", \"NaN\", \"NaN\"], [99, \"U.S.\", 1, \"US\", 0, \"Cross-industry\", \"cross-industry\", 1235, \"53-3030\", \"Driver/Sales Workers and Truck Drivers\", \"broad\", 3511470, 0.4, NaN, NaN, NaN, NaN, \" 24.43\", \"50810\", 0.2, \" 14.2\", \" 18.36\", \" 23.14\", \" 29.14\", \" 36.17\", \"29540\", \"38180\", \"48120\", \"60610\", \"75230\", \"NaN\", \"NaN\"], [99, \"U.S.\", 1, \"US\", 0, \"Cross-industry\", \"cross-industry\", 1235, \"53-3031\", \"Driver/Sales Workers\", \"detailed\", 463120, 2.4, NaN, NaN, NaN, NaN, \" 18.38\", \"38230\", 0.9, \"10\", \" 12.45\", \" 17.03\", \" 22.42\", \" 29.37\", \"20800\", \"25900\", \"35420\", \"46640\", \"61080\", \"NaN\", \"NaN\"], [99, \"U.S.\", 1, \"US\", 0, \"Cross-industry\", \"cross-industry\", 1235, \"53-3032\", \"Heavy and Tractor-Trailer Truck Drivers\", \"detailed\", 2044400, 0.7, NaN, NaN, NaN, NaN, \" 26.92\", \"55990\", 0.3, \"18\", \" 22.08\", \" 26.12\", \" 30.29\", \" 36.91\", \"37440\", \"45920\", \"54320\", \"63010\", \"76780\", \"NaN\", \"NaN\"], [99, \"U.S.\", 1, \"US\", 0, \"Cross-industry\", \"cross-industry\", 1235, \"53-3033\", \"Light Truck Drivers\", \"detailed\", 1003960, 0.5, NaN, NaN, NaN, NaN, \" 22.16\", \"46090\", 0.2, \" 13.5\", \" 16.88\", \" 20.42\", \" 24.57\", \" 36.1\", \"28070\", \"35110\", \"42470\", \"51110\", \"75090\", \"NaN\", \"NaN\"], [99, \"U.S.\", 1, \"US\", 0, \"Cross-industry\", \"cross-industry\", 1235, \"53-3050\", \"Passenger Vehicle Drivers\", \"broad\", 779210, 0.6, NaN, NaN, NaN, NaN, \" 22.25\", \"46280\", 0.3, \" 13.5\", \" 16.69\", \" 21.19\", \" 26.66\", \" 33.29\", \"28070\", \"34700\", \"44080\", \"55450\", \"69250\", \"NaN\", \"NaN\"], [99, \"U.S.\", 1, \"US\", 0, \"Cross-industry\", \"cross-industry\", 1235, \"53-3051\", \"Bus Drivers, School\", \"detailed\", 371530, 0.9, NaN, NaN, NaN, NaN, \" 21.74\", \"45210\", 0.4, \" 13.16\", \" 17.45\", \" 21.95\", \" 25.43\", \" 29.48\", \"27380\", \"36290\", \"45660\", \"52900\", \"61320\", \"NaN\", \"NaN\"], [99, \"U.S.\", 1, \"US\", 0, \"Cross-industry\", \"cross-industry\", 1235, \"53-3052\", \"Bus Drivers, Transit and Intercity\", \"detailed\", 184990, 0.7, NaN, NaN, NaN, NaN, \" 28.78\", \"59860\", 0.4, \" 18.09\", \" 22.21\", \" 28.93\", \" 36.88\", \" 39.74\", \"37630\", \"46210\", \"60170\", \"76700\", \"82660\", \"NaN\", \"NaN\"], [99, \"U.S.\", 1, \"US\", 0, \"Cross-industry\", \"cross-industry\", 1235, \"53-3053\", \"Shuttle Drivers and Chauffeurs\", \"detailed\", 204930, 1.1, NaN, NaN, NaN, NaN, \" 17.75\", \"36920\", 0.3, \" 12.38\", \" 14.32\", \" 16.94\", \"20\", \"24\", \"25750\", \"29790\", \"35240\", \"41600\", \"49920\", \"NaN\", \"NaN\"], [99, \"U.S.\", 1, \"US\", 0, \"Cross-industry\", \"cross-industry\", 1235, \"53-3054\", \"Taxi Drivers\", \"detailed\", 17770, 2.8, NaN, NaN, NaN, NaN, \" 16.88\", \"35120\", 1.0, \"13\", \" 14.39\", \" 16.67\", \" 17.93\", \" 19.53\", \"27040\", \"29920\", \"34680\", \"37280\", \"40630\", \"NaN\", \"NaN\"], [99, \"U.S.\", 1, \"US\", 0, \"Cross-industry\", \"cross-industry\", 1235, \"53-3090\", \"Miscellaneous Motor Vehicle Operators\", \"broad\", 51140, 3.5, NaN, NaN, NaN, NaN, \" 19.22\", \"39970\", 1.4, \" 11.8\", \" 13.89\", \" 17.16\", \" 22.33\", \" 30.49\", \"24550\", \"28890\", \"35690\", \"46440\", \"63410\", \"NaN\", \"NaN\"], [99, \"U.S.\", 1, \"US\", 0, \"Cross-industry\", \"cross-industry\", 1235, \"53-3099\", \"Motor Vehicle Operators, All Other\", \"detailed\", 51140, 3.5, NaN, NaN, NaN, NaN, \" 19.22\", \"39970\", 1.4, \" 11.8\", \" 13.89\", \" 17.16\", \" 22.33\", \" 30.49\", \"24550\", \"28890\", \"35690\", \"46440\", \"63410\", \"NaN\", \"NaN\"], [99, \"U.S.\", 1, \"US\", 0, \"Cross-industry\", \"cross-industry\", 1235, \"53-4000\", \"Rail Transportation Workers\", \"minor\", 111600, 0.3, NaN, NaN, NaN, NaN, \" 34.69\", \"72150\", 0.3, \" 24.79\", \" 30.13\", \" 35.53\", \" 38.75\", \" 43.21\", \"51550\", \"62670\", \"73890\", \"80600\", \"89880\", \"NaN\", \"NaN\"], [99, \"U.S.\", 1, \"US\", 0, \"Cross-industry\", \"cross-industry\", 1235, \"53-4010\", \"Locomotive Engineers and Operators\", \"broad\", 34820, 0.6, NaN, NaN, NaN, NaN, \" 35.86\", \"74600\", 0.3, \" 27.87\", \" 32.53\", \" 35.75\", \" 38.54\", \" 44.55\", \"57960\", \"67660\", \"74360\", \"80150\", \"92670\", \"NaN\", \"NaN\"], [99, \"U.S.\", 1, \"US\", 0, \"Cross-industry\", \"cross-industry\", 1235, \"53-4011\", \"Locomotive Engineers\", \"detailed\", 32390, 0.5, NaN, NaN, NaN, NaN, \" 36.48\", \"75870\", 0.3, \" 28.58\", \" 35.21\", \" 35.95\", \" 38.63\", \" 44.55\", \"59450\", \"73240\", \"74770\", \"80340\", \"92670\", \"NaN\", \"NaN\"], [99, \"U.S.\", 1, \"US\", 0, \"Cross-industry\", \"cross-industry\", 1235, \"53-4013\", \"Rail Yard Engineers, Dinkey Operators, and Hostlers\", \"detailed\", 2430, 4.4, NaN, NaN, NaN, NaN, \" 27.69\", \"57580\", 1.1, \" 18.65\", \" 23.6\", \" 27.44\", \" 30.31\", \" 36.77\", \"38800\", \"49080\", \"57070\", \"63050\", \"76470\", \"NaN\", \"NaN\"], [99, \"U.S.\", 1, \"US\", 0, \"Cross-industry\", \"cross-industry\", 1235, \"53-4020\", \"Railroad Brake, Signal, and Switch Operators and Locomotive Firers\", \"broad\", 13610, 0.9, NaN, NaN, NaN, NaN, \" 30.21\", \"62840\", 0.4, \" 21.32\", \" 27.51\", \" 30.55\", \" 32.47\", \" 37.56\", \"44350\", \"57220\", \"63540\", \"67540\", \"78120\", \"NaN\", \"NaN\"], [99, \"U.S.\", 1, \"US\", 0, \"Cross-industry\", \"cross-industry\", 1235, \"53-4022\", \"Railroad Brake, Signal, and Switch Operators and Locomotive Firers\", \"detailed\", 13610, 0.9, NaN, NaN, NaN, NaN, \" 30.21\", \"62840\", 0.4, \" 21.32\", \" 27.51\", \" 30.55\", \" 32.47\", \" 37.56\", \"44350\", \"57220\", \"63540\", \"67540\", \"78120\", \"NaN\", \"NaN\"], [99, \"U.S.\", 1, \"US\", 0, \"Cross-industry\", \"cross-industry\", 1235, \"53-4030\", \"Railroad Conductors and Yardmasters\", \"broad\", 46490, 0.3, NaN, NaN, NaN, NaN, \" 34.72\", \"72220\", 0.3, \" 26.25\", \" 29.89\", \" 34.2\", \" 37.74\", \" 47.7\", \"54610\", \"62180\", \"71130\", \"78490\", \"99210\", \"NaN\", \"NaN\"], [99, \"U.S.\", 1, \"US\", 0, \"Cross-industry\", \"cross-industry\", 1235, \"53-4031\", \"Railroad Conductors and Yardmasters\", \"detailed\", 46490, 0.3, NaN, NaN, NaN, NaN, \" 34.72\", \"72220\", 0.3, \" 26.25\", \" 29.89\", \" 34.2\", \" 37.74\", \" 47.7\", \"54610\", \"62180\", \"71130\", \"78490\", \"99210\", \"NaN\", \"NaN\"], [99, \"U.S.\", 1, \"US\", 0, \"Cross-industry\", \"cross-industry\", 1235, \"53-4040\", \"Subway and Streetcar Operators\", \"broad\", 14860, 0.7, NaN, NaN, NaN, NaN, \" 37.2\", \"77370\", 0.4, \" 26.29\", \" 35.37\", \" 40.51\", \" 40.53\", \" 41.88\", \"54690\", \"73570\", \"84270\", \"84310\", \"87110\", \"NaN\", \"NaN\"], [99, \"U.S.\", 1, \"US\", 0, \"Cross-industry\", \"cross-industry\", 1235, \"53-4041\", \"Subway and Streetcar Operators\", \"detailed\", 14860, 0.7, NaN, NaN, NaN, NaN, \" 37.2\", \"77370\", 0.4, \" 26.29\", \" 35.37\", \" 40.51\", \" 40.53\", \" 41.88\", \"54690\", \"73570\", \"84270\", \"84310\", \"87110\", \"NaN\", \"NaN\"], [99, \"U.S.\", 1, \"US\", 0, \"Cross-industry\", \"cross-industry\", 1235, \"53-4090\", \"Miscellaneous Rail Transportation Workers\", \"broad\", 1830, 8.6, NaN, NaN, NaN, NaN, \" 24.39\", \"50730\", 1.4, \" 17.03\", \" 18.91\", \" 21.47\", \" 26.12\", \" 41.1\", \"35420\", \"39330\", \"44660\", \"54320\", \"85490\", \"NaN\", \"NaN\"], [99, \"U.S.\", 1, \"US\", 0, \"Cross-industry\", \"cross-industry\", 1235, \"53-4099\", \"Rail Transportation Workers, All Other\", \"detailed\", 1830, 8.6, NaN, NaN, NaN, NaN, \" 24.39\", \"50730\", 1.4, \" 17.03\", \" 18.91\", \" 21.47\", \" 26.12\", \" 41.1\", \"35420\", \"39330\", \"44660\", \"54320\", \"85490\", \"NaN\", \"NaN\"], [99, \"U.S.\", 1, \"US\", 0, \"Cross-industry\", \"cross-industry\", 1235, \"53-5000\", \"Water Transportation Workers\", \"minor\", 76040, 2.2, NaN, NaN, NaN, NaN, \"38\", \"79030\", 1.3, \" 17.25\", \" 22.66\", \" 31.22\", \" 47.86\", \" 64.38\", \"35880\", \"47130\", \"64930\", \"99560\", \"133910\", \"NaN\", \"NaN\"], [99, \"U.S.\", 1, \"US\", 0, \"Cross-industry\", \"cross-industry\", 1235, \"53-5010\", \"Sailors and Marine Oilers\", \"broad\", 29960, 3.9, NaN, NaN, NaN, NaN, \" 25.71\", \"53470\", 1.3, \" 15.5\", \" 18.25\", \" 23.27\", \" 30.14\", \" 38.07\", \"32240\", \"37960\", \"48400\", \"62700\", \"79180\", \"NaN\", \"NaN\"], [99, \"U.S.\", 1, \"US\", 0, \"Cross-industry\", \"cross-industry\", 1235, \"53-5011\", \"Sailors and Marine Oilers\", \"detailed\", 29960, 3.9, NaN, NaN, NaN, NaN, \" 25.71\", \"53470\", 1.3, \" 15.5\", \" 18.25\", \" 23.27\", \" 30.14\", \" 38.07\", \"32240\", \"37960\", \"48400\", \"62700\", \"79180\", \"NaN\", \"NaN\"], [99, \"U.S.\", 1, \"US\", 0, \"Cross-industry\", \"cross-industry\", 1235, \"53-5020\", \"Ship and Boat Captains and Operators\", \"broad\", 37220, 2.3, NaN, NaN, NaN, NaN, \" 45.42\", \"94480\", 1.7, \" 19.57\", \" 27.91\", \" 39.72\", \" 57.88\", \" 77.52\", \"40710\", \"58050\", \"82630\", \"120380\", \"161240\", \"NaN\", \"NaN\"], [99, \"U.S.\", 1, \"US\", 0, \"Cross-industry\", \"cross-industry\", 1235, \"53-5021\", \"Captains, Mates, and Pilots of Water Vessels\", \"detailed\", 34520, 2.7, NaN, NaN, NaN, NaN, \" 47.03\", \"97820\", 1.5, \" 21.44\", \" 29.11\", \" 42.66\", \" 59.44\", \" 77.65\", \"44600\", \"60550\", \"88730\", \"123640\", \"161510\", \"NaN\", \"NaN\"], [99, \"U.S.\", 1, \"US\", 0, \"Cross-industry\", \"cross-industry\", 1235, \"53-5022\", \"Motorboat Operators\", \"detailed\", 2710, 8.2, NaN, NaN, NaN, NaN, \" 24.91\", \"51810\", 2.4, \" 13.89\", \" 17.24\", \" 22.32\", \" 31.01\", \" 38.92\", \"28890\", \"35860\", \"46420\", \"64490\", \"80960\", \"NaN\", \"NaN\"], [99, \"U.S.\", 1, \"US\", 0, \"Cross-industry\", \"cross-industry\", 1235, \"53-5030\", \"Ship Engineers\", \"broad\", 8860, 3.4, NaN, NaN, NaN, NaN, \" 48.34\", \"100550\", 1.1, \" 27.47\", \" 33.12\", \" 45.32\", \" 58.84\", \" 68.23\", \"57140\", \"68880\", \"94270\", \"122390\", \"141910\", \"NaN\", \"NaN\"], [99, \"U.S.\", 1, \"US\", 0, \"Cross-industry\", \"cross-industry\", 1235, \"53-5031\", \"Ship Engineers\", \"detailed\", 8860, 3.4, NaN, NaN, NaN, NaN, \" 48.34\", \"100550\", 1.1, \" 27.47\", \" 33.12\", \" 45.32\", \" 58.84\", \" 68.23\", \"57140\", \"68880\", \"94270\", \"122390\", \"141910\", \"NaN\", \"NaN\"], [99, \"U.S.\", 1, \"US\", 0, \"Cross-industry\", \"cross-industry\", 1235, \"53-6000\", \"Other Transportation Workers\", \"minor\", 305390, 1.9, NaN, NaN, NaN, NaN, \" 19.28\", \"40110\", 0.6, \" 12.76\", \" 14.39\", \" 16.84\", \" 19.77\", \" 28.48\", \"26540\", \"29930\", \"35020\", \"41120\", \"59250\", \"NaN\", \"NaN\"], [99, \"U.S.\", 1, \"US\", 0, \"Cross-industry\", \"cross-industry\", 1235, \"53-6010\", \"Bridge and Lock Tenders\", \"broad\", 3460, 4.0, NaN, NaN, NaN, NaN, \" 24.07\", \"50070\", 1.4, \" 13.94\", \" 16.03\", \" 23.62\", \" 30.89\", \" 33.6\", \"28990\", \"33340\", \"49120\", \"64250\", \"69880\", \"NaN\", \"NaN\"], [99, \"U.S.\", 1, \"US\", 0, \"Cross-industry\", \"cross-industry\", 1235, \"53-6011\", \"Bridge and Lock Tenders\", \"detailed\", 3460, 4.0, NaN, NaN, NaN, NaN, \" 24.07\", \"50070\", 1.4, \" 13.94\", \" 16.03\", \" 23.62\", \" 30.89\", \" 33.6\", \"28990\", \"33340\", \"49120\", \"64250\", \"69880\", \"NaN\", \"NaN\"], [99, \"U.S.\", 1, \"US\", 0, \"Cross-industry\", \"cross-industry\", 1235, \"53-6020\", \"Parking Attendants\", \"broad\", 118130, 4.0, NaN, NaN, NaN, NaN, \" 15.72\", \"32700\", 0.6, \" 11.01\", \" 13.69\", \" 15.79\", \" 17.51\", \" 19.47\", \"22890\", \"28470\", \"32840\", \"36420\", \"40500\", \"NaN\", \"NaN\"], [99, \"U.S.\", 1, \"US\", 0, \"Cross-industry\", \"cross-industry\", 1235, \"53-6021\", \"Parking Attendants\", \"detailed\", 118130, 4.0, NaN, NaN, NaN, NaN, \" 15.72\", \"32700\", 0.6, \" 11.01\", \" 13.69\", \" 15.79\", \" 17.51\", \" 19.47\", \"22890\", \"28470\", \"32840\", \"36420\", \"40500\", \"NaN\", \"NaN\"], [99, \"U.S.\", 1, \"US\", 0, \"Cross-industry\", \"cross-industry\", 1235, \"53-6030\", \"Transportation Service Attendants\", \"broad\", 117460, 1.5, NaN, NaN, NaN, NaN, \" 17.37\", \"36140\", 0.4, \" 13.45\", \" 14.53\", \" 16.83\", \" 18.65\", \" 22.38\", \"27980\", \"30230\", \"35000\", \"38790\", \"46540\", \"NaN\", \"NaN\"], [99, \"U.S.\", 1, \"US\", 0, \"Cross-industry\", \"cross-industry\", 1235, \"53-6031\", \"Automotive and Watercraft Service Attendants\", \"detailed\", 92530, 1.8, NaN, NaN, NaN, NaN, \" 16.6\", \"34530\", 0.4, \" 13.19\", \" 14.25\", \" 16.26\", \" 17.87\", \" 21.07\", \"27430\", \"29640\", \"33820\", \"37170\", \"43830\", \"NaN\", \"NaN\"], [99, \"U.S.\", 1, \"US\", 0, \"Cross-industry\", \"cross-industry\", 1235, \"53-6032\", \"Aircraft Service Attendants\", \"detailed\", 24940, 4.1, NaN, NaN, NaN, NaN, \" 20.25\", \"42110\", 0.6, \" 15.4\", \" 17.3\", \" 18.8\", \" 22.12\", \" 25.87\", \"32040\", \"35980\", \"39110\", \"46010\", \"53820\", \"NaN\", \"NaN\"], [99, \"U.S.\", 1, \"US\", 0, \"Cross-industry\", \"cross-industry\", 1235, \"53-6040\", \"Traffic Technicians\", \"broad\", 7530, 2.4, NaN, NaN, NaN, NaN, \" 27.25\", \"56680\", 0.7, \" 17.45\", \" 20.56\", \" 25.12\", \" 32.39\", \" 37.9\", \"36290\", \"42770\", \"52240\", \"67370\", \"78840\", \"NaN\", \"NaN\"], [99, \"U.S.\", 1, \"US\", 0, \"Cross-industry\", \"cross-industry\", 1235, \"53-6041\", \"Traffic Technicians\", \"detailed\", 7530, 2.4, NaN, NaN, NaN, NaN, \" 27.25\", \"56680\", 0.7, \" 17.45\", \" 20.56\", \" 25.12\", \" 32.39\", \" 37.9\", \"36290\", \"42770\", \"52240\", \"67370\", \"78840\", \"NaN\", \"NaN\"], [99, \"U.S.\", 1, \"US\", 0, \"Cross-industry\", \"cross-industry\", 1235, \"53-6050\", \"Transportation Inspectors\", \"broad\", 27670, 1.8, NaN, NaN, NaN, NaN, \" 40.35\", \"83920\", 0.8, \" 19.13\", \" 28.9\", \" 41.96\", \" 46.94\", \" 62.03\", \"39790\", \"60110\", \"87290\", \"97630\", \"129020\", \"NaN\", \"NaN\"], [99, \"U.S.\", 1, \"US\", 0, \"Cross-industry\", \"cross-industry\", 1235, \"53-6051\", \"Transportation Inspectors\", \"detailed\", 27670, 1.8, NaN, NaN, NaN, NaN, \" 40.35\", \"83920\", 0.8, \" 19.13\", \" 28.9\", \" 41.96\", \" 46.94\", \" 62.03\", \"39790\", \"60110\", \"87290\", \"97630\", \"129020\", \"NaN\", \"NaN\"], [99, \"U.S.\", 1, \"US\", 0, \"Cross-industry\", \"cross-industry\", 1235, \"53-6060\", \"Passenger Attendants\", \"broad\", 20190, 5.3, NaN, NaN, NaN, NaN, \" 17.68\", \"36780\", 0.8, \"13\", \" 15.39\", \" 17.12\", \" 18.98\", \" 22.93\", \"27040\", \"32020\", \"35620\", \"39470\", \"47680\", \"NaN\", \"NaN\"], [99, \"U.S.\", 1, \"US\", 0, \"Cross-industry\", \"cross-industry\", 1235, \"53-6061\", \"Passenger Attendants\", \"detailed\", 20190, 5.3, NaN, NaN, NaN, NaN, \" 17.68\", \"36780\", 0.8, \"13\", \" 15.39\", \" 17.12\", \" 18.98\", \" 22.93\", \"27040\", \"32020\", \"35620\", \"39470\", \"47680\", \"NaN\", \"NaN\"], [99, \"U.S.\", 1, \"US\", 0, \"Cross-industry\", \"cross-industry\", 1235, \"53-6090\", \"Miscellaneous Transportation Workers\", \"broad\", 10940, 4.8, NaN, NaN, NaN, NaN, \" 20.93\", \"43530\", 2.0, \" 13.14\", \" 15.24\", \" 19.37\", \"25\", \" 30.62\", \"27340\", \"31700\", \"40300\", \"52000\", \"63680\", \"NaN\", \"NaN\"], [99, \"U.S.\", 1, \"US\", 0, \"Cross-industry\", \"cross-industry\", 1235, \"53-6099\", \"Transportation Workers, All Other\", \"detailed\", 10940, 4.8, NaN, NaN, NaN, NaN, \" 20.93\", \"43530\", 2.0, \" 13.14\", \" 15.24\", \" 19.37\", \"25\", \" 30.62\", \"27340\", \"31700\", \"40300\", \"52000\", \"63680\", \"NaN\", \"NaN\"], [99, \"U.S.\", 1, \"US\", 0, \"Cross-industry\", \"cross-industry\", 1235, \"53-7000\", \"Material Moving Workers\", \"minor\", 7989980, 0.2, NaN, NaN, NaN, NaN, \" 19.05\", \"39620\", 0.2, \" 14.01\", \" 15.96\", \" 17.93\", \" 21.49\", \" 24.93\", \"29140\", \"33200\", \"37290\", \"44710\", \"51860\", \"NaN\", \"NaN\"], [99, \"U.S.\", 1, \"US\", 0, \"Cross-industry\", \"cross-industry\", 1235, \"53-7010\", \"Conveyor Operators and Tenders\", \"broad\", 24660, 2.6, NaN, NaN, NaN, NaN, \" 20.63\", \"42900\", 0.5, \" 15.75\", \" 16.97\", \" 18.88\", \" 22.6\", \" 28.8\", \"32770\", \"35290\", \"39260\", \"47000\", \"59910\", \"NaN\", \"NaN\"], [99, \"U.S.\", 1, \"US\", 0, \"Cross-industry\", \"cross-industry\", 1235, \"53-7011\", \"Conveyor Operators and Tenders\", \"detailed\", 24660, 2.6, NaN, NaN, NaN, NaN, \" 20.63\", \"42900\", 0.5, \" 15.75\", \" 16.97\", \" 18.88\", \" 22.6\", \" 28.8\", \"32770\", \"35290\", \"39260\", \"47000\", \"59910\", \"NaN\", \"NaN\"], [99, \"U.S.\", 1, \"US\", 0, \"Cross-industry\", \"cross-industry\", 1235, \"53-7020\", \"Crane and Tower Operators\", \"broad\", 42260, 2.8, NaN, NaN, NaN, NaN, \" 32.71\", \"68040\", 1.4, \" 18.85\", \" 23.26\", \" 31.1\", \" 37.85\", \" 47.51\", \"39200\", \"48380\", \"64690\", \"78720\", \"98820\", \"NaN\", \"NaN\"], [99, \"U.S.\", 1, \"US\", 0, \"Cross-industry\", \"cross-industry\", 1235, \"53-7021\", \"Crane and Tower Operators\", \"detailed\", 42260, 2.8, NaN, NaN, NaN, NaN, \" 32.71\", \"68040\", 1.4, \" 18.85\", \" 23.26\", \" 31.1\", \" 37.85\", \" 47.51\", \"39200\", \"48380\", \"64690\", \"78720\", \"98820\", \"NaN\", \"NaN\"], [99, \"U.S.\", 1, \"US\", 0, \"Cross-industry\", \"cross-industry\", 1235, \"53-7030\", \"Dredge Operators\", \"broad\", 940, 9.7, NaN, NaN, NaN, NaN, \" 25.82\", \"53700\", 1.7, \" 18.21\", \"21\", \" 24.25\", \" 29.17\", \" 34.89\", \"37870\", \"43670\", \"50440\", \"60670\", \"72570\", \"NaN\", \"NaN\"], [99, \"U.S.\", 1, \"US\", 0, \"Cross-industry\", \"cross-industry\", 1235, \"53-7031\", \"Dredge Operators\", \"detailed\", 940, 9.7, NaN, NaN, NaN, NaN, \" 25.82\", \"53700\", 1.7, \" 18.21\", \"21\", \" 24.25\", \" 29.17\", \" 34.89\", \"37870\", \"43670\", \"50440\", \"60670\", \"72570\", \"NaN\", \"NaN\"], [99, \"U.S.\", 1, \"US\", 0, \"Cross-industry\", \"cross-industry\", 1235, \"53-7040\", \"Hoist and Winch Operators\", \"broad\", 2230, 6.6, NaN, NaN, NaN, NaN, \" 31.64\", \"65810\", 3.0, \" 16.23\", \" 19.47\", \" 26.9\", \" 45.01\", \" 53.59\", \"33760\", \"40490\", \"55950\", \"93630\", \"111470\", \"NaN\", \"NaN\"], [99, \"U.S.\", 1, \"US\", 0, \"Cross-industry\", \"cross-industry\", 1235, \"53-7041\", \"Hoist and Winch Operators\", \"detailed\", 2230, 6.6, NaN, NaN, NaN, NaN, \" 31.64\", \"65810\", 3.0, \" 16.23\", \" 19.47\", \" 26.9\", \" 45.01\", \" 53.59\", \"33760\", \"40490\", \"55950\", \"93630\", \"111470\", \"NaN\", \"NaN\"], [99, \"U.S.\", 1, \"US\", 0, \"Cross-industry\", \"cross-industry\", 1235, \"53-7050\", \"Industrial Truck and Tractor Operators\", \"broad\", 778920, 0.5, NaN, NaN, NaN, NaN, \" 21.98\", \"45720\", 0.2, \" 16.95\", \" 18.4\", \" 21.38\", \" 24.05\", \" 28.78\", \"35260\", \"38270\", \"44470\", \"50010\", \"59860\", \"NaN\", \"NaN\"], [99, \"U.S.\", 1, \"US\", 0, \"Cross-industry\", \"cross-industry\", 1235, \"53-7051\", \"Industrial Truck and Tractor Operators\", \"detailed\", 778920, 0.5, NaN, NaN, NaN, NaN, \" 21.98\", \"45720\", 0.2, \" 16.95\", \" 18.4\", \" 21.38\", \" 24.05\", \" 28.78\", \"35260\", \"38270\", \"44470\", \"50010\", \"59860\", \"NaN\", \"NaN\"], [99, \"U.S.\", 1, \"US\", 0, \"Cross-industry\", \"cross-industry\", 1235, \"53-7060\", \"Laborers and Material Movers\", \"broad\", 6935980, 0.2, NaN, NaN, NaN, NaN, \" 18.46\", \"38400\", 0.2, \" 13.85\", \" 15.58\", \" 17.65\", \" 20.66\", \" 23.68\", \"28810\", \"32410\", \"36720\", \"42960\", \"49260\", \"NaN\", \"NaN\"], [99, \"U.S.\", 1, \"US\", 0, \"Cross-industry\", \"cross-industry\", 1235, \"53-7061\", \"Cleaners of Vehicles and Equipment\", \"detailed\", 365290, 0.9, NaN, NaN, NaN, NaN, \" 16.95\", \"35250\", 0.3, \" 11.81\", \" 13.89\", \" 16.42\", \" 18.51\", \" 22.33\", \"24560\", \"28880\", \"34150\", \"38500\", \"46450\", \"NaN\", \"NaN\"], [99, \"U.S.\", 1, \"US\", 0, \"Cross-industry\", \"cross-industry\", 1235, \"53-7062\", \"Laborers and Freight, Stock, and Material Movers, Hand\", \"detailed\", 3008300, 0.3, NaN, NaN, NaN, NaN, \" 19.12\", \"39760\", 0.2, \" 14.18\", \" 16.36\", \" 18.1\", \" 21.61\", \" 24.17\", \"29480\", \"34040\", \"37660\", \"44950\", \"50280\", \"NaN\", \"NaN\"], [99, \"U.S.\", 1, \"US\", 0, \"Cross-industry\", \"cross-industry\", 1235, \"53-7063\", \"Machine Feeders and Offbearers\", \"detailed\", 44500, 2.1, NaN, NaN, NaN, NaN, \" 19.71\", \"41000\", 0.3, \" 14.37\", \" 16.64\", \" 18.87\", \" 22.4\", \" 25.63\", \"29880\", \"34610\", \"39250\", \"46590\", \"53320\", \"NaN\", \"NaN\"], [99, \"U.S.\", 1, \"US\", 0, \"Cross-industry\", \"cross-industry\", 1235, \"53-7064\", \"Packers and Packagers, Hand\", \"detailed\", 645210, 1.0, NaN, NaN, NaN, NaN, \" 17.05\", \"35450\", 0.2, \" 12.44\", \" 14.53\", \" 16.74\", \" 19.03\", \" 21.68\", \"25880\", \"30220\", \"34830\", \"39580\", \"45100\", \"NaN\", \"NaN\"], [99, \"U.S.\", 1, \"US\", 0, \"Cross-industry\", \"cross-industry\", 1235, \"53-7065\", \"Stockers and Order Fillers\", \"detailed\", 2872680, 0.3, NaN, NaN, NaN, NaN, \" 18.27\", \"37990\", 0.1, \" 14.02\", \" 15.46\", \" 17.5\", \" 19.89\", \" 23.5\", \"29150\", \"32160\", \"36390\", \"41370\", \"48890\", \"NaN\", \"NaN\"], [99, \"U.S.\", 1, \"US\", 0, \"Cross-industry\", \"cross-industry\", 1235, \"53-7070\", \"Pumping Station Operators\", \"broad\", 34200, 3.9, NaN, NaN, NaN, NaN, \" 31.41\", \"65320\", 1.4, \" 17.95\", \" 23.02\", \" 30.06\", \" 38.11\", \" 45.23\", \"37340\", \"47890\", \"62530\", \"79270\", \"94070\", \"NaN\", \"NaN\"], [99, \"U.S.\", 1, \"US\", 0, \"Cross-industry\", \"cross-industry\", 1235, \"53-7071\", \"Gas Compressor and Gas Pumping Station Operators\", \"detailed\", 4400, 10.9, NaN, NaN, NaN, NaN, \" 30.68\", \"63810\", 1.8, \" 17.54\", \" 22.82\", \" 29.75\", \" 36.24\", \" 44.93\", \"36480\", \"47470\", \"61870\", \"75370\", \"93450\", \"NaN\", \"NaN\"], [99, \"U.S.\", 1, \"US\", 0, \"Cross-industry\", \"cross-industry\", 1235, \"53-7072\", \"Pump Operators, Except Wellhead Pumpers\", \"detailed\", 11570, 5.5, NaN, NaN, NaN, NaN, \" 28.2\", \"58650\", 2.0, \" 17.45\", \" 21.02\", \" 26.29\", \" 34.94\", \" 41.07\", \"36290\", \"43720\", \"54690\", \"72680\", \"85430\", \"NaN\", \"NaN\"], [99, \"U.S.\", 1, \"US\", 0, \"Cross-industry\", \"cross-industry\", 1235, \"53-7073\", \"Wellhead Pumpers\", \"detailed\", 18230, 6.2, NaN, NaN, NaN, NaN, \" 33.62\", \"69930\", 1.6, \" 18.51\", \" 26.78\", \" 34.53\", \" 38.98\", \" 46.44\", \"38490\", \"55700\", \"71830\", \"81080\", \"96600\", \"NaN\", \"NaN\"], [99, \"U.S.\", 1, \"US\", 0, \"Cross-industry\", \"cross-industry\", 1235, \"53-7080\", \"Refuse and Recyclable Material Collectors\", \"broad\", 135430, 1.3, NaN, NaN, NaN, NaN, \" 22.99\", \"47810\", 0.7, \" 14.45\", \" 17.36\", \"22\", \" 28.06\", \" 32.68\", \"30050\", \"36100\", \"45760\", \"58360\", \"67970\", \"NaN\", \"NaN\"], [99, \"U.S.\", 1, \"US\", 0, \"Cross-industry\", \"cross-industry\", 1235, \"53-7081\", \"Refuse and Recyclable Material Collectors\", \"detailed\", 135430, 1.3, NaN, NaN, NaN, NaN, \" 22.99\", \"47810\", 0.7, \" 14.45\", \" 17.36\", \"22\", \" 28.06\", \" 32.68\", \"30050\", \"36100\", \"45760\", \"58360\", \"67970\", \"NaN\", \"NaN\"], [99, \"U.S.\", 1, \"US\", 0, \"Cross-industry\", \"cross-industry\", 1235, \"53-7120\", \"Tank Car, Truck, and Ship Loaders\", \"broad\", 11400, 4.7, NaN, NaN, NaN, NaN, \" 29.1\", \"60530\", 1.5, \" 18.68\", \" 22.35\", \" 28.18\", \" 34.96\", \" 42.7\", \"38850\", \"46500\", \"58620\", \"72710\", \"88810\", \"NaN\", \"NaN\"], [99, \"U.S.\", 1, \"US\", 0, \"Cross-industry\", \"cross-industry\", 1235, \"53-7121\", \"Tank Car, Truck, and Ship Loaders\", \"detailed\", 11400, 4.7, NaN, NaN, NaN, NaN, \" 29.1\", \"60530\", 1.5, \" 18.68\", \" 22.35\", \" 28.18\", \" 34.96\", \" 42.7\", \"38850\", \"46500\", \"58620\", \"72710\", \"88810\", \"NaN\", \"NaN\"], [99, \"U.S.\", 1, \"US\", 0, \"Cross-industry\", \"cross-industry\", 1235, \"53-7190\", \"Miscellaneous Material Moving Workers\", \"broad\", 23970, 3.4, NaN, NaN, NaN, NaN, \" 22.04\", \"45840\", 1.0, \" 15.5\", \" 16.75\", \" 19.38\", \" 23.3\", \" 30.5\", \"32240\", \"34830\", \"40310\", \"48460\", \"63430\", \"NaN\", \"NaN\"], [99, \"U.S.\", 1, \"US\", 0, \"Cross-industry\", \"cross-industry\", 1235, \"53-7199\", \"Material Moving Workers, All Other\", \"detailed\", 23970, 3.4, NaN, NaN, NaN, NaN, \" 22.04\", \"45840\", 1.0, \" 15.5\", \" 16.75\", \" 19.38\", \" 23.3\", \" 30.5\", \"32240\", \"34830\", \"40310\", \"48460\", \"63430\", \"NaN\", \"NaN\"]];\n",
       "\n",
       "        // Define the dt_args\n",
       "        let dt_args = {\"layout\": {\"topStart\": \"pageLength\", \"topEnd\": \"search\", \"bottomStart\": \"info\", \"bottomEnd\": \"paging\"}, \"order\": [], \"fnInfoCallback\": function (oSettings, iStart, iEnd, iMax, iTotal, sPre) { return sPre + ' (<a href=\"https://mwouts.github.io/itables/downsampling.html\">downsampled</a> from 1,403x32 to 256x32 as maxBytes=64KB)'; }};\n",
       "        dt_args[\"data\"] = data;\n",
       "\n",
       "        \n",
       "        new DataTable(table, dt_args);\n",
       "    });\n",
       "</script>\n"
      ],
      "text/plain": [
       "<IPython.core.display.HTML object>"
      ]
     },
     "metadata": {},
     "output_type": "display_data"
    }
   ],
   "source": [
    "#read data\n",
    "oes_df = pd.read_excel(r'data/national_M2023_dl.xlsx')\n",
    "show(oes_df)"
   ]
  },
  {
   "cell_type": "code",
   "execution_count": 5,
   "id": "355c39d8-21e7-4037-8cee-a7d8b617109d",
   "metadata": {},
   "outputs": [
    {
     "data": {
      "text/html": [
       "<table id=\"itables_364e8235_c28d_4c8e_a032_fe990251971e\" class=\"display nowrap\" data-quarto-disable-processing=\"true\" style=\"table-layout:auto;width:auto;margin:auto;caption-side:bottom\">\n",
       "<thead>\n",
       "    <tr style=\"text-align: right;\">\n",
       "      \n",
       "      <th>AREA</th>\n",
       "      <th>AREA_TITLE</th>\n",
       "      <th>AREA_TYPE</th>\n",
       "      <th>PRIM_STATE</th>\n",
       "      <th>NAICS</th>\n",
       "      <th>NAICS_TITLE</th>\n",
       "      <th>I_GROUP</th>\n",
       "      <th>OWN_CODE</th>\n",
       "      <th>OCC_CODE</th>\n",
       "      <th>OCC_TITLE</th>\n",
       "      <th>O_GROUP</th>\n",
       "      <th>TOT_EMP</th>\n",
       "      <th>EMP_PRSE</th>\n",
       "      <th>JOBS_1000</th>\n",
       "      <th>LOC_QUOTIENT</th>\n",
       "      <th>PCT_TOTAL</th>\n",
       "      <th>PCT_RPT</th>\n",
       "      <th>H_MEAN</th>\n",
       "      <th>A_MEAN</th>\n",
       "      <th>MEAN_PRSE</th>\n",
       "      <th>H_PCT10</th>\n",
       "      <th>H_PCT25</th>\n",
       "      <th>H_MEDIAN</th>\n",
       "      <th>H_PCT75</th>\n",
       "      <th>H_PCT90</th>\n",
       "      <th>A_PCT10</th>\n",
       "      <th>A_PCT25</th>\n",
       "      <th>A_MEDIAN</th>\n",
       "      <th>A_PCT75</th>\n",
       "      <th>A_PCT90</th>\n",
       "      <th>ANNUAL</th>\n",
       "      <th>HOURLY</th>\n",
       "    </tr>\n",
       "  </thead><tbody><tr>\n",
       "<td style=\"vertical-align:middle; text-align:left\">\n",
       "<div style=\"float:left; margin-right: 10px;\">\n",
       "<a href=https://mwouts.github.io/itables/><svg class=\"main-svg\" xmlns=\"http://www.w3.org/2000/svg\" xmlns:xlink=\"http://www.w3.org/1999/xlink\"\n",
       "width=\"64\" viewBox=\"0 0 500 400\" style=\"font-family: 'Droid Sans', sans-serif;\">\n",
       "    <g style=\"fill:#d9d7fc\">\n",
       "        <path d=\"M100,400H500V357H100Z\" />\n",
       "        <path d=\"M100,300H400V257H100Z\" />\n",
       "        <path d=\"M0,200H400V157H0Z\" />\n",
       "        <path d=\"M100,100H500V57H100Z\" />\n",
       "        <path d=\"M100,350H500V307H100Z\" />\n",
       "        <path d=\"M100,250H400V207H100Z\" />\n",
       "        <path d=\"M0,150H400V107H0Z\" />\n",
       "        <path d=\"M100,50H500V7H100Z\" />\n",
       "    </g>\n",
       "    <g style=\"fill:#1a1366;stroke:#1a1366;\">\n",
       "   <rect x=\"100\" y=\"7\" width=\"400\" height=\"43\">\n",
       "    <animate\n",
       "      attributeName=\"width\"\n",
       "      values=\"0;400;0\"\n",
       "      dur=\"5s\"\n",
       "      repeatCount=\"indefinite\" />\n",
       "      <animate\n",
       "      attributeName=\"x\"\n",
       "      values=\"100;100;500\"\n",
       "      dur=\"5s\"\n",
       "      repeatCount=\"indefinite\" />\n",
       "  </rect>\n",
       "        <rect x=\"0\" y=\"107\" width=\"400\" height=\"43\">\n",
       "    <animate\n",
       "      attributeName=\"width\"\n",
       "      values=\"0;400;0\"\n",
       "      dur=\"3.5s\"\n",
       "      repeatCount=\"indefinite\" />\n",
       "    <animate\n",
       "      attributeName=\"x\"\n",
       "      values=\"0;0;400\"\n",
       "      dur=\"3.5s\"\n",
       "      repeatCount=\"indefinite\" />\n",
       "  </rect>\n",
       "        <rect x=\"100\" y=\"207\" width=\"300\" height=\"43\">\n",
       "    <animate\n",
       "      attributeName=\"width\"\n",
       "      values=\"0;300;0\"\n",
       "      dur=\"3s\"\n",
       "      repeatCount=\"indefinite\" />\n",
       "    <animate\n",
       "      attributeName=\"x\"\n",
       "      values=\"100;100;400\"\n",
       "      dur=\"3s\"\n",
       "      repeatCount=\"indefinite\" />\n",
       "  </rect>\n",
       "        <rect x=\"100\" y=\"307\" width=\"400\" height=\"43\">\n",
       "    <animate\n",
       "      attributeName=\"width\"\n",
       "      values=\"0;400;0\"\n",
       "      dur=\"4s\"\n",
       "      repeatCount=\"indefinite\" />\n",
       "      <animate\n",
       "      attributeName=\"x\"\n",
       "      values=\"100;100;500\"\n",
       "      dur=\"4s\"\n",
       "      repeatCount=\"indefinite\" />\n",
       "  </rect>\n",
       "        <g style=\"fill:transparent;stroke-width:8; stroke-linejoin:round\" rx=\"5\">\n",
       "            <g transform=\"translate(45 50) rotate(-45)\">\n",
       "                <circle r=\"33\" cx=\"0\" cy=\"0\" />\n",
       "                <rect x=\"-8\" y=\"32\" width=\"16\" height=\"30\" />\n",
       "            </g>\n",
       "\n",
       "            <g transform=\"translate(450 152)\">\n",
       "                <polyline points=\"-15,-20 -35,-20 -35,40 25,40 25,20\" />\n",
       "                <rect x=\"-15\" y=\"-40\" width=\"60\" height=\"60\" />\n",
       "            </g>\n",
       "\n",
       "            <g transform=\"translate(50 352)\">\n",
       "                <polygon points=\"-35,-5 0,-40 35,-5\" />\n",
       "                <polygon points=\"-35,10 0,45 35,10\" />\n",
       "            </g>\n",
       "\n",
       "            <g transform=\"translate(75 250)\">\n",
       "                <polyline points=\"-30,30 -60,0 -30,-30\" />\n",
       "                <polyline points=\"0,30 -30,0 0,-30\" />\n",
       "            </g>\n",
       "\n",
       "            <g transform=\"translate(425 250) rotate(180)\">\n",
       "                <polyline points=\"-30,30 -60,0 -30,-30\" />\n",
       "                <polyline points=\"0,30 -30,0 0,-30\" />\n",
       "            </g>\n",
       "        </g>\n",
       "    </g>\n",
       "</svg>\n",
       "</a>\n",
       "</div>\n",
       "<div>\n",
       "Loading ITables v2.1.4 from the internet...\n",
       "(need <a href=https://mwouts.github.io/itables/troubleshooting.html>help</a>?)</td>\n",
       "</div>\n",
       "</tr></tbody>\n",
       "\n",
       "</table>\n",
       "<link href=\"https://www.unpkg.com/dt_for_itables@2.0.11/dt_bundle.css\" rel=\"stylesheet\">\n",
       "<script type=\"module\">\n",
       "    import {DataTable, jQuery as $} from 'https://www.unpkg.com/dt_for_itables@2.0.11/dt_bundle.js';\n",
       "\n",
       "    document.querySelectorAll(\"#itables_364e8235_c28d_4c8e_a032_fe990251971e:not(.dataTable)\").forEach(table => {\n",
       "        // Define the table data\n",
       "        const data = [[99, \"U.S.\", 1, \"US\", 0, \"Cross-industry\", \"cross-industry\", 1235, \"11-0000\", \"Management Occupations\", \"major\", 10495770, 0.4, NaN, NaN, NaN, NaN, \" 66.23\", \"137750\", 0.5, \" 26.23\", \" 37.66\", \" 56.19\", \" 81.29\", \" 111.36\", \"54550\", \"78330\", \"116880\", \"169090\", \"231620\", \"NaN\", \"NaN\"], [99, \"U.S.\", 1, \"US\", 0, \"Cross-industry\", \"cross-industry\", 1235, \"13-0000\", \"Business and Financial Operations Occupations\", \"major\", 10087830, 0.6, NaN, NaN, NaN, NaN, \" 43.55\", \"90580\", 0.3, \" 21.86\", \" 28.65\", \"38\", \" 50.66\", \" 67.55\", \"45480\", \"59590\", \"79050\", \"105360\", \"140490\", \"NaN\", \"NaN\"], [99, \"U.S.\", 1, \"US\", 0, \"Cross-industry\", \"cross-industry\", 1235, \"15-0000\", \"Computer and Mathematical Occupations\", \"major\", 5177400, 0.2, NaN, NaN, NaN, NaN, \" 54.39\", \"113140\", 0.4, \" 24.93\", \" 35.53\", \" 50.1\", \" 67.81\", \" 84.98\", \"51850\", \"73900\", \"104200\", \"141040\", \"176760\", \"NaN\", \"NaN\"], [99, \"U.S.\", 1, \"US\", 0, \"Cross-industry\", \"cross-industry\", 1235, \"17-0000\", \"Architecture and Engineering Occupations\", \"major\", 2539660, 0.5, NaN, NaN, NaN, NaN, \" 47.64\", \"99090\", 0.4, \" 24.58\", \" 32.52\", \" 43.95\", \" 59.68\", \" 76.74\", \"51130\", \"67640\", \"91420\", \"124130\", \"159630\", \"NaN\", \"NaN\"], [99, \"U.S.\", 1, \"US\", 0, \"Cross-industry\", \"cross-industry\", 1235, \"19-0000\", \"Life, Physical, and Social Science Occupations\", \"major\", 1389430, 0.4, NaN, NaN, NaN, NaN, \" 42.24\", \"87870\", 0.6, \"21\", \" 27.42\", \" 37.63\", \" 51.08\", \" 67.44\", \"43680\", \"57040\", \"78280\", \"106250\", \"140280\", \"NaN\", \"NaN\"], [99, \"U.S.\", 1, \"US\", 0, \"Cross-industry\", \"cross-industry\", 1235, \"21-0000\", \"Community and Social Service Occupations\", \"major\", 2418130, 0.3, NaN, NaN, NaN, NaN, \" 28.36\", \"58980\", 0.4, \" 17.1\", \" 20.2\", \"25\", \" 33.25\", \" 42.89\", \"35570\", \"42020\", \"52000\", \"69160\", \"89220\", \"NaN\", \"NaN\"], [99, \"U.S.\", 1, \"US\", 0, \"Cross-industry\", \"cross-industry\", 1235, \"23-0000\", \"Legal Occupations\", \"major\", 1240630, 0.4, NaN, NaN, NaN, NaN, \" 64.34\", \"133820\", 1.6, \" 22.61\", \" 29.9\", \" 47.7\", \" 81.38\", \"#\", \"47030\", \"62190\", \"99220\", \"169280\", \"#\", \"NaN\", \"NaN\"], [99, \"U.S.\", 1, \"US\", 0, \"Cross-industry\", \"cross-industry\", 1235, \"25-0000\", \"Educational Instruction and Library Occupations\", \"major\", 8744560, 0.2, NaN, NaN, NaN, NaN, \" 31.92\", \"66400\", 0.4, \" 14.74\", \" 19.25\", \" 28.82\", \" 38.44\", \" 51.02\", \"30670\", \"40050\", \"59940\", \"79960\", \"106130\", \"NaN\", \"NaN\"], [99, \"U.S.\", 1, \"US\", 0, \"Cross-industry\", \"cross-industry\", 1235, \"27-0000\", \"Arts, Design, Entertainment, Sports, and Media Occupations\", \"major\", 2106490, 0.6, NaN, NaN, NaN, NaN, \" 36.31\", \"75520\", 0.8, \"15\", \" 18.86\", \" 28.33\", \" 40.77\", \" 61.48\", \"31200\", \"39220\", \"58920\", \"84790\", \"127880\", \"NaN\", \"NaN\"], [99, \"U.S.\", 1, \"US\", 0, \"Cross-industry\", \"cross-industry\", 1235, \"29-0000\", \"Healthcare Practitioners and Technical Occupations\", \"major\", 9284210, 0.1, NaN, NaN, NaN, NaN, \" 49.07\", \"102060\", 0.3, \" 19.88\", \" 28.7\", \" 38.86\", \" 53.48\", \" 80.44\", \"41350\", \"59700\", \"80820\", \"111240\", \"167320\", \"NaN\", \"NaN\"], [99, \"U.S.\", 1, \"US\", 0, \"Cross-industry\", \"cross-industry\", 1235, \"31-0000\", \"Healthcare Support Occupations\", \"major\", 7063530, 0.2, NaN, NaN, NaN, NaN, \" 18.37\", \"38220\", 0.3, \" 12.89\", \" 15.27\", \" 17.38\", \" 20.74\", \" 23.96\", \"26800\", \"31760\", \"36140\", \"43140\", \"49840\", \"NaN\", \"NaN\"], [99, \"U.S.\", 1, \"US\", 0, \"Cross-industry\", \"cross-industry\", 1235, \"33-0000\", \"Protective Service Occupations\", \"major\", 3504330, 0.3, NaN, NaN, NaN, NaN, \" 27.74\", \"57710\", 0.3, \" 14.37\", \" 17.49\", \" 22.96\", \" 34.41\", \" 48.16\", \"29890\", \"36370\", \"47760\", \"71560\", \"100170\", \"NaN\", \"NaN\"], [99, \"U.S.\", 1, \"US\", 0, \"Cross-industry\", \"cross-industry\", 1235, \"35-0000\", \"Food Preparation and Serving Related Occupations\", \"major\", 13247870, 0.2, NaN, NaN, NaN, NaN, \" 16.58\", \"34490\", 0.4, \" 10.66\", \" 13.15\", \" 15.5\", \" 17.92\", \" 22.78\", \"22160\", \"27350\", \"32240\", \"37280\", \"47390\", \"NaN\", \"NaN\"], [99, \"U.S.\", 1, \"US\", 0, \"Cross-industry\", \"cross-industry\", 1235, \"37-0000\", \"Building and Grounds Cleaning and Maintenance Occupations\", \"major\", 4429070, 0.4, NaN, NaN, NaN, NaN, \" 18.43\", \"38320\", 0.3, \" 12.93\", \" 14.55\", \" 17.3\", \" 21.01\", \" 25.42\", \"26890\", \"30270\", \"35990\", \"43690\", \"52870\", \"NaN\", \"NaN\"], [99, \"U.S.\", 1, \"US\", 0, \"Cross-industry\", \"cross-industry\", 1235, \"39-0000\", \"Personal Care and Service Occupations\", \"major\", 3040630, 0.6, NaN, NaN, NaN, NaN, \" 18.48\", \"38430\", 0.5, \" 11.12\", \" 13.66\", \" 16.47\", \" 20.83\", \" 28.19\", \"23130\", \"28420\", \"34260\", \"43320\", \"58630\", \"NaN\", \"NaN\"], [99, \"U.S.\", 1, \"US\", 0, \"Cross-industry\", \"cross-industry\", 1235, \"41-0000\", \"Sales and Related Occupations\", \"major\", 13380660, 0.3, NaN, NaN, NaN, NaN, \" 25.62\", \"53280\", 0.7, \" 12.4\", \" 14.33\", \" 17.67\", \" 28.41\", \" 47.14\", \"25790\", \"29810\", \"36760\", \"59090\", \"98040\", \"NaN\", \"NaN\"], [99, \"U.S.\", 1, \"US\", 0, \"Cross-industry\", \"cross-industry\", 1235, \"43-0000\", \"Office and Administrative Support Occupations\", \"major\", 18533450, 0.1, NaN, NaN, NaN, NaN, \" 23.05\", \"47940\", 0.1, \" 14.54\", \" 17.39\", \" 21.39\", \" 26.97\", \" 34.35\", \"30240\", \"36170\", \"44480\", \"56100\", \"71440\", \"NaN\", \"NaN\"], [99, \"U.S.\", 1, \"US\", 0, \"Cross-industry\", \"cross-industry\", 1235, \"45-0000\", \"Farming, Fishing, and Forestry Occupations\", \"major\", 432200, 1.1, NaN, NaN, NaN, NaN, \" 19.22\", \"39970\", 0.6, \" 14.43\", \" 15.97\", \" 17.08\", \" 20.79\", \" 27.23\", \"30010\", \"33220\", \"35520\", \"43240\", \"56640\", \"NaN\", \"NaN\"], [99, \"U.S.\", 1, \"US\", 0, \"Cross-industry\", \"cross-industry\", 1235, \"47-0000\", \"Construction and Extraction Occupations\", \"major\", 6225630, 0.6, NaN, NaN, NaN, NaN, \" 29.57\", \"61500\", 0.3, \" 17.49\", \" 21.26\", \" 26.77\", \" 35.94\", \" 46.97\", \"36380\", \"44220\", \"55680\", \"74750\", \"97700\", \"NaN\", \"NaN\"], [99, \"U.S.\", 1, \"US\", 0, \"Cross-industry\", \"cross-industry\", 1235, \"49-0000\", \"Installation, Maintenance, and Repair Occupations\", \"major\", 5989460, 0.3, NaN, NaN, NaN, NaN, \" 28.13\", \"58500\", 0.2, \" 16.51\", \" 19.76\", \" 25.92\", \" 34.36\", \" 42.97\", \"34340\", \"41090\", \"53920\", \"71460\", \"89380\", \"NaN\", \"NaN\"], [99, \"U.S.\", 1, \"US\", 0, \"Cross-industry\", \"cross-industry\", 1235, \"51-0000\", \"Production Occupations\", \"major\", 8770170, 0.1, NaN, NaN, NaN, NaN, \" 22.9\", \"47620\", 0.2, \" 14.69\", \" 17.3\", \" 20.98\", \" 26.39\", \" 33.83\", \"30550\", \"35980\", \"43630\", \"54880\", \"70370\", \"NaN\", \"NaN\"], [99, \"U.S.\", 1, \"US\", 0, \"Cross-industry\", \"cross-industry\", 1235, \"53-0000\", \"Transportation and Material Moving Occupations\", \"major\", 13752760, 0.1, NaN, NaN, NaN, NaN, \" 22.45\", \"46690\", 0.2, \" 14.07\", \" 16.6\", \" 19.26\", \" 24.46\", \" 32.46\", \"29270\", \"34520\", \"40050\", \"50880\", \"67510\", \"NaN\", \"NaN\"]];\n",
       "\n",
       "        // Define the dt_args\n",
       "        let dt_args = {\"layout\": {\"topStart\": \"pageLength\", \"topEnd\": \"search\", \"bottomStart\": \"info\", \"bottomEnd\": \"paging\"}, \"order\": []};\n",
       "        dt_args[\"data\"] = data;\n",
       "\n",
       "        \n",
       "        new DataTable(table, dt_args);\n",
       "    });\n",
       "</script>\n"
      ],
      "text/plain": [
       "<IPython.core.display.HTML object>"
      ]
     },
     "metadata": {},
     "output_type": "display_data"
    }
   ],
   "source": [
    "#filter data to only major groups\n",
    "oes_major_df = oes_df[oes_df['OCC_CODE'].str.endswith('0000')]\n",
    "oes_major_df = oes_major_df.drop(0) #the all jobs category\n",
    "oes_major_df = oes_major_df.reset_index(drop=True)\n",
    "show(oes_major_df)"
   ]
  },
  {
   "cell_type": "code",
   "execution_count": 7,
   "id": "bd3be9e2-70d8-4ae5-8dcd-30892019eedd",
   "metadata": {},
   "outputs": [],
   "source": [
    "#cast median income column to int\n",
    "oes_major_df['A_MEDIAN'] = oes_major_df['A_MEDIAN'].astype(int)\n",
    "oes_major_df['A_MEAN'] = oes_major_df['A_MEAN'].astype(int)\n",
    "\n",
    "oes_major_df = oes_major_df.rename(columns={'A_MEDIAN': 'Median Income ($)'})"
   ]
  },
  {
   "cell_type": "code",
   "execution_count": 37,
   "id": "df77550e-ac27-41a3-b143-329d15b63cef",
   "metadata": {},
   "outputs": [
    {
     "data": {
      "application/vnd.plotly.v1+json": {
       "config": {
        "plotlyServerURL": "https://plot.ly"
       },
       "data": [
        {
         "alignmentgroup": "True",
         "hovertemplate": "TOT_EMP=%{x}<br>Nice_Title=%{text}<br>Median Income ($)=%{marker.color}<extra></extra>",
         "legendgroup": "",
         "marker": {
          "color": [
           116880,
           79050,
           104200,
           91420,
           78280,
           52000,
           99220,
           59940,
           58920,
           80820,
           36140,
           47760,
           32240,
           35990,
           34260,
           36760,
           44480,
           35520,
           55680,
           53920,
           43630,
           40050
          ],
          "coloraxis": "coloraxis",
          "pattern": {
           "shape": ""
          }
         },
         "name": "",
         "offsetgroup": "",
         "orientation": "h",
         "showlegend": false,
         "text": [
          "Management",
          "Business and Financial Operations",
          "Computer and Mathematical",
          "Architecture and Engineering",
          "Life, Physical, and Social Science",
          "Community and Social Service",
          "Legal",
          "Educational Instruction and Library",
          "Arts, Design, Entertainment, Sports, and Media",
          "Healthcare Practitioners and Technical",
          "Healthcare Support",
          "Protective Service",
          "Food Preparation and Serving Related",
          "Building and Grounds Cleaning and Maintenance",
          "Personal Care and Service",
          "Sales and Related",
          "Office and Administrative Support",
          "Farming, Fishing, and Forestry",
          "Construction and Extraction",
          "Installation, Maintenance, and Repair",
          "Production",
          "Transportation and Material Moving"
         ],
         "textposition": "auto",
         "type": "bar",
         "x": [
          10495770,
          10087830,
          5177400,
          2539660,
          1389430,
          2418130,
          1240630,
          8744560,
          2106490,
          9284210,
          7063530,
          3504330,
          13247870,
          4429070,
          3040630,
          13380660,
          18533450,
          432200,
          6225630,
          5989460,
          8770170,
          13752760
         ],
         "xaxis": "x",
         "y": [
          "Management",
          "Business and Financial Operations",
          "Computer and Mathematical",
          "Architecture and Engineering",
          "Life, Physical, and Social Science",
          "Community and Social Service",
          "Legal",
          "Educational Instruction and Library",
          "Arts, Design, Entertainment, Sports, and Media",
          "Healthcare Practitioners and Technical",
          "Healthcare Support",
          "Protective Service",
          "Food Preparation and Serving Related",
          "Building and Grounds Cleaning and Maintenance",
          "Personal Care and Service",
          "Sales and Related",
          "Office and Administrative Support",
          "Farming, Fishing, and Forestry",
          "Construction and Extraction",
          "Installation, Maintenance, and Repair",
          "Production",
          "Transportation and Material Moving"
         ],
         "yaxis": "y"
        }
       ],
       "layout": {
        "autosize": false,
        "barmode": "relative",
        "coloraxis": {
         "colorbar": {
          "title": {
           "text": "Median Income ($)"
          }
         },
         "colorscale": [
          [
           0,
           "rgb(255,255,204)"
          ],
          [
           0.125,
           "rgb(255,237,160)"
          ],
          [
           0.25,
           "rgb(254,217,118)"
          ],
          [
           0.375,
           "rgb(254,178,76)"
          ],
          [
           0.5,
           "rgb(253,141,60)"
          ],
          [
           0.625,
           "rgb(252,78,42)"
          ],
          [
           0.75,
           "rgb(227,26,28)"
          ],
          [
           0.875,
           "rgb(189,0,38)"
          ],
          [
           1,
           "rgb(128,0,38)"
          ]
         ]
        },
        "height": 800,
        "legend": {
         "title": {
          "text": "Median Income"
         },
         "tracegroupgap": 0
        },
        "margin": {
         "t": 60
        },
        "template": {
         "data": {
          "bar": [
           {
            "error_x": {
             "color": "rgb(51,51,51)"
            },
            "error_y": {
             "color": "rgb(51,51,51)"
            },
            "marker": {
             "line": {
              "color": "rgb(237,237,237)",
              "width": 0.5
             },
             "pattern": {
              "fillmode": "overlay",
              "size": 10,
              "solidity": 0.2
             }
            },
            "type": "bar"
           }
          ],
          "barpolar": [
           {
            "marker": {
             "line": {
              "color": "rgb(237,237,237)",
              "width": 0.5
             },
             "pattern": {
              "fillmode": "overlay",
              "size": 10,
              "solidity": 0.2
             }
            },
            "type": "barpolar"
           }
          ],
          "carpet": [
           {
            "aaxis": {
             "endlinecolor": "rgb(51,51,51)",
             "gridcolor": "white",
             "linecolor": "white",
             "minorgridcolor": "white",
             "startlinecolor": "rgb(51,51,51)"
            },
            "baxis": {
             "endlinecolor": "rgb(51,51,51)",
             "gridcolor": "white",
             "linecolor": "white",
             "minorgridcolor": "white",
             "startlinecolor": "rgb(51,51,51)"
            },
            "type": "carpet"
           }
          ],
          "choropleth": [
           {
            "colorbar": {
             "outlinewidth": 0,
             "tickcolor": "rgb(237,237,237)",
             "ticklen": 6,
             "ticks": "inside"
            },
            "type": "choropleth"
           }
          ],
          "contour": [
           {
            "colorbar": {
             "outlinewidth": 0,
             "tickcolor": "rgb(237,237,237)",
             "ticklen": 6,
             "ticks": "inside"
            },
            "colorscale": [
             [
              0,
              "rgb(20,44,66)"
             ],
             [
              1,
              "rgb(90,179,244)"
             ]
            ],
            "type": "contour"
           }
          ],
          "contourcarpet": [
           {
            "colorbar": {
             "outlinewidth": 0,
             "tickcolor": "rgb(237,237,237)",
             "ticklen": 6,
             "ticks": "inside"
            },
            "type": "contourcarpet"
           }
          ],
          "heatmap": [
           {
            "colorbar": {
             "outlinewidth": 0,
             "tickcolor": "rgb(237,237,237)",
             "ticklen": 6,
             "ticks": "inside"
            },
            "colorscale": [
             [
              0,
              "rgb(20,44,66)"
             ],
             [
              1,
              "rgb(90,179,244)"
             ]
            ],
            "type": "heatmap"
           }
          ],
          "heatmapgl": [
           {
            "colorbar": {
             "outlinewidth": 0,
             "tickcolor": "rgb(237,237,237)",
             "ticklen": 6,
             "ticks": "inside"
            },
            "colorscale": [
             [
              0,
              "rgb(20,44,66)"
             ],
             [
              1,
              "rgb(90,179,244)"
             ]
            ],
            "type": "heatmapgl"
           }
          ],
          "histogram": [
           {
            "marker": {
             "pattern": {
              "fillmode": "overlay",
              "size": 10,
              "solidity": 0.2
             }
            },
            "type": "histogram"
           }
          ],
          "histogram2d": [
           {
            "colorbar": {
             "outlinewidth": 0,
             "tickcolor": "rgb(237,237,237)",
             "ticklen": 6,
             "ticks": "inside"
            },
            "colorscale": [
             [
              0,
              "rgb(20,44,66)"
             ],
             [
              1,
              "rgb(90,179,244)"
             ]
            ],
            "type": "histogram2d"
           }
          ],
          "histogram2dcontour": [
           {
            "colorbar": {
             "outlinewidth": 0,
             "tickcolor": "rgb(237,237,237)",
             "ticklen": 6,
             "ticks": "inside"
            },
            "colorscale": [
             [
              0,
              "rgb(20,44,66)"
             ],
             [
              1,
              "rgb(90,179,244)"
             ]
            ],
            "type": "histogram2dcontour"
           }
          ],
          "mesh3d": [
           {
            "colorbar": {
             "outlinewidth": 0,
             "tickcolor": "rgb(237,237,237)",
             "ticklen": 6,
             "ticks": "inside"
            },
            "type": "mesh3d"
           }
          ],
          "parcoords": [
           {
            "line": {
             "colorbar": {
              "outlinewidth": 0,
              "tickcolor": "rgb(237,237,237)",
              "ticklen": 6,
              "ticks": "inside"
             }
            },
            "type": "parcoords"
           }
          ],
          "pie": [
           {
            "automargin": true,
            "type": "pie"
           }
          ],
          "scatter": [
           {
            "fillpattern": {
             "fillmode": "overlay",
             "size": 10,
             "solidity": 0.2
            },
            "type": "scatter"
           }
          ],
          "scatter3d": [
           {
            "line": {
             "colorbar": {
              "outlinewidth": 0,
              "tickcolor": "rgb(237,237,237)",
              "ticklen": 6,
              "ticks": "inside"
             }
            },
            "marker": {
             "colorbar": {
              "outlinewidth": 0,
              "tickcolor": "rgb(237,237,237)",
              "ticklen": 6,
              "ticks": "inside"
             }
            },
            "type": "scatter3d"
           }
          ],
          "scattercarpet": [
           {
            "marker": {
             "colorbar": {
              "outlinewidth": 0,
              "tickcolor": "rgb(237,237,237)",
              "ticklen": 6,
              "ticks": "inside"
             }
            },
            "type": "scattercarpet"
           }
          ],
          "scattergeo": [
           {
            "marker": {
             "colorbar": {
              "outlinewidth": 0,
              "tickcolor": "rgb(237,237,237)",
              "ticklen": 6,
              "ticks": "inside"
             }
            },
            "type": "scattergeo"
           }
          ],
          "scattergl": [
           {
            "marker": {
             "colorbar": {
              "outlinewidth": 0,
              "tickcolor": "rgb(237,237,237)",
              "ticklen": 6,
              "ticks": "inside"
             }
            },
            "type": "scattergl"
           }
          ],
          "scattermapbox": [
           {
            "marker": {
             "colorbar": {
              "outlinewidth": 0,
              "tickcolor": "rgb(237,237,237)",
              "ticklen": 6,
              "ticks": "inside"
             }
            },
            "type": "scattermapbox"
           }
          ],
          "scatterpolar": [
           {
            "marker": {
             "colorbar": {
              "outlinewidth": 0,
              "tickcolor": "rgb(237,237,237)",
              "ticklen": 6,
              "ticks": "inside"
             }
            },
            "type": "scatterpolar"
           }
          ],
          "scatterpolargl": [
           {
            "marker": {
             "colorbar": {
              "outlinewidth": 0,
              "tickcolor": "rgb(237,237,237)",
              "ticklen": 6,
              "ticks": "inside"
             }
            },
            "type": "scatterpolargl"
           }
          ],
          "scatterternary": [
           {
            "marker": {
             "colorbar": {
              "outlinewidth": 0,
              "tickcolor": "rgb(237,237,237)",
              "ticklen": 6,
              "ticks": "inside"
             }
            },
            "type": "scatterternary"
           }
          ],
          "surface": [
           {
            "colorbar": {
             "outlinewidth": 0,
             "tickcolor": "rgb(237,237,237)",
             "ticklen": 6,
             "ticks": "inside"
            },
            "colorscale": [
             [
              0,
              "rgb(20,44,66)"
             ],
             [
              1,
              "rgb(90,179,244)"
             ]
            ],
            "type": "surface"
           }
          ],
          "table": [
           {
            "cells": {
             "fill": {
              "color": "rgb(237,237,237)"
             },
             "line": {
              "color": "white"
             }
            },
            "header": {
             "fill": {
              "color": "rgb(217,217,217)"
             },
             "line": {
              "color": "white"
             }
            },
            "type": "table"
           }
          ]
         },
         "layout": {
          "annotationdefaults": {
           "arrowhead": 0,
           "arrowwidth": 1
          },
          "autotypenumbers": "strict",
          "coloraxis": {
           "colorbar": {
            "outlinewidth": 0,
            "tickcolor": "rgb(237,237,237)",
            "ticklen": 6,
            "ticks": "inside"
           }
          },
          "colorscale": {
           "sequential": [
            [
             0,
             "rgb(20,44,66)"
            ],
            [
             1,
             "rgb(90,179,244)"
            ]
           ],
           "sequentialminus": [
            [
             0,
             "rgb(20,44,66)"
            ],
            [
             1,
             "rgb(90,179,244)"
            ]
           ]
          },
          "colorway": [
           "#F8766D",
           "#A3A500",
           "#00BF7D",
           "#00B0F6",
           "#E76BF3"
          ],
          "font": {
           "color": "rgb(51,51,51)"
          },
          "geo": {
           "bgcolor": "white",
           "lakecolor": "white",
           "landcolor": "rgb(237,237,237)",
           "showlakes": true,
           "showland": true,
           "subunitcolor": "white"
          },
          "hoverlabel": {
           "align": "left"
          },
          "hovermode": "closest",
          "paper_bgcolor": "white",
          "plot_bgcolor": "rgb(237,237,237)",
          "polar": {
           "angularaxis": {
            "gridcolor": "white",
            "linecolor": "white",
            "showgrid": true,
            "tickcolor": "rgb(51,51,51)",
            "ticks": "outside"
           },
           "bgcolor": "rgb(237,237,237)",
           "radialaxis": {
            "gridcolor": "white",
            "linecolor": "white",
            "showgrid": true,
            "tickcolor": "rgb(51,51,51)",
            "ticks": "outside"
           }
          },
          "scene": {
           "xaxis": {
            "backgroundcolor": "rgb(237,237,237)",
            "gridcolor": "white",
            "gridwidth": 2,
            "linecolor": "white",
            "showbackground": true,
            "showgrid": true,
            "tickcolor": "rgb(51,51,51)",
            "ticks": "outside",
            "zerolinecolor": "white"
           },
           "yaxis": {
            "backgroundcolor": "rgb(237,237,237)",
            "gridcolor": "white",
            "gridwidth": 2,
            "linecolor": "white",
            "showbackground": true,
            "showgrid": true,
            "tickcolor": "rgb(51,51,51)",
            "ticks": "outside",
            "zerolinecolor": "white"
           },
           "zaxis": {
            "backgroundcolor": "rgb(237,237,237)",
            "gridcolor": "white",
            "gridwidth": 2,
            "linecolor": "white",
            "showbackground": true,
            "showgrid": true,
            "tickcolor": "rgb(51,51,51)",
            "ticks": "outside",
            "zerolinecolor": "white"
           }
          },
          "shapedefaults": {
           "fillcolor": "black",
           "line": {
            "width": 0
           },
           "opacity": 0.3
          },
          "ternary": {
           "aaxis": {
            "gridcolor": "white",
            "linecolor": "white",
            "showgrid": true,
            "tickcolor": "rgb(51,51,51)",
            "ticks": "outside"
           },
           "baxis": {
            "gridcolor": "white",
            "linecolor": "white",
            "showgrid": true,
            "tickcolor": "rgb(51,51,51)",
            "ticks": "outside"
           },
           "bgcolor": "rgb(237,237,237)",
           "caxis": {
            "gridcolor": "white",
            "linecolor": "white",
            "showgrid": true,
            "tickcolor": "rgb(51,51,51)",
            "ticks": "outside"
           }
          },
          "xaxis": {
           "automargin": true,
           "gridcolor": "white",
           "linecolor": "white",
           "showgrid": true,
           "tickcolor": "rgb(51,51,51)",
           "ticks": "outside",
           "title": {
            "standoff": 15
           },
           "zerolinecolor": "white"
          },
          "yaxis": {
           "automargin": true,
           "gridcolor": "white",
           "linecolor": "white",
           "showgrid": true,
           "tickcolor": "rgb(51,51,51)",
           "ticks": "outside",
           "title": {
            "standoff": 15
           },
           "zerolinecolor": "white"
          }
         }
        },
        "title": {
         "text": "US Employment by Job Category, Colored by Median Income"
        },
        "width": 1000,
        "xaxis": {
         "anchor": "y",
         "autorange": true,
         "domain": [
          0,
          1
         ],
         "range": [
          0,
          19508894.736842107
         ],
         "title": {
          "text": "Employment Count"
         },
         "type": "linear"
        },
        "yaxis": {
         "anchor": "x",
         "autorange": true,
         "categoryorder": "total descending",
         "domain": [
          0,
          1
         ],
         "range": [
          -0.5,
          21.5
         ],
         "showticklabels": false,
         "title": {
          "text": "Category"
         },
         "type": "category"
        }
       }
      },
      "image/png": "[encoded data removed]",
      "text/html": [
       "<div>                            <div id=\"757be5df-c3bc-4fbf-8a3e-0e788de95d0d\" class=\"plotly-graph-div\" style=\"height:800px; width:1000px;\"></div>            <script type=\"text/javascript\">                require([\"plotly\"], function(Plotly) {                    window.PLOTLYENV=window.PLOTLYENV || {};                                    if (document.getElementById(\"757be5df-c3bc-4fbf-8a3e-0e788de95d0d\")) {                    Plotly.newPlot(                        \"757be5df-c3bc-4fbf-8a3e-0e788de95d0d\",                        [{\"alignmentgroup\":\"True\",\"hovertemplate\":\"TOT_EMP=%{x}\\u003cbr\\u003eNice_Title=%{text}\\u003cbr\\u003eMedian Income ($)=%{marker.color}\\u003cextra\\u003e\\u003c\\u002fextra\\u003e\",\"legendgroup\":\"\",\"marker\":{\"color\":[116880,79050,104200,91420,78280,52000,99220,59940,58920,80820,36140,47760,32240,35990,34260,36760,44480,35520,55680,53920,43630,40050],\"coloraxis\":\"coloraxis\",\"pattern\":{\"shape\":\"\"}},\"name\":\"\",\"offsetgroup\":\"\",\"orientation\":\"h\",\"showlegend\":false,\"text\":[\"Management\",\"Business and Financial Operations\",\"Computer and Mathematical\",\"Architecture and Engineering\",\"Life, Physical, and Social Science\",\"Community and Social Service\",\"Legal\",\"Educational Instruction and Library\",\"Arts, Design, Entertainment, Sports, and Media\",\"Healthcare Practitioners and Technical\",\"Healthcare Support\",\"Protective Service\",\"Food Preparation and Serving Related\",\"Building and Grounds Cleaning and Maintenance\",\"Personal Care and Service\",\"Sales and Related\",\"Office and Administrative Support\",\"Farming, Fishing, and Forestry\",\"Construction and Extraction\",\"Installation, Maintenance, and Repair\",\"Production\",\"Transportation and Material Moving\"],\"textposition\":\"auto\",\"x\":[10495770,10087830,5177400,2539660,1389430,2418130,1240630,8744560,2106490,9284210,7063530,3504330,13247870,4429070,3040630,13380660,18533450,432200,6225630,5989460,8770170,13752760],\"xaxis\":\"x\",\"y\":[\"Management\",\"Business and Financial Operations\",\"Computer and Mathematical\",\"Architecture and Engineering\",\"Life, Physical, and Social Science\",\"Community and Social Service\",\"Legal\",\"Educational Instruction and Library\",\"Arts, Design, Entertainment, Sports, and Media\",\"Healthcare Practitioners and Technical\",\"Healthcare Support\",\"Protective Service\",\"Food Preparation and Serving Related\",\"Building and Grounds Cleaning and Maintenance\",\"Personal Care and Service\",\"Sales and Related\",\"Office and Administrative Support\",\"Farming, Fishing, and Forestry\",\"Construction and Extraction\",\"Installation, Maintenance, and Repair\",\"Production\",\"Transportation and Material Moving\"],\"yaxis\":\"y\",\"type\":\"bar\"}],                        {\"template\":{\"data\":{\"barpolar\":[{\"marker\":{\"line\":{\"color\":\"rgb(237,237,237)\",\"width\":0.5},\"pattern\":{\"fillmode\":\"overlay\",\"size\":10,\"solidity\":0.2}},\"type\":\"barpolar\"}],\"bar\":[{\"error_x\":{\"color\":\"rgb(51,51,51)\"},\"error_y\":{\"color\":\"rgb(51,51,51)\"},\"marker\":{\"line\":{\"color\":\"rgb(237,237,237)\",\"width\":0.5},\"pattern\":{\"fillmode\":\"overlay\",\"size\":10,\"solidity\":0.2}},\"type\":\"bar\"}],\"carpet\":[{\"aaxis\":{\"endlinecolor\":\"rgb(51,51,51)\",\"gridcolor\":\"white\",\"linecolor\":\"white\",\"minorgridcolor\":\"white\",\"startlinecolor\":\"rgb(51,51,51)\"},\"baxis\":{\"endlinecolor\":\"rgb(51,51,51)\",\"gridcolor\":\"white\",\"linecolor\":\"white\",\"minorgridcolor\":\"white\",\"startlinecolor\":\"rgb(51,51,51)\"},\"type\":\"carpet\"}],\"choropleth\":[{\"colorbar\":{\"outlinewidth\":0,\"tickcolor\":\"rgb(237,237,237)\",\"ticklen\":6,\"ticks\":\"inside\"},\"type\":\"choropleth\"}],\"contourcarpet\":[{\"colorbar\":{\"outlinewidth\":0,\"tickcolor\":\"rgb(237,237,237)\",\"ticklen\":6,\"ticks\":\"inside\"},\"type\":\"contourcarpet\"}],\"contour\":[{\"colorbar\":{\"outlinewidth\":0,\"tickcolor\":\"rgb(237,237,237)\",\"ticklen\":6,\"ticks\":\"inside\"},\"colorscale\":[[0,\"rgb(20,44,66)\"],[1,\"rgb(90,179,244)\"]],\"type\":\"contour\"}],\"heatmapgl\":[{\"colorbar\":{\"outlinewidth\":0,\"tickcolor\":\"rgb(237,237,237)\",\"ticklen\":6,\"ticks\":\"inside\"},\"colorscale\":[[0,\"rgb(20,44,66)\"],[1,\"rgb(90,179,244)\"]],\"type\":\"heatmapgl\"}],\"heatmap\":[{\"colorbar\":{\"outlinewidth\":0,\"tickcolor\":\"rgb(237,237,237)\",\"ticklen\":6,\"ticks\":\"inside\"},\"colorscale\":[[0,\"rgb(20,44,66)\"],[1,\"rgb(90,179,244)\"]],\"type\":\"heatmap\"}],\"histogram2dcontour\":[{\"colorbar\":{\"outlinewidth\":0,\"tickcolor\":\"rgb(237,237,237)\",\"ticklen\":6,\"ticks\":\"inside\"},\"colorscale\":[[0,\"rgb(20,44,66)\"],[1,\"rgb(90,179,244)\"]],\"type\":\"histogram2dcontour\"}],\"histogram2d\":[{\"colorbar\":{\"outlinewidth\":0,\"tickcolor\":\"rgb(237,237,237)\",\"ticklen\":6,\"ticks\":\"inside\"},\"colorscale\":[[0,\"rgb(20,44,66)\"],[1,\"rgb(90,179,244)\"]],\"type\":\"histogram2d\"}],\"histogram\":[{\"marker\":{\"pattern\":{\"fillmode\":\"overlay\",\"size\":10,\"solidity\":0.2}},\"type\":\"histogram\"}],\"mesh3d\":[{\"colorbar\":{\"outlinewidth\":0,\"tickcolor\":\"rgb(237,237,237)\",\"ticklen\":6,\"ticks\":\"inside\"},\"type\":\"mesh3d\"}],\"parcoords\":[{\"line\":{\"colorbar\":{\"outlinewidth\":0,\"tickcolor\":\"rgb(237,237,237)\",\"ticklen\":6,\"ticks\":\"inside\"}},\"type\":\"parcoords\"}],\"pie\":[{\"automargin\":true,\"type\":\"pie\"}],\"scatter3d\":[{\"line\":{\"colorbar\":{\"outlinewidth\":0,\"tickcolor\":\"rgb(237,237,237)\",\"ticklen\":6,\"ticks\":\"inside\"}},\"marker\":{\"colorbar\":{\"outlinewidth\":0,\"tickcolor\":\"rgb(237,237,237)\",\"ticklen\":6,\"ticks\":\"inside\"}},\"type\":\"scatter3d\"}],\"scattercarpet\":[{\"marker\":{\"colorbar\":{\"outlinewidth\":0,\"tickcolor\":\"rgb(237,237,237)\",\"ticklen\":6,\"ticks\":\"inside\"}},\"type\":\"scattercarpet\"}],\"scattergeo\":[{\"marker\":{\"colorbar\":{\"outlinewidth\":0,\"tickcolor\":\"rgb(237,237,237)\",\"ticklen\":6,\"ticks\":\"inside\"}},\"type\":\"scattergeo\"}],\"scattergl\":[{\"marker\":{\"colorbar\":{\"outlinewidth\":0,\"tickcolor\":\"rgb(237,237,237)\",\"ticklen\":6,\"ticks\":\"inside\"}},\"type\":\"scattergl\"}],\"scattermapbox\":[{\"marker\":{\"colorbar\":{\"outlinewidth\":0,\"tickcolor\":\"rgb(237,237,237)\",\"ticklen\":6,\"ticks\":\"inside\"}},\"type\":\"scattermapbox\"}],\"scatterpolargl\":[{\"marker\":{\"colorbar\":{\"outlinewidth\":0,\"tickcolor\":\"rgb(237,237,237)\",\"ticklen\":6,\"ticks\":\"inside\"}},\"type\":\"scatterpolargl\"}],\"scatterpolar\":[{\"marker\":{\"colorbar\":{\"outlinewidth\":0,\"tickcolor\":\"rgb(237,237,237)\",\"ticklen\":6,\"ticks\":\"inside\"}},\"type\":\"scatterpolar\"}],\"scatter\":[{\"fillpattern\":{\"fillmode\":\"overlay\",\"size\":10,\"solidity\":0.2},\"type\":\"scatter\"}],\"scatterternary\":[{\"marker\":{\"colorbar\":{\"outlinewidth\":0,\"tickcolor\":\"rgb(237,237,237)\",\"ticklen\":6,\"ticks\":\"inside\"}},\"type\":\"scatterternary\"}],\"surface\":[{\"colorbar\":{\"outlinewidth\":0,\"tickcolor\":\"rgb(237,237,237)\",\"ticklen\":6,\"ticks\":\"inside\"},\"colorscale\":[[0,\"rgb(20,44,66)\"],[1,\"rgb(90,179,244)\"]],\"type\":\"surface\"}],\"table\":[{\"cells\":{\"fill\":{\"color\":\"rgb(237,237,237)\"},\"line\":{\"color\":\"white\"}},\"header\":{\"fill\":{\"color\":\"rgb(217,217,217)\"},\"line\":{\"color\":\"white\"}},\"type\":\"table\"}]},\"layout\":{\"annotationdefaults\":{\"arrowhead\":0,\"arrowwidth\":1},\"autotypenumbers\":\"strict\",\"coloraxis\":{\"colorbar\":{\"outlinewidth\":0,\"tickcolor\":\"rgb(237,237,237)\",\"ticklen\":6,\"ticks\":\"inside\"}},\"colorscale\":{\"sequential\":[[0,\"rgb(20,44,66)\"],[1,\"rgb(90,179,244)\"]],\"sequentialminus\":[[0,\"rgb(20,44,66)\"],[1,\"rgb(90,179,244)\"]]},\"colorway\":[\"#F8766D\",\"#A3A500\",\"#00BF7D\",\"#00B0F6\",\"#E76BF3\"],\"font\":{\"color\":\"rgb(51,51,51)\"},\"geo\":{\"bgcolor\":\"white\",\"lakecolor\":\"white\",\"landcolor\":\"rgb(237,237,237)\",\"showlakes\":true,\"showland\":true,\"subunitcolor\":\"white\"},\"hoverlabel\":{\"align\":\"left\"},\"hovermode\":\"closest\",\"paper_bgcolor\":\"white\",\"plot_bgcolor\":\"rgb(237,237,237)\",\"polar\":{\"angularaxis\":{\"gridcolor\":\"white\",\"linecolor\":\"white\",\"showgrid\":true,\"tickcolor\":\"rgb(51,51,51)\",\"ticks\":\"outside\"},\"bgcolor\":\"rgb(237,237,237)\",\"radialaxis\":{\"gridcolor\":\"white\",\"linecolor\":\"white\",\"showgrid\":true,\"tickcolor\":\"rgb(51,51,51)\",\"ticks\":\"outside\"}},\"scene\":{\"xaxis\":{\"backgroundcolor\":\"rgb(237,237,237)\",\"gridcolor\":\"white\",\"gridwidth\":2,\"linecolor\":\"white\",\"showbackground\":true,\"showgrid\":true,\"tickcolor\":\"rgb(51,51,51)\",\"ticks\":\"outside\",\"zerolinecolor\":\"white\"},\"yaxis\":{\"backgroundcolor\":\"rgb(237,237,237)\",\"gridcolor\":\"white\",\"gridwidth\":2,\"linecolor\":\"white\",\"showbackground\":true,\"showgrid\":true,\"tickcolor\":\"rgb(51,51,51)\",\"ticks\":\"outside\",\"zerolinecolor\":\"white\"},\"zaxis\":{\"backgroundcolor\":\"rgb(237,237,237)\",\"gridcolor\":\"white\",\"gridwidth\":2,\"linecolor\":\"white\",\"showbackground\":true,\"showgrid\":true,\"tickcolor\":\"rgb(51,51,51)\",\"ticks\":\"outside\",\"zerolinecolor\":\"white\"}},\"shapedefaults\":{\"fillcolor\":\"black\",\"line\":{\"width\":0},\"opacity\":0.3},\"ternary\":{\"aaxis\":{\"gridcolor\":\"white\",\"linecolor\":\"white\",\"showgrid\":true,\"tickcolor\":\"rgb(51,51,51)\",\"ticks\":\"outside\"},\"baxis\":{\"gridcolor\":\"white\",\"linecolor\":\"white\",\"showgrid\":true,\"tickcolor\":\"rgb(51,51,51)\",\"ticks\":\"outside\"},\"bgcolor\":\"rgb(237,237,237)\",\"caxis\":{\"gridcolor\":\"white\",\"linecolor\":\"white\",\"showgrid\":true,\"tickcolor\":\"rgb(51,51,51)\",\"ticks\":\"outside\"}},\"xaxis\":{\"automargin\":true,\"gridcolor\":\"white\",\"linecolor\":\"white\",\"showgrid\":true,\"tickcolor\":\"rgb(51,51,51)\",\"ticks\":\"outside\",\"title\":{\"standoff\":15},\"zerolinecolor\":\"white\"},\"yaxis\":{\"automargin\":true,\"gridcolor\":\"white\",\"linecolor\":\"white\",\"showgrid\":true,\"tickcolor\":\"rgb(51,51,51)\",\"ticks\":\"outside\",\"title\":{\"standoff\":15},\"zerolinecolor\":\"white\"}}},\"xaxis\":{\"anchor\":\"y\",\"domain\":[0.0,1.0],\"title\":{\"text\":\"Employment Count\"}},\"yaxis\":{\"anchor\":\"x\",\"domain\":[0.0,1.0],\"title\":{\"text\":\"Category\"},\"categoryorder\":\"total descending\",\"showticklabels\":false},\"coloraxis\":{\"colorbar\":{\"title\":{\"text\":\"Median Income ($)\"}},\"colorscale\":[[0.0,\"rgb(255,255,204)\"],[0.125,\"rgb(255,237,160)\"],[0.25,\"rgb(254,217,118)\"],[0.375,\"rgb(254,178,76)\"],[0.5,\"rgb(253,141,60)\"],[0.625,\"rgb(252,78,42)\"],[0.75,\"rgb(227,26,28)\"],[0.875,\"rgb(189,0,38)\"],[1.0,\"rgb(128,0,38)\"]]},\"legend\":{\"tracegroupgap\":0,\"title\":{\"text\":\"Median Income\"}},\"margin\":{\"t\":60},\"barmode\":\"relative\",\"title\":{\"text\":\"US Employment by Job Category, Colored by Median Income\"},\"autosize\":false,\"width\":1000,\"height\":800},                        {\"responsive\": true}                    ).then(function(){\n",
       "                            \n",
       "var gd = document.getElementById('757be5df-c3bc-4fbf-8a3e-0e788de95d0d');\n",
       "var x = new MutationObserver(function (mutations, observer) {{\n",
       "        var display = window.getComputedStyle(gd).display;\n",
       "        if (!display || display === 'none') {{\n",
       "            console.log([gd, 'removed!']);\n",
       "            Plotly.purge(gd);\n",
       "            observer.disconnect();\n",
       "        }}\n",
       "}});\n",
       "\n",
       "// Listen for the removal of the full notebook cells\n",
       "var notebookContainer = gd.closest('#notebook-container');\n",
       "if (notebookContainer) {{\n",
       "    x.observe(notebookContainer, {childList: true});\n",
       "}}\n",
       "\n",
       "// Listen for the clearing of the current output cell\n",
       "var outputEl = gd.closest('.output');\n",
       "if (outputEl) {{\n",
       "    x.observe(outputEl, {childList: true});\n",
       "}}\n",
       "\n",
       "                        })                };                });            </script>        </div>"
      ]
     },
     "metadata": {},
     "output_type": "display_data"
    }
   ],
   "source": [
    "oes_major_df['Nice_Title'] = oes_major_df['OCC_TITLE'].str.replace(\" Occupations\", \"\")\n",
    "\n",
    "fig = px.bar(oes_major_df,\n",
    "             x='TOT_EMP',\n",
    "             y='Nice_Title',\n",
    "             color='Median Income ($)',\n",
    "             color_continuous_scale=px.colors.sequential.YlOrRd,\n",
    "             text='Nice_Title'\n",
    "        )\n",
    "\n",
    "fig.update_layout(yaxis={'title': 'Category', 'categoryorder': 'total descending'},\n",
    "                  title='US Employment by Job Category, Colored by Median Income',\n",
    "                  xaxis_title=\"Employment Count\",\n",
    "                  template='ggplot2',\n",
    "                  legend_title_text='Median Income',\n",
    "                  autosize=False,\n",
    "                  width=1000,\n",
    "                  height=800,\n",
    "                 )\n",
    "\n",
    "fig.update_yaxes(showticklabels=False)\n",
    "\n",
    "fig.show()"
   ]
  },
  {
   "cell_type": "markdown",
   "id": "4a3bb09e-7ec7-484b-8f4d-da54e7100ff1",
   "metadata": {},
   "source": [
    "My graph is fine, but I think it may be trying to do too much. I have a nice ascending order for total employment, but I can't order both employment and income at the same time, so my order is a bit messy. That said, I think it meets the other requirements well enough. The purpose is to compare employment and income."
   ]
  },
  {
   "cell_type": "code",
   "execution_count": null,
   "id": "7155c863-ae72-4588-9639-a2f8c2c70b4d",
   "metadata": {},
   "outputs": [],
   "source": []
  }
 ],
 "metadata": {
  "kernelspec": {
   "display_name": "Python 3 (ipykernel)",
   "language": "python",
   "name": "python3"
  },
  "language_info": {
   "codemirror_mode": {
    "name": "ipython",
    "version": 3
   },
   "file_extension": ".py",
   "mimetype": "text/x-python",
   "name": "python",
   "nbconvert_exporter": "python",
   "pygments_lexer": "ipython3",
   "version": "3.12.2"
  }
 },
 "nbformat": 4,
 "nbformat_minor": 5
}
